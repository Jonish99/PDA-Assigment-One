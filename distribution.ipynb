{
 "cells": [
  {
   "cell_type": "code",
   "execution_count": 1,
   "id": "3d8f0b49-a043-49d2-8f16-cc00337408b0",
   "metadata": {},
   "outputs": [],
   "source": [
    "#https://numpy.org/doc/stable/reference/random/generated/numpy.random.Generator.uniform.html#numpy.random.Generator.uniform"
   ]
  },
  {
   "cell_type": "code",
   "execution_count": 2,
   "id": "4c42142b-b33a-42e7-9bcf-af6ee36f7653",
   "metadata": {},
   "outputs": [],
   "source": [
    "import numpy as np"
   ]
  },
  {
   "cell_type": "code",
   "execution_count": 3,
   "id": "c2aed158-a3a1-49d3-8a99-376b4a55eee3",
   "metadata": {},
   "outputs": [],
   "source": [
    "#similar to rand function"
   ]
  },
  {
   "cell_type": "code",
   "execution_count": 4,
   "id": "7aaa78f2-ab21-4c1b-a825-e312ca253bfd",
   "metadata": {},
   "outputs": [],
   "source": [
    "s = np.random.default_rng().uniform(-1,0,1000) #1000 numbers between -1 and 0"
   ]
  },
  {
   "cell_type": "code",
   "execution_count": null,
   "id": "f35c3f8b-7cf7-4646-96fb-5f4db27ef1dd",
   "metadata": {},
   "outputs": [],
   "source": []
  },
  {
   "cell_type": "code",
   "execution_count": null,
   "id": "d1c9a875-b194-4e27-90d0-96ad45e2be34",
   "metadata": {},
   "outputs": [],
   "source": []
  },
  {
   "cell_type": "code",
   "execution_count": null,
   "id": "962400ca-b2d1-487d-b762-78607fd99149",
   "metadata": {},
   "outputs": [],
   "source": []
  },
  {
   "cell_type": "code",
   "execution_count": 5,
   "id": "7ce7a6e9-20b6-4e26-9821-efaf9f85c463",
   "metadata": {},
   "outputs": [],
   "source": [
    "np.random.default_rng().uniform(-1,0,1000)\n",
    "x= np.random.default_rng().uniform(-1,0,1000)"
   ]
  },
  {
   "cell_type": "code",
   "execution_count": null,
   "id": "2bb492cb-6220-4bdc-91a0-132c2abc1e83",
   "metadata": {},
   "outputs": [],
   "source": []
  },
  {
   "cell_type": "code",
   "execution_count": null,
   "id": "c6b16d14-8740-4d77-877b-830c58ee17a1",
   "metadata": {},
   "outputs": [],
   "source": []
  },
  {
   "cell_type": "code",
   "execution_count": 6,
   "id": "f19e7a63-6f3d-41fb-a118-967e48c9a8f7",
   "metadata": {},
   "outputs": [],
   "source": [
    "import matplotlib.pyplot as plt"
   ]
  },
  {
   "cell_type": "code",
   "execution_count": null,
   "id": "ed2d6e7a-eb19-4484-96d3-6099bfb99fe4",
   "metadata": {},
   "outputs": [],
   "source": []
  },
  {
   "cell_type": "code",
   "execution_count": 7,
   "id": "910aa488-dacc-4688-94c9-13055102417b",
   "metadata": {},
   "outputs": [
    {
     "data": {
      "text/plain": [
       "(array([ 71., 107.,  98.,  86., 102.,  96., 106., 117., 117., 100.]),\n",
       " array([-0.99992493, -0.90049056, -0.80105618, -0.70162181, -0.60218743,\n",
       "        -0.50275306, -0.40331869, -0.30388431, -0.20444994, -0.10501557,\n",
       "        -0.00558119]),\n",
       " <BarContainer object of 10 artists>)"
      ]
     },
     "execution_count": 7,
     "metadata": {},
     "output_type": "execute_result"
    },
    {
     "data": {
      "image/png": "[encoded data removed]",
      "text/plain": [
       "<Figure size 432x288 with 1 Axes>"
      ]
     },
     "metadata": {
      "needs_background": "light"
     },
     "output_type": "display_data"
    }
   ],
   "source": [
    "\n",
    "plt.hist(x)"
   ]
  },
  {
   "cell_type": "code",
   "execution_count": null,
   "id": "589ed3f3-9c79-442b-861b-7bd8e397e784",
   "metadata": {},
   "outputs": [],
   "source": []
  },
  {
   "cell_type": "code",
   "execution_count": 21,
   "id": "982220fb-0d8b-4838-b3bf-1f9df8964cff",
   "metadata": {},
   "outputs": [],
   "source": [
    "mu, sigma = 0, 0.1 # mean and standard deviation\n",
    "mu, sigma = 10, 100 # mean and standard deviation - gives spread\n",
    "#mu, sigma = 10, 0.1 # mean and standard deviation\n",
    "\n",
    "\n",
    "s = np.random.default_rng().normal(mu, sigma, 1000)"
   ]
  },
  {
   "cell_type": "code",
   "execution_count": 22,
   "id": "957e65a0-4646-47a8-abf5-53ab715f5bd3",
   "metadata": {},
   "outputs": [],
   "source": [
    "#np.random.default_rng().normal(mu, sigma, 1000)"
   ]
  },
  {
   "cell_type": "code",
   "execution_count": null,
   "id": "0d48aa75-fab1-41a2-b9c3-d1fa68cc32fe",
   "metadata": {},
   "outputs": [],
   "source": []
  },
  {
   "cell_type": "code",
   "execution_count": 23,
   "id": "fc797d1a-2ab7-4e25-8189-c9aabbffb770",
   "metadata": {},
   "outputs": [],
   "source": [
    "#Verify the mean and the variance:"
   ]
  },
  {
   "cell_type": "code",
   "execution_count": 24,
   "id": "ff25bab3-5689-4069-9930-1612d29eaac9",
   "metadata": {},
   "outputs": [
    {
     "data": {
      "text/plain": [
       "0.3172185579412652"
      ]
     },
     "execution_count": 24,
     "metadata": {},
     "output_type": "execute_result"
    }
   ],
   "source": [
    "abs(mu - np.mean(s))"
   ]
  },
  {
   "cell_type": "code",
   "execution_count": 25,
   "id": "1625f298-2ded-4d9b-b276-3f4692e28e38",
   "metadata": {},
   "outputs": [
    {
     "data": {
      "text/plain": [
       "3.9255537847605666"
      ]
     },
     "execution_count": 25,
     "metadata": {},
     "output_type": "execute_result"
    }
   ],
   "source": [
    "abs(sigma - np.std(s, ddof=1))"
   ]
  },
  {
   "cell_type": "code",
   "execution_count": 26,
   "id": "1ca33848-c0d7-43a5-baed-e4de1a5b51ed",
   "metadata": {},
   "outputs": [
    {
     "data": {
      "image/png": "[encoded data removed]",
      "text/plain": [
       "<Figure size 432x288 with 1 Axes>"
      ]
     },
     "metadata": {
      "needs_background": "light"
     },
     "output_type": "display_data"
    }
   ],
   "source": [
    "import matplotlib.pyplot as plt\n",
    "count, bins, ignored = plt.hist(s, 30, density=True)\n",
    "plt.plot(bins, 1/(sigma * np.sqrt(2 * np.pi)) *\n",
    "               np.exp( - (bins - mu)**2 / (2 * sigma**2) ),\n",
    "         linewidth=2, color='r')\n",
    "plt.show()"
   ]
  },
  {
   "cell_type": "code",
   "execution_count": null,
   "id": "4b8b82ff-c97c-4ece-bf44-90649bdeb296",
   "metadata": {},
   "outputs": [],
   "source": []
  },
  {
   "cell_type": "code",
   "execution_count": null,
   "id": "fb450b7d-7e23-4e86-9ce7-bde8715219b4",
   "metadata": {},
   "outputs": [],
   "source": []
  }
 ],
 "metadata": {
  "kernelspec": {
   "display_name": "Python 3",
   "language": "python",
   "name": "python3"
  },
  "language_info": {
   "codemirror_mode": {
    "name": "ipython",
    "version": 3
   },
   "file_extension": ".py",
   "mimetype": "text/x-python",
   "name": "python",
   "nbconvert_exporter": "python",
   "pygments_lexer": "ipython3",
   "version": "3.8.8"
  }
 },
 "nbformat": 4,
 "nbformat_minor": 5
}
