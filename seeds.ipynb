{
 "cells": [
  {
   "cell_type": "code",
   "execution_count": null,
   "id": "acb1d959-516c-467e-a3cd-5f5a5fbdd1d5",
   "metadata": {},
   "outputs": [],
   "source": [
    "#no numbers are random\n",
    "#pseudo random, key piece of info could predict numbers - seed\n",
    "#micorsecond\n",
    "#pi, patterns do not repeat\n",
    "#how does PCG64 outperform Mersenne Twister (MT19937)\n",
    "#https://www.cs.hmc.edu/tr/hmc-cs-2014-0905.pdf"
   ]
  }
 ],
 "metadata": {
  "kernelspec": {
   "display_name": "Python 3",
   "language": "python",
   "name": "python3"
  },
  "language_info": {
   "codemirror_mode": {
    "name": "ipython",
    "version": 3
   },
   "file_extension": ".py",
   "mimetype": "text/x-python",
   "name": "python",
   "nbconvert_exporter": "python",
   "pygments_lexer": "ipython3",
   "version": "3.8.8"
  }
 },
 "nbformat": 4,
 "nbformat_minor": 5
}
