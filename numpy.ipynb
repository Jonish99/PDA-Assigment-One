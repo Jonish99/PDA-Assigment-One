{
 "cells": [
  {
   "cell_type": "markdown",
   "id": "005be71f-9b14-47df-b8cc-ef554bdd16f2",
   "metadata": {},
   "source": [
    "# GMIT: Programming for Data Analysis. Assignment One\n",
    "# An explanation of aspects of the numpy.random package in Python\n",
    "### Jon Ishaque G003898244\n",
    "### November 2021"
   ]
  },
  {
   "cell_type": "markdown",
   "id": "26056f50-9505-4753-b9a5-9f4f58606005",
   "metadata": {},
   "source": [
    "This assignment response, as a jupyter notebookis an as investigation into the numpyu.random package in Python.\n",
    "It is a response to the following statements:\n",
    "1. Explain the overall purpose of the package.\n",
    "2. Explain the use of the \"Simple random data\" and \"Permutations\" functions.\n",
    "3. Explain the use and purpose of at least five “Distributions” functions.\n",
    "4. Explain the use of seeds in generating pseudorandom numbers.\n"
   ]
  },
  {
   "cell_type": "code",
   "execution_count": 2,
   "id": "9d0d56b5-569e-4abf-b3e6-c92666833777",
   "metadata": {
    "tags": []
   },
   "outputs": [],
   "source": [
    "#import Python libraries\n",
    "#from numpy.random import Generator, PCG64, SeedSequence\n",
    "import numpy as np\n",
    "import matplotlib.pyplot as plt # import matplotlib to show plots for numpy random arrays\n",
    "import seaborn as sns # an alternative plotting tool to matplot lib\n",
    "\n",
    "#create an alias of the of rng by calling the default random number generator.\n",
    "rng = np.random.default_rng() "
   ]
  },
  {
   "cell_type": "markdown",
   "id": "7f95844f-cfaa-4b1f-8e3b-ecb5b782e424",
   "metadata": {},
   "source": [
    "##### Check numpy version. There have been significant changes since numpy 1.15. Numpy installations less than 1.18 should be upgraded to a later version."
   ]
  },
  {
   "cell_type": "code",
   "execution_count": 2,
   "id": "dc404004-5d84-4cdb-9efe-99d2e5775303",
   "metadata": {},
   "outputs": [
    {
     "data": {
      "text/plain": [
       "'1.20.1'"
      ]
     },
     "execution_count": 2,
     "metadata": {},
     "output_type": "execute_result"
    }
   ],
   "source": [
    "np.version.version #determine numpy version "
   ]
  },
  {
   "cell_type": "markdown",
   "id": "9561588a-1fd1-4773-ae38-14068caa9f9d",
   "metadata": {},
   "source": [
    "### <Strong>Numpy explanation</Strong>\n",
    "\n",
    "Numpy is an open source Python libary which is designed to enable numerical computing. \n",
    "It was created in 2005 evolving from the Numeric and Numarray Python libraries. [1]\n",
    "    \n",
    "One of the key features of Numpy is it's use of arrays an NDarrays -multidimensional arrays. The random generator outputs random numbers in these numpy arrays.NumPy is the primary array programming library for the Python language. It has an essential role in research analysis pipelines in felds as diverse as physics, chemistry, astronomy, geoscience, biology, psychology, materials\n",
    "science, engineering, fnance and economics. [2]\n",
    "More over, these arrays are vectorised meaning that writing code in numpy is simpler.\n",
    "\n",
    "The basic syntax for numpy is  ```numpy.array```\n",
    "It creates a ndarray from any object exposing an array interface, or from any method that returns an array.\n",
    "\n",
    "numpy.array(object, dtype = None, copy = True, order = None, subok = False, ndmin = 0)\n",
    " \n",
    "The ndarray holds elements in memory in a continuous block with an indexing scheme mapping each location to the block.[3]\n",
    "\n",
    " \n",
    "Consider this example [4], : \n",
    "    \n",
    " ```\n",
    "    a=np.array([1,2,3])\n",
    "\n",
    "    b =np.array([1,2,3])\n",
    "  ```\n",
    "here we wish to multiply the values of the same index in arrays *a* and *b*. \n",
    "\n",
    "Compare numpy code\n",
    "  \n",
    "  ```\n",
    "  c = a * b\n",
    "  ```\n",
    "  \n",
    "  to\n",
    "  \n",
    "  regular python code \n",
    "   ```c = []\n",
    "for i in range(len(a)):\n",
    "    c.append(a[i]*b[i]) \n",
    " ```\n",
    " \n",
    " to achieve the same result:\n",
    " ``` \n",
    " c = [1,4,9]\n",
    " ```\n",
    "\n",
    "\n",
    "The same simple expression can be used if *a* and *b* were ndarrays, where as the regular python code \n",
    "  \n",
    "The size of an array is expressed as a single integer paramenter or for nd arrays the shape  is expressed as a tupple and can be set using the empty method of an np array or can be changed by adding elements to an array axis(es). An array's contents must be of one data type.\n",
    "\n",
    "Numpy is a whole library of Python packages which operate on or out of arrays, including the numpy.random package.\n",
    "\n",
    "### <Strong>1. Numpy.random</Strong>\n",
    "\n",
    "\"Random numbers are numbers that occur in a sequence such that two conditions are met: (1) the values are uniformly distributed over a defined interval or set, and (2) it is impossible to predict future values based on past or present ones. Random numbers are important in statistical analysis and probability theory.\" [4] Random sequences actually occur in nature  such as radio background *noise*, Random.org hash these random frequencies to produce truly random numbers.\n",
    "\n",
    "The property of a sequences randomness is also known as its entropy and an adjective describing randomness is entropic.\n",
    "\n",
    "In computing, there is need to be able to predict a set of random numbers (explained below). That they are predicable means they are not truly random and are know as pseudo random numbers and in computing are generated using a random number generator(RNG). RNGs use an algorithm to produce a sequence of random numbers, ultimately that sequence will recur, which is why they are not truly random numbers. \n",
    "\n",
    "Since Numpy vesrion 1.5 the RNG has been changed form RandomState to Generator. This assigment will consider use of the later, Generator method, which takes bits from PCG64 bitgenerator, this is discussed further in the final section.\n",
    "\n",
    "PCG64 bitgenerator is the default bitgenerator for Numpy but other bitgenerators can be imported and used.\n",
    "The default_rng method is used to initiate the generator in numpy, through much of this assignement the alias rng is used.\n",
    " \n",
    " ```rng = np.random.default_rng() ```"
   ]
  },
  {
   "cell_type": "markdown",
   "id": "fab743f8-2879-4216-bf9a-1bcfd14a9231",
   "metadata": {},
   "source": [
    "A simple example of the a numpy array producing an nd array 5 x 2 array and showing the dtype property."
   ]
  },
  {
   "cell_type": "code",
   "execution_count": 3,
   "id": "dd33d25b-bbe0-4d31-ae1c-0841d495546b",
   "metadata": {},
   "outputs": [
    {
     "data": {
      "text/plain": [
       "dtype('float64')"
      ]
     },
     "execution_count": 3,
     "metadata": {},
     "output_type": "execute_result"
    }
   ],
   "source": [
    "a=np.random.rand(5,2) \n",
    "a.dtype #demonstrate the data type of the array.\n"
   ]
  },
  {
   "cell_type": "code",
   "execution_count": 4,
   "id": "88e543a2-89e4-4626-bd4f-876412b75063",
   "metadata": {
    "tags": []
   },
   "outputs": [
    {
     "name": "stdout",
     "output_type": "stream",
     "text": [
      "[[0.26359067 0.34707362]\n",
      " [0.67057957 0.53564461]\n",
      " [0.76239592 0.89527274]\n",
      " [0.63977496 0.00234748]\n",
      " [0.33553573 0.08798927]]\n"
     ]
    }
   ],
   "source": [
    "print(a)"
   ]
  },
  {
   "cell_type": "markdown",
   "id": "993017b3-3696-417c-8e3c-31d2c7eb89e2",
   "metadata": {},
   "source": [
    "### <Strong>2. Simple Random data functions.</Strong>\n",
    "\n",
    "numpy random functions return numpy arrays of random values depending on the given parameters."
   ]
  },
  {
   "cell_type": "markdown",
   "id": "d5d9342d-9112-4d4a-bac7-71e275205a05",
   "metadata": {},
   "source": [
    "#### <strong>2.1 numpy.random.Generator.integers()</strong> [8]"
   ]
  },
  {
   "cell_type": "markdown",
   "id": "a8bb8dbd-d021-4242-85e1-eccb1f385a85",
   "metadata": {},
   "source": [
    "##### The integers() function returns an array of random integers. \n",
    "##### The range is determined by the low and high parameters. low is inclusive, high is exclusive (see endpoint below)\n",
    "##### If one boundary is ommitted then the given value is taken as high and low is zero.\n",
    "##### If the endpoint paramter (boolean) is True then then the high boundary is included in the range\n",
    "##### The size parameter defines the shape of the array. \n",
    "#####    - A single value will return 1 dimensional array of the value length\n",
    "#####    - A tuple of values will return and ndarray eg.(d,e,f) will return an array d x e x f.\n",
    "##### dtype optional parameter which defaults to in64 \n"
   ]
  },
  {
   "cell_type": "markdown",
   "id": "62a58d91-1c9f-426c-8a9f-292752624f9b",
   "metadata": {},
   "source": [
    "### <strong>Example 2.1.1.</strong>  - One dimension array with 10 items"
   ]
  },
  {
   "cell_type": "code",
   "execution_count": 5,
   "id": "6e121e68-d550-40b0-98df-74d05de4734f",
   "metadata": {},
   "outputs": [
    {
     "data": {
      "text/plain": [
       "array([1, 1, 1, 0, 1, 1, 1, 1, 0, 0], dtype=int64)"
      ]
     },
     "execution_count": 5,
     "metadata": {},
     "output_type": "execute_result"
    }
   ],
   "source": [
    "\n",
    "'''create an array of 10 items with a range of random integers between 0 & 1 (2). The there is only one range parameter so \n",
    "lower bound is taken as 0'''\n",
    "rng.integers(2, size=10)"
   ]
  },
  {
   "cell_type": "markdown",
   "id": "88942866-4d1c-428b-a895-ca7b2252899e",
   "metadata": {},
   "source": [
    "###  <strong>Example 2.1.2.</strong> - One dimension array with lower and upper bounds set"
   ]
  },
  {
   "cell_type": "code",
   "execution_count": 6,
   "id": "5528d08d-73f8-4e13-a911-a847966df7e6",
   "metadata": {
    "tags": []
   },
   "outputs": [
    {
     "data": {
      "text/plain": [
       "array([4, 5, 5, 5, 6, 6, 5, 6], dtype=int64)"
      ]
     },
     "execution_count": 6,
     "metadata": {},
     "output_type": "execute_result"
    }
   ],
   "source": [
    "'''create an array of 10 items with a range of random integers between 4 & 7 (4,8)'''\n",
    "rng.integers(4, 8, size=8)"
   ]
  },
  {
   "cell_type": "markdown",
   "id": "5ffc2c19-8367-41cf-add6-06f3b4d6b8be",
   "metadata": {},
   "source": [
    "##### <strong>Example 2.1.3.</strong> - Two dimensional array of integers. 5 arrays of 2 item arrays. Upper bound 6 = 0 to 5"
   ]
  },
  {
   "cell_type": "code",
   "execution_count": 7,
   "id": "e4877f44-19b3-4521-9ac8-518cce68321c",
   "metadata": {},
   "outputs": [
    {
     "data": {
      "text/plain": [
       "array([[1, 4],\n",
       "       [5, 2],\n",
       "       [0, 2],\n",
       "       [4, 5],\n",
       "       [0, 3]], dtype=int64)"
      ]
     },
     "execution_count": 7,
     "metadata": {},
     "output_type": "execute_result"
    }
   ],
   "source": [
    "'''create a 2 x 4(size)  array with a range of integers between 0 & 5 (6)'''\n",
    "rng.integers(6, size=(5, 2))\n",
    "#data returned as integer dtype=int64"
   ]
  },
  {
   "cell_type": "code",
   "execution_count": 8,
   "id": "b98d468c-5e52-4cf1-b41c-7ddf09705557",
   "metadata": {},
   "outputs": [],
   "source": [
    "##### <strong>Example 2.1.3.</strong> 3 x 2 x 4 ndarray - multimensional array"
   ]
  },
  {
   "cell_type": "code",
   "execution_count": 9,
   "id": "6eab96e6-d259-4468-8b97-516cac6d0abe",
   "metadata": {},
   "outputs": [
    {
     "data": {
      "text/plain": [
       "array([[[5, 0, 2, 1],\n",
       "        [4, 1, 4, 5]],\n",
       "\n",
       "       [[1, 5, 0, 3],\n",
       "        [3, 4, 0, 1]],\n",
       "\n",
       "       [[1, 4, 0, 1],\n",
       "        [0, 4, 1, 2]]], dtype=int64)"
      ]
     },
     "execution_count": 9,
     "metadata": {},
     "output_type": "execute_result"
    }
   ],
   "source": [
    "rng.integers(6, size=(3, 2, 4 ))"
   ]
  },
  {
   "cell_type": "markdown",
   "id": "cf45a3c6-5e2b-464e-95f9-3303051b3398",
   "metadata": {},
   "source": [
    "##### <strong>Example 2.1.5.</strong> - A single parameter of 3 values returns 3 values each with it's own upper boundary"
   ]
  },
  {
   "cell_type": "code",
   "execution_count": 10,
   "id": "ee9d4ee9-9889-4468-870e-2b537637c058",
   "metadata": {
    "tags": []
   },
   "outputs": [
    {
     "data": {
      "text/plain": [
       "array([1, 3, 3], dtype=int64)"
      ]
     },
     "execution_count": 10,
     "metadata": {},
     "output_type": "execute_result"
    }
   ],
   "source": [
    "rng.integers([3, 5, 10])"
   ]
  },
  {
   "cell_type": "markdown",
   "id": "9f538223-279f-4e34-b503-44af975ccea3",
   "metadata": {},
   "source": [
    "##### <strong>Example 2.1.6.</strong> - Two array parameters one of lower boundaries, one of upper boundaries\n",
    "\n",
    "The item in the array will be between 3 and 5, the second between 7 and 11 and the third between 12 and 14"
   ]
  },
  {
   "cell_type": "code",
   "execution_count": 12,
   "id": "ef60993e-3149-4bcd-a584-4bf2f397f32a",
   "metadata": {
    "tags": []
   },
   "outputs": [
    {
     "data": {
      "text/plain": [
       "array([ 5, 11, 14], dtype=int64)"
      ]
     },
     "execution_count": 12,
     "metadata": {},
     "output_type": "execute_result"
    }
   ],
   "source": [
    "rng.integers([3, 7, 12],[6, 12, 15])"
   ]
  },
  {
   "cell_type": "markdown",
   "id": "99bcfa0b-00ab-4004-8d13-a46876190256",
   "metadata": {},
   "source": [
    "##### <strong>Example 2.1.7</strong> - Setting the endpoint as True to include the high boundary (large array)\n"
   ]
  },
  {
   "cell_type": "code",
   "execution_count": 13,
   "id": "f4d67ad0-b8e6-4386-aca8-5ae1d86c5204",
   "metadata": {},
   "outputs": [
    {
     "data": {
      "text/plain": [
       "array([1, 4, 1, 6, 1, 2, 2, 7, 3, 7, 1, 7, 7, 6, 6, 7, 5, 5, 0, 0, 4],\n",
       "      dtype=int64)"
      ]
     },
     "execution_count": 13,
     "metadata": {},
     "output_type": "execute_result"
    }
   ],
   "source": [
    "rng.integers(0,7, size = 21, endpoint=True)"
   ]
  },
  {
   "cell_type": "markdown",
   "id": "4b4473a9-1b89-4692-b237-fbe41334206e",
   "metadata": {},
   "source": [
    "##### <strong>Example 2.1.7.</strong> - Single parameter, the only mandatory parameter is upper boundary. Size defaults to 1. It also returns a single integer not an array."
   ]
  },
  {
   "cell_type": "code",
   "execution_count": 14,
   "id": "a86ffb53-580b-4c5e-8a7a-d2ba5a25f3b6",
   "metadata": {},
   "outputs": [
    {
     "data": {
      "text/plain": [
       "6"
      ]
     },
     "execution_count": 14,
     "metadata": {},
     "output_type": "execute_result"
    }
   ],
   "source": [
    "rng.integers(10) "
   ]
  },
  {
   "cell_type": "markdown",
   "id": "45c4ffce-6606-4106-b9aa-389e59969076",
   "metadata": {},
   "source": [
    "##### <strong>Example 2.1.8.</strong> A single upper boundary and size of 1 will return an array with one value."
   ]
  },
  {
   "cell_type": "code",
   "execution_count": 14,
   "id": "e4ac0860-2a01-4357-bb1b-d928a013c2be",
   "metadata": {},
   "outputs": [
    {
     "data": {
      "text/plain": [
       "array([0], dtype=int64)"
      ]
     },
     "execution_count": 14,
     "metadata": {},
     "output_type": "execute_result"
    }
   ],
   "source": [
    "rng.integers(10,size=1) "
   ]
  },
  {
   "cell_type": "markdown",
   "id": "afb13bf9-98c3-41d2-a045-a48f74858275",
   "metadata": {},
   "source": [
    "##### <strong>Example 2.1.9.</strong>  Demonstrate the uniform nature of the numpy.random.Generator.integers function"
   ]
  },
  {
   "cell_type": "code",
   "execution_count": 17,
   "id": "3fe81cb6-d940-4aa8-99ee-652f22739d95",
   "metadata": {},
   "outputs": [],
   "source": [
    "arr =rng.integers(100,size = 10000) #assign to var for graphical output"
   ]
  },
  {
   "cell_type": "code",
   "execution_count": 16,
   "id": "07d0fa24-c960-4974-bdf1-f21d339e951e",
   "metadata": {},
   "outputs": [
    {
     "data": {
      "text/plain": [
       "(array([1020., 1013.,  969.,  969.,  981., 1032.,  984., 1057.,  983.,\n",
       "         992.]),\n",
       " array([ 0. ,  9.9, 19.8, 29.7, 39.6, 49.5, 59.4, 69.3, 79.2, 89.1, 99. ]),\n",
       " <BarContainer object of 10 artists>)"
      ]
     },
     "execution_count": 16,
     "metadata": {},
     "output_type": "execute_result"
    },
    {
     "data": {
      "image/png": "[encoded data removed]",
      "text/plain": [
       "<Figure size 432x288 with 1 Axes>"
      ]
     },
     "metadata": {
      "needs_background": "light"
     },
     "output_type": "display_data"
    }
   ],
   "source": [
    "plt.hist(arr)"
   ]
  },
  {
   "cell_type": "markdown",
   "id": "c453a4d5-800c-455c-8ead-ce1aa2e4e68d",
   "metadata": {},
   "source": [
    "The numbers have 1-100 have been divided into 10 bins, the frequecy in each bin is around 1,000 ie. 10,000/10"
   ]
  },
  {
   "cell_type": "markdown",
   "id": "090d3922-7ed4-4b99-872e-0a5312054430",
   "metadata": {},
   "source": [
    "***"
   ]
  },
  {
   "cell_type": "markdown",
   "id": "236dfa4f-aab2-45ec-97e2-c1d9c73ede61",
   "metadata": {
    "tags": []
   },
   "source": [
    "#### <strong>2.2 numpy.random.Generator.random()</strong> [9]"
   ]
  },
  {
   "cell_type": "markdown",
   "id": "b0bddcbb-f0ae-4b1b-b02c-36fce99b51b5",
   "metadata": {
    "tags": []
   },
   "source": [
    "##### The random() function returns an array of random floats between 0.0 and 1.0. \n",
    "##### The random function can accept no parameters, it will return a single floating point number between 0.0 and 1.0\n",
    "##### To generate random numbers with limits above 1.0 use positive multipliers before the expression and below 0.0 use negative multipliers after the expression.\n",
    "##### The size parameter will generate an ndarray  corresponding to values passed."
   ]
  },
  {
   "cell_type": "markdown",
   "id": "d23e7b7b-169f-4aa6-9582-7f5df0eae8c9",
   "metadata": {},
   "source": [
    "##### <strong>Example 2.2.1.</strong> No parameter, single float is return"
   ]
  },
  {
   "cell_type": "code",
   "execution_count": 18,
   "id": "98f8daf5-518d-4e86-a342-4fbef246e4ad",
   "metadata": {},
   "outputs": [],
   "source": [
    "#No size is passed so a single float is returned"
   ]
  },
  {
   "cell_type": "code",
   "execution_count": 19,
   "id": "b68e2d1e-2415-49b2-96ae-1faeb8fa286f",
   "metadata": {
    "tags": []
   },
   "outputs": [
    {
     "data": {
      "text/plain": [
       "0.9389060895767338"
      ]
     },
     "execution_count": 19,
     "metadata": {},
     "output_type": "execute_result"
    }
   ],
   "source": [
    "rng.random() "
   ]
  },
  {
   "cell_type": "markdown",
   "id": "0d135d07-58dc-4b4c-b07f-cb0965e32e47",
   "metadata": {},
   "source": [
    "##### <strong>Example 2.2.2.</strong> Multipy a single return value (between 0.1 and 1.0) to get a random number between 0 and the multiplier (-5)\n",
    "##### Place a positive multiplier before the expression and negative after the expression"
   ]
  },
  {
   "cell_type": "code",
   "execution_count": 20,
   "id": "252a1c12-e5be-4e88-abbf-9f8075085d3a",
   "metadata": {
    "tags": []
   },
   "outputs": [
    {
     "data": {
      "text/plain": [
       "-4.640147315577838"
      ]
     },
     "execution_count": 20,
     "metadata": {},
     "output_type": "execute_result"
    }
   ],
   "source": [
    "rng.random() - 5"
   ]
  },
  {
   "cell_type": "markdown",
   "id": "0f011489-c9b3-472b-aac3-8fa9e1081d7b",
   "metadata": {
    "tags": []
   },
   "source": [
    "##### <strong>Example 2.2.3.</strong>  Return a 2 dimension array of 3 arrays of two items each. No multiplier so each value between (between 0.1 and 1.0)"
   ]
  },
  {
   "cell_type": "code",
   "execution_count": 21,
   "id": "44fc5f4f-75c1-481a-91fa-900a79430a32",
   "metadata": {},
   "outputs": [
    {
     "data": {
      "text/plain": [
       "array([[0.43117703, 0.19911611],\n",
       "       [0.40859798, 0.97011131],\n",
       "       [0.09777558, 0.94881628]])"
      ]
     },
     "execution_count": 21,
     "metadata": {},
     "output_type": "execute_result"
    }
   ],
   "source": [
    "rng.random((3, 2)) "
   ]
  },
  {
   "cell_type": "markdown",
   "id": "af6fca8e-bdb2-4e4f-a7bf-792e51c409d6",
   "metadata": {},
   "source": [
    "##### <strong>Example 2.2.4.</strong>  Return a 2 dimension array of 3 arrays of 2 items each. Use a multiplier of -5 to create random numbers between 0 and -5"
   ]
  },
  {
   "cell_type": "code",
   "execution_count": 22,
   "id": "7541c530-8bea-40ea-91c3-9595660e2cb9",
   "metadata": {},
   "outputs": [
    {
     "data": {
      "text/plain": [
       "array([[-4.3754467 , -4.6059771 ],\n",
       "       [-4.54271244, -4.35305941],\n",
       "       [-4.87174841, -4.02226344]])"
      ]
     },
     "execution_count": 22,
     "metadata": {},
     "output_type": "execute_result"
    }
   ],
   "source": [
    "rng.random((3, 2)) - 5"
   ]
  },
  {
   "cell_type": "markdown",
   "id": "849e7784-faaf-4d0b-a610-1a8af94af237",
   "metadata": {},
   "source": [
    "##### <strong>Example 2.2.5.</strong>  Return a 2 dimension array of 4 arrays of 6 items each. Use a multiplier of 5 to create random numbers between 0 and 5, i.e. a floating point number between 0 and 1 multiplied by 5"
   ]
  },
  {
   "cell_type": "code",
   "execution_count": 23,
   "id": "88f842b6-2b41-42b0-8042-d852b35489f0",
   "metadata": {},
   "outputs": [
    {
     "data": {
      "text/plain": [
       "array([[4.06957936, 3.77826753, 3.11109112, 2.01460128, 0.1458073 ,\n",
       "        1.11295587],\n",
       "       [4.55426042, 0.66116115, 4.02511157, 3.27714847, 3.47769553,\n",
       "        4.82556621],\n",
       "       [0.83496672, 2.96722622, 2.28533682, 3.61111009, 1.68090208,\n",
       "        3.31319813],\n",
       "       [3.2893042 , 4.33238281, 0.22628121, 3.8296921 , 0.61669306,\n",
       "        3.59710834]])"
      ]
     },
     "execution_count": 23,
     "metadata": {},
     "output_type": "execute_result"
    }
   ],
   "source": [
    "5 * rng.random((4, 6))"
   ]
  },
  {
   "cell_type": "markdown",
   "id": "b0492074-2d56-47db-b22b-f8d4d5f69752",
   "metadata": {},
   "source": [
    "***"
   ]
  },
  {
   "cell_type": "markdown",
   "id": "ed234f2c-dcfc-4bfd-b50d-675ae5662d7a",
   "metadata": {},
   "source": [
    "#### <strong>2.3 numpy.random.Generator.choice</strong>[11]"
   ]
  },
  {
   "cell_type": "markdown",
   "id": "aa3fe0ee-4cec-4d92-bb8d-3c99e1deb4dd",
   "metadata": {},
   "source": [
    "# The choice function selects a random sample from a given array\n",
    "An array parameter is used from which to sample\n",
    "\n",
    "The size of the return array must be set, this has a relationship to the input array. \n",
    "\n",
    "The p parameter can created weighting to specific items from the sample array. This intends to create a non-uniform distribution. The size of the properties array must be equal to the sample array.\n",
    "\n",
    "Other data types such as strings can be used is the sample array.\n",
    "\n",
    "\n"
   ]
  },
  {
   "cell_type": "markdown",
   "id": "66341813-6d70-488b-8532-b7cd3baee8b3",
   "metadata": {},
   "source": [
    "##### <strong>Example 2.3.1.</strong> Using choice in its simplest form. choose 10 integers from a 1d array of integers between 0 and 20 and return an array\n",
    "###### "
   ]
  },
  {
   "cell_type": "code",
   "execution_count": 19,
   "id": "f0b1dec1-53b6-4f8d-bbe8-370b010c83eb",
   "metadata": {
    "tags": []
   },
   "outputs": [
    {
     "data": {
      "text/plain": [
       "array([ 7,  3,  0,  8, 13, 12,  2,  2,  3, 14], dtype=int64)"
      ]
     },
     "execution_count": 19,
     "metadata": {},
     "output_type": "execute_result"
    }
   ],
   "source": [
    "rng.choice(20, 10)"
   ]
  },
  {
   "cell_type": "markdown",
   "id": "ed43ad47-4496-48de-b300-098c937f3a94",
   "metadata": {
    "tags": []
   },
   "source": [
    "##### <strong>Example 2.3.2.</strong> like 1.3.1 but using strings\n",
    "Example 2.3.1 doesn't offer much more than the integers function.\n",
    "However, if the list is an array of strings it becomes more useful."
   ]
  },
  {
   "cell_type": "code",
   "execution_count": 20,
   "id": "20b83a07-7c90-4904-9e3b-f013222912ec",
   "metadata": {},
   "outputs": [],
   "source": [
    "arrWriters = ['Becket','Joyce','Wilde','Binchy','Behan','Doyle']"
   ]
  },
  {
   "cell_type": "code",
   "execution_count": 21,
   "id": "64c15651-7dae-40e2-b891-a667990b010e",
   "metadata": {},
   "outputs": [
    {
     "data": {
      "text/plain": [
       "array(['Binchy', 'Becket', 'Binchy', 'Binchy', 'Behan', 'Doyle', 'Behan',\n",
       "       'Wilde', 'Behan', 'Binchy'], dtype='<U6')"
      ]
     },
     "execution_count": 21,
     "metadata": {},
     "output_type": "execute_result"
    }
   ],
   "source": [
    "rng.choice(arrWriters, 10)"
   ]
  },
  {
   "cell_type": "markdown",
   "id": "1b745f46-8f46-4031-88e9-7097eafdf8df",
   "metadata": {},
   "source": [
    "##### <strong>Example 2.3.3.</strong> Testing the effect of using the replace option\n",
    "###### Using the same shape and range as example 1.3.1 but now using the replace=false parameter, guarantees list items are not repeated\n",
    "###### If the range is smaller than the array length then an error occurs because it is not possible to produce an array of unique items with those parameters"
   ]
  },
  {
   "cell_type": "code",
   "execution_count": 22,
   "id": "3be798b8-2ff7-4d1c-8256-3e3d9f846882",
   "metadata": {
    "tags": []
   },
   "outputs": [
    {
     "data": {
      "text/plain": [
       "array([ 0,  5, 16,  2, 17, 14, 10,  6, 18,  3], dtype=int64)"
      ]
     },
     "execution_count": 22,
     "metadata": {},
     "output_type": "execute_result"
    }
   ],
   "source": [
    "rng.choice(20, 10, replace=False)"
   ]
  },
  {
   "cell_type": "markdown",
   "id": "e9521748-2a2e-4e60-8c9f-d4905c9c4f3e",
   "metadata": {},
   "source": [
    "\n",
    "##### <strong>Example 2.3.4.</strong> -  Using the P parameter to weigh probablitly for items in a range."
   ]
  },
  {
   "cell_type": "markdown",
   "id": "fb632b32-5a88-454c-b68e-de9d67b64070",
   "metadata": {},
   "source": [
    "###### In this example, because the range length is 6, 0-5 there must be a p value set for each\n",
    "Becket = .1 or 10%\n",
    "\n",
    "Joyce = 0, or 0%, 1 will never occur in the output array\n",
    "\n",
    "Wilde = 0.2 or 20%\n",
    "\n",
    "Binchy = 0.6 or 60%, 3 will be the most frequent occurence in the array\n",
    "\n",
    "Behan = 0, or 0%, 4 will never occur in the output array \n",
    "\n",
    "Doyle = .1 or 10%"
   ]
  },
  {
   "cell_type": "code",
   "execution_count": 23,
   "id": "6cad0052-949a-4e31-9bd0-66413cc382c0",
   "metadata": {
    "tags": []
   },
   "outputs": [
    {
     "data": {
      "text/plain": [
       "array(['Binchy', 'Doyle', 'Binchy', 'Binchy', 'Wilde', 'Binchy', 'Binchy',\n",
       "       'Wilde', 'Binchy', 'Binchy'], dtype='<U6')"
      ]
     },
     "execution_count": 23,
     "metadata": {},
     "output_type": "execute_result"
    }
   ],
   "source": [
    "#replace default to true, but the parameter is used here as it is changed during development\n",
    "rng.choice(arrWriters, 10, replace=True, p=[0.1, 0, 0.2, 0.6, 0, 0.1])  #123456"
   ]
  },
  {
   "cell_type": "markdown",
   "id": "ef1d30e6-1341-43fe-a09f-f9c90a3bcaf9",
   "metadata": {},
   "source": [
    "##### Use P in plot with a much larger array, to illustrate the P parameter [10]"
   ]
  },
  {
   "cell_type": "code",
   "execution_count": 24,
   "id": "2ee94dd3-5b75-4b4a-a4db-097694ea0e22",
   "metadata": {},
   "outputs": [],
   "source": [
    "arr= rng.choice(arrWriters, 10000, replace=True, p=[0.1, 0, 0.2, 0.6, 0, 0.1])  "
   ]
  },
  {
   "cell_type": "code",
   "execution_count": 25,
   "id": "ee6bae4e-f54d-4708-9582-3811809f922d",
   "metadata": {},
   "outputs": [
    {
     "data": {
      "text/plain": [
       "Text(0, 0.5, 'Votes')"
      ]
     },
     "execution_count": 25,
     "metadata": {},
     "output_type": "execute_result"
    },
    {
     "data": {
      "image/png": "[encoded data removed]",
      "text/plain": [
       "<Figure size 432x288 with 1 Axes>"
      ]
     },
     "metadata": {
      "needs_background": "light"
     },
     "output_type": "display_data"
    }
   ],
   "source": [
    "plt.hist(arr)\n",
    "plt.title(\"Ireland's favourite writer\")\n",
    "plt.xlabel(\"Writers\")\n",
    "plt.ylabel(\"Votes\") #obviously the vote is rigged!"
   ]
  },
  {
   "cell_type": "markdown",
   "id": "868d3286-6cf0-4f44-b72e-7d917979d68b",
   "metadata": {},
   "source": [
    "##### <strong>Example 2.3.5.</strong> "
   ]
  },
  {
   "cell_type": "code",
   "execution_count": 26,
   "id": "5a5f2cd6-9a64-4c24-b93b-751d5e71e100",
   "metadata": {
    "tags": []
   },
   "outputs": [
    {
     "data": {
      "text/plain": [
       "array([ 8,  3,  0,  4, 14, 12, 16, 17, 18,  5], dtype=int64)"
      ]
     },
     "execution_count": 26,
     "metadata": {},
     "output_type": "execute_result"
    }
   ],
   "source": [
    "rng.choice(20, 10, shuffle=False, replace=False)"
   ]
  },
  {
   "cell_type": "code",
   "execution_count": 27,
   "id": "5206b314-0ee0-4deb-b154-62d1a7d10b07",
   "metadata": {},
   "outputs": [
    {
     "data": {
      "text/plain": [
       "array([ 4,  9,  5, 18, 13, 13, 19, 12, 16, 15], dtype=int64)"
      ]
     },
     "execution_count": 27,
     "metadata": {},
     "output_type": "execute_result"
    }
   ],
   "source": [
    "rng.choice(20, 10, shuffle=True)"
   ]
  },
  {
   "cell_type": "markdown",
   "id": "818e8623-042a-4ecb-9b2e-f1da85c52f44",
   "metadata": {},
   "source": [
    "##### <strong>Example 2.3.6.</strong> - passing a 3 x 3 2d array to sample into a size 10 item array.\n",
    "In this example there is range of 3 items which can be sampled and returned to the array. Each item is 3 item array, each of these are sampled as a whole and returned to the 10 item array resulting in a 3 x 10 nd array.\n",
    "\"If a has more than one dimension, the size shape will be inserted into the axis dimension, so the output ndim will be a.ndim - 1 + len(size).\" [11] (The default axis is 0)\n",
    "\n",
    "replace = True, because the size of the return array is greater(10) than the original (3)\n",
    "\n"
   ]
  },
  {
   "cell_type": "code",
   "execution_count": 28,
   "id": "c8230115-0c0b-4b9c-8abf-ee59d204979e",
   "metadata": {},
   "outputs": [
    {
     "data": {
      "text/plain": [
       "array([[6, 7, 8],\n",
       "       [3, 4, 5],\n",
       "       [3, 4, 5],\n",
       "       [6, 7, 8],\n",
       "       [3, 4, 5],\n",
       "       [6, 7, 8],\n",
       "       [3, 4, 5],\n",
       "       [6, 7, 8],\n",
       "       [0, 1, 2],\n",
       "       [0, 1, 2]])"
      ]
     },
     "execution_count": 28,
     "metadata": {},
     "output_type": "execute_result"
    }
   ],
   "source": [
    "\n",
    "rng.choice([[0, 1, 2,], [3, 4, 5], [6, 7, 8]], 10 , replace=True)\n"
   ]
  },
  {
   "cell_type": "markdown",
   "id": "3824a3e0-504a-499f-923f-660a3ddb50ef",
   "metadata": {},
   "source": [
    "##### <strong>Example 1.3.7.</strong> Using the axis paramter to change the shape of the output array from example 1.3.5"
   ]
  },
  {
   "cell_type": "code",
   "execution_count": 29,
   "id": "8ed74003-0c25-49c6-b9ae-5ec9aa9d9530",
   "metadata": {},
   "outputs": [
    {
     "data": {
      "text/plain": [
       "array([[2, 1, 0, 1, 1, 0, 2, 2, 0, 1],\n",
       "       [5, 4, 3, 4, 4, 3, 5, 5, 3, 4],\n",
       "       [8, 7, 6, 7, 7, 6, 8, 8, 6, 7]])"
      ]
     },
     "execution_count": 29,
     "metadata": {},
     "output_type": "execute_result"
    }
   ],
   "source": [
    "  rng.choice([[0, 1, 2,], [3, 4, 5], [6, 7, 8]], 10 , replace=True, axis = 1)"
   ]
  },
  {
   "cell_type": "markdown",
   "id": "6452ba3a-e30e-46f3-8db6-ecff507b18ca",
   "metadata": {},
   "source": [
    "***"
   ]
  },
  {
   "cell_type": "markdown",
   "id": "a33d0dcb-e7b5-4882-93d1-9c53b3ca9287",
   "metadata": {},
   "source": [
    "#### <strong>2.4 numpy.random.Generator.bytes()</strong>\n",
    "##### Returns an array of bytes. Seemingly in Hexdec format on this machine [11]"
   ]
  },
  {
   "cell_type": "code",
   "execution_count": 30,
   "id": "d31862bf-17cc-4a2f-acca-d01f816d2494",
   "metadata": {},
   "outputs": [
    {
     "data": {
      "text/plain": [
       "b'\\xa60\\xc8&l\\xac\\x0b\\xfdj_'"
      ]
     },
     "execution_count": 30,
     "metadata": {},
     "output_type": "execute_result"
    }
   ],
   "source": [
    "np.random.default_rng().bytes(10)\n"
   ]
  },
  {
   "cell_type": "code",
   "execution_count": 31,
   "id": "df9ef6a0-76e3-4b4b-8da4-d0a15de2759c",
   "metadata": {},
   "outputs": [
    {
     "data": {
      "text/plain": [
       "b'\\x9f\\xf0\\x1d(B`W\\xc4KY'"
      ]
     },
     "execution_count": 31,
     "metadata": {},
     "output_type": "execute_result"
    }
   ],
   "source": [
    "import binascii # binary, asci, byte conversion library\n",
    "x = np.random.default_rng().bytes(10) #create random bytes and output list\n",
    "x"
   ]
  },
  {
   "cell_type": "code",
   "execution_count": 32,
   "id": "9000a597-5eaf-4fb4-b385-69ff63cb9cfb",
   "metadata": {},
   "outputs": [
    {
     "data": {
      "text/plain": [
       "b'9ff01d28426057c44b59'"
      ]
     },
     "execution_count": 32,
     "metadata": {},
     "output_type": "execute_result"
    }
   ],
   "source": [
    "y = binascii.hexlify(x) #convert bytes to hexdec\n",
    "y"
   ]
  },
  {
   "cell_type": "code",
   "execution_count": 33,
   "id": "a02e6580-4de6-4d71-8831-65e24c135502",
   "metadata": {},
   "outputs": [
    {
     "name": "stdout",
     "output_type": "stream",
     "text": [
      "159\n",
      "240\n",
      "29\n",
      "40\n",
      "66\n",
      "96\n",
      "87\n",
      "196\n",
      "75\n",
      "89\n"
     ]
    }
   ],
   "source": [
    "#separating each byte in the list \n",
    "#loop through the array converts each byte to a decimal format.\n",
    "for bt in x:\n",
    "    print (bt)\n",
    "    #print(binascii.hexlify(bt))"
   ]
  },
  {
   "cell_type": "markdown",
   "id": "abbc8d46-40cb-4756-8e14-fc0d480c67ce",
   "metadata": {},
   "source": [
    "***\n",
    "***\n"
   ]
  },
  {
   "cell_type": "markdown",
   "id": "f03f161b-4187-4354-8139-f74551fb6ca8",
   "metadata": {},
   "source": [
    "### <Strong>3. Permutations functions.</Strong>"
   ]
  },
  {
   "cell_type": "markdown",
   "id": "68c9fab5-a0ac-46ec-ba33-c094b80e5523",
   "metadata": {},
   "source": [
    "###### Permutation functions change the arrangement of items in an array\n",
    "#### <strong> 3.1 numpy.random.Generator.shuffle()</strong>[12]\n",
    "The shuffle function takes an array and reorders the items in the list. It does this in place rather than make a copy in memory, this is slightly slower and loses the original order of the array."
   ]
  },
  {
   "cell_type": "markdown",
   "id": "6aa64e85-1c22-437a-a839-95867fbd0682",
   "metadata": {},
   "source": [
    "##### <strong>Example 3.1.1.</strong>Shuffle the value in a 1 dimension array.[13]"
   ]
  },
  {
   "cell_type": "code",
   "execution_count": 34,
   "id": "d26af84b-c6e1-4ff2-ba05-da417956b7af",
   "metadata": {},
   "outputs": [
    {
     "data": {
      "text/plain": [
       "array([0, 1, 2, 3, 4, 5, 6, 7, 8, 9])"
      ]
     },
     "execution_count": 34,
     "metadata": {},
     "output_type": "execute_result"
    }
   ],
   "source": [
    "rng = np.random.default_rng()\n",
    "\n",
    "#use the numpy arrange function to create an array of integers, in order from 0-9\n",
    "arr = np.arange(10)\n",
    "arr\n"
   ]
  },
  {
   "cell_type": "code",
   "execution_count": 35,
   "id": "d48e397e-368d-434b-80b2-9bea742e7913",
   "metadata": {},
   "outputs": [],
   "source": [
    "#shuffle the order of the array to create a new order.\n",
    "rng.shuffle(arr) #This does not return output -the shuffle occurs in place\n"
   ]
  },
  {
   "cell_type": "code",
   "execution_count": 36,
   "id": "dd61a651-0421-4d3a-abdb-ee7028fd32cf",
   "metadata": {},
   "outputs": [
    {
     "data": {
      "text/plain": [
       "array([8, 6, 1, 3, 2, 7, 4, 9, 5, 0])"
      ]
     },
     "execution_count": 36,
     "metadata": {},
     "output_type": "execute_result"
    }
   ],
   "source": [
    "arr #output the shuffled array"
   ]
  },
  {
   "cell_type": "markdown",
   "id": "6de6c9fb-14fe-42f3-8054-687743248a5e",
   "metadata": {},
   "source": [
    "##### <strong>Example 3.1.2.</strong> Shuffle the value in a 2 dimension array."
   ]
  },
  {
   "cell_type": "code",
   "execution_count": 50,
   "id": "d6ee6498-705d-4ad0-b090-7788d0dbbc56",
   "metadata": {},
   "outputs": [
    {
     "data": {
      "text/plain": [
       "array([[ 0,  1,  2,  3],\n",
       "       [ 4,  5,  6,  7],\n",
       "       [ 8,  9, 10, 11],\n",
       "       [12, 13, 14, 15]])"
      ]
     },
     "execution_count": 50,
     "metadata": {},
     "output_type": "execute_result"
    }
   ],
   "source": [
    "#Use the numpy arrange function to create an array of integers, in order from 0-15 an\n",
    "x = np.arange(16).reshape((4, 4))\n",
    "x\n"
   ]
  },
  {
   "cell_type": "code",
   "execution_count": 51,
   "id": "b44c1f5d-8c48-462a-bb0f-df9cd953ae7a",
   "metadata": {
    "tags": []
   },
   "outputs": [
    {
     "data": {
      "text/plain": [
       "array([[12, 13, 14, 15],\n",
       "       [ 4,  5,  6,  7],\n",
       "       [ 0,  1,  2,  3],\n",
       "       [ 8,  9, 10, 11]])"
      ]
     },
     "execution_count": 51,
     "metadata": {},
     "output_type": "execute_result"
    }
   ],
   "source": [
    "#use the shuffle function to shuffle the 4 arrays on axis 0 (default)\n",
    "rng.shuffle(x)\n",
    "x"
   ]
  },
  {
   "cell_type": "markdown",
   "id": "88fca7db-bdef-4ccd-8c5a-4a68f7bd450c",
   "metadata": {},
   "source": [
    "##### <strong>Example 3.1.3.</strong> Shuffle the value in a 2 dimension array on axis 1"
   ]
  },
  {
   "cell_type": "code",
   "execution_count": 39,
   "id": "eed718b0-5642-4823-82e4-6efd27973a88",
   "metadata": {},
   "outputs": [
    {
     "data": {
      "text/plain": [
       "array([[11, 10,  9,  8],\n",
       "       [ 3,  2,  1,  0],\n",
       "       [15, 14, 13, 12],\n",
       "       [ 7,  6,  5,  4]])"
      ]
     },
     "execution_count": 39,
     "metadata": {},
     "output_type": "execute_result"
    }
   ],
   "source": [
    "#using the same same array returned from example 2.1.2, shuffle the lists on axis 1, i.e the position of each internal array is shuffled\n",
    "rng.shuffle(x, axis=1)\n",
    "x"
   ]
  },
  {
   "cell_type": "code",
   "execution_count": null,
   "id": "d5dd8f9f-9233-4880-9bfc-aeb6112bccdb",
   "metadata": {},
   "outputs": [],
   "source": []
  },
  {
   "cell_type": "markdown",
   "id": "9148e946-1650-4ee8-a772-1d74ba13d1a5",
   "metadata": {},
   "source": [
    "#### <strong>3.2 numpy.random.Generator.permutation()</strong> [14]\n",
    "##### The permuation function takes an array and reorders the items in the list and returns a copy of the array\n",
    "\n",
    "Permutation returns a value which can be assigned to a new variable."
   ]
  },
  {
   "cell_type": "markdown",
   "id": "7b189118-bf18-47ac-a571-2915e24d8e5b",
   "metadata": {},
   "source": [
    "##### <strong>Example 3.2.1</strong>Shuffle the value in a 1 dimension array."
   ]
  },
  {
   "cell_type": "code",
   "execution_count": 52,
   "id": "928c22df-fe02-4982-a678-5de5ff98e310",
   "metadata": {},
   "outputs": [
    {
     "data": {
      "text/plain": [
       "array([0, 1, 2, 3, 4, 5, 6, 7, 8, 9])"
      ]
     },
     "execution_count": 52,
     "metadata": {},
     "output_type": "execute_result"
    }
   ],
   "source": [
    "\n",
    "x = np.arange(10)\n",
    "x"
   ]
  },
  {
   "cell_type": "code",
   "execution_count": 53,
   "id": "734347d2-5147-465b-afdd-078b86734dda",
   "metadata": {},
   "outputs": [
    {
     "data": {
      "text/plain": [
       "array([4, 6, 9, 7, 3, 2, 8, 5, 1, 0])"
      ]
     },
     "execution_count": 53,
     "metadata": {},
     "output_type": "execute_result"
    }
   ],
   "source": [
    "rng.permutation(x) #this returns output as a copy of the permuted array. "
   ]
  },
  {
   "cell_type": "code",
   "execution_count": 54,
   "id": "4a409ff5-aece-409f-aad6-eb033d962d01",
   "metadata": {},
   "outputs": [
    {
     "data": {
      "text/plain": [
       "array([0, 1, 2, 3, 4, 5, 6, 7, 8, 9])"
      ]
     },
     "execution_count": 54,
     "metadata": {},
     "output_type": "execute_result"
    }
   ],
   "source": [
    "x # now print x and see that it is unchanged and the permutation above is a copy which can be assigned to a variable"
   ]
  },
  {
   "cell_type": "markdown",
   "id": "2e30cff5-f421-4063-a6dd-119fed1d83df",
   "metadata": {},
   "source": [
    "##### <strong>Example 3.2.2</strong> Permutation on the values of a 2 dimension array. 0 axis"
   ]
  },
  {
   "cell_type": "code",
   "execution_count": 59,
   "id": "c39379ca-d1e0-46df-9456-3a8ee54ee035",
   "metadata": {
    "tags": []
   },
   "outputs": [],
   "source": [
    "x = np.arange(0, 15).reshape(3, 5)"
   ]
  },
  {
   "cell_type": "code",
   "execution_count": 56,
   "id": "a307d468-3558-4cbd-b3c3-b5875247216e",
   "metadata": {},
   "outputs": [
    {
     "data": {
      "text/plain": [
       "array([[ 0,  1,  2,  3,  4],\n",
       "       [ 5,  6,  7,  8,  9],\n",
       "       [10, 11, 12, 13, 14]])"
      ]
     },
     "execution_count": 56,
     "metadata": {},
     "output_type": "execute_result"
    }
   ],
   "source": [
    "x "
   ]
  },
  {
   "cell_type": "markdown",
   "id": "6b02469f-9bb3-4d4d-b7fc-f741dc6a2b2b",
   "metadata": {},
   "source": [
    "###### The columns of the array have been rearranged"
   ]
  },
  {
   "cell_type": "code",
   "execution_count": 51,
   "id": "483301cd-1069-4711-9f9e-8954f40eed3c",
   "metadata": {
    "tags": []
   },
   "outputs": [
    {
     "data": {
      "text/plain": [
       "array([[ 5,  6,  7,  8,  9],\n",
       "       [10, 11, 12, 13, 14],\n",
       "       [ 0,  1,  2,  3,  4]])"
      ]
     },
     "execution_count": 51,
     "metadata": {},
     "output_type": "execute_result"
    }
   ],
   "source": [
    "rng.permutation(x, axis=0)"
   ]
  },
  {
   "cell_type": "markdown",
   "id": "3b193c4e-f305-4fec-ac4d-6ccbebc19113",
   "metadata": {},
   "source": [
    "##### <strong>Example 3.2.3</strong> Permutation on the values of a 2 dimension array. 1 axis"
   ]
  },
  {
   "cell_type": "code",
   "execution_count": 52,
   "id": "132f926a-5394-4b95-9541-81c2d6b0acbc",
   "metadata": {},
   "outputs": [],
   "source": [
    "###### The rows of the array have been rearranged"
   ]
  },
  {
   "cell_type": "code",
   "execution_count": 53,
   "id": "445b6327-94f3-4a9c-9370-ad42f08212ac",
   "metadata": {},
   "outputs": [
    {
     "data": {
      "text/plain": [
       "array([[ 1,  4,  0,  2,  3],\n",
       "       [ 6,  9,  5,  7,  8],\n",
       "       [11, 14, 10, 12, 13]])"
      ]
     },
     "execution_count": 53,
     "metadata": {},
     "output_type": "execute_result"
    }
   ],
   "source": [
    "rng.permutation(x, axis=1)"
   ]
  },
  {
   "cell_type": "markdown",
   "id": "1f5edf35-e975-4480-9856-6ab60372c317",
   "metadata": {},
   "source": [
    "#### <strong>3.3 numpy.random.Generator.permuted()</strong>"
   ]
  },
  {
   "cell_type": "code",
   "execution_count": 54,
   "id": "dac66056-bb60-48ca-92df-dff17ed77370",
   "metadata": {},
   "outputs": [
    {
     "data": {
      "text/plain": [
       "array([[ 0,  1,  2,  3,  4],\n",
       "       [ 5,  6,  7,  8,  9],\n",
       "       [10, 11, 12, 13, 14]])"
      ]
     },
     "execution_count": 54,
     "metadata": {},
     "output_type": "execute_result"
    }
   ],
   "source": [
    "x = np.arange(0, 15).reshape(3, 5)\n",
    "\n",
    "x# This array is used to demonstrate the different connotatins of the permuted function"
   ]
  },
  {
   "cell_type": "markdown",
   "id": "e57d57f2-0c62-4aca-9756-1b696455dbc3",
   "metadata": {},
   "source": [
    "##### <strong>Example 2.3.1</strong> Permuted - axis = 0 "
   ]
  },
  {
   "cell_type": "code",
   "execution_count": 47,
   "id": "1a72b95b-abcd-479b-8f10-59ce799a0988",
   "metadata": {},
   "outputs": [],
   "source": [
    "y = rng.permuted(x,axis = 0 )"
   ]
  },
  {
   "cell_type": "code",
   "execution_count": 48,
   "id": "3c7a384f-fda4-4f80-874c-4745f866209d",
   "metadata": {},
   "outputs": [
    {
     "data": {
      "text/plain": [
       "array([[10, 11,  2, 13, 14],\n",
       "       [ 5,  6,  7,  3,  4],\n",
       "       [ 0,  1, 12,  8,  9]])"
      ]
     },
     "execution_count": 48,
     "metadata": {},
     "output_type": "execute_result"
    }
   ],
   "source": [
    "y # the values of the same position in each array have been shuffled across the arrays"
   ]
  },
  {
   "cell_type": "markdown",
   "id": "44def35a-618b-4088-9be5-3a3fab4c3a51",
   "metadata": {},
   "source": [
    "##### <strong>Example 2.3.2</strong> Permuted - axis = 1 "
   ]
  },
  {
   "cell_type": "code",
   "execution_count": 49,
   "id": "bbf42cb9-7833-4f9c-adbc-0f1d69f0e478",
   "metadata": {
    "tags": []
   },
   "outputs": [
    {
     "data": {
      "text/plain": [
       "array([[ 1,  4,  0,  2,  3],\n",
       "       [ 8,  9,  6,  7,  5],\n",
       "       [11, 13, 12, 14, 10]])"
      ]
     },
     "execution_count": 49,
     "metadata": {},
     "output_type": "execute_result"
    }
   ],
   "source": [
    "y = rng.permuted(x,axis = 1 )\n",
    "\n",
    "y"
   ]
  },
  {
   "cell_type": "markdown",
   "id": "7733b254-996c-4c43-ba60-1282c76b7fd3",
   "metadata": {},
   "source": [
    "##### <strong>Example 3.3.2</strong> Permuted - no axis parameter passed"
   ]
  },
  {
   "cell_type": "code",
   "execution_count": 58,
   "id": "4993f549-9da6-4245-a19c-3a58ce24eee3",
   "metadata": {
    "tags": []
   },
   "outputs": [],
   "source": [
    "y = rng.permuted(x)"
   ]
  },
  {
   "cell_type": "markdown",
   "id": "be39d192-5859-4dd7-a27f-090ed4b01705",
   "metadata": {},
   "source": [
    "###### The array is flattened, values are shuffled, and the array is returned in the same shape."
   ]
  },
  {
   "cell_type": "code",
   "execution_count": 60,
   "id": "a8849238-4b95-45ae-b856-6d6decffa7a5",
   "metadata": {},
   "outputs": [
    {
     "data": {
      "text/plain": [
       "array([[ 1,  4,  0,  2,  3],\n",
       "       [ 8,  9,  6,  7,  5],\n",
       "       [11, 13, 12, 14, 10]])"
      ]
     },
     "execution_count": 60,
     "metadata": {},
     "output_type": "execute_result"
    }
   ],
   "source": [
    "y"
   ]
  },
  {
   "cell_type": "code",
   "execution_count": 61,
   "id": "66159d78-f6ec-46e0-98ed-98f5e32e87cb",
   "metadata": {},
   "outputs": [],
   "source": [
    "#Add notes about axis for all permuations"
   ]
  },
  {
   "cell_type": "markdown",
   "id": "c0a3ee04-3c81-433d-9aac-c278e42b9ada",
   "metadata": {},
   "source": [
    "***\n",
    "***"
   ]
  },
  {
   "cell_type": "markdown",
   "id": "988b140e-5cdb-432f-85e6-f528fcade735",
   "metadata": {},
   "source": [
    "### <Strong>4. Distributions functions</Strong> "
   ]
  },
  {
   "cell_type": "markdown",
   "id": "debcd869-1d0b-4b47-b75b-fc40182b891a",
   "metadata": {
    "tags": []
   },
   "source": [
    "Data distribution in data science is born out probability in mathematics. Probability describes the likelihood of an event occurring. Possible events are unknown until they are tested.A random variable is  Probabilty is very useful in everyday life for inviduals and organisations: A walker may not take an umbrella out if it is likely to be sunny; an investor may not buy a certain stock if the likelihood is loss in value. Analysis testing by data scientists provide both the walker and investor with probabilities of the liklihood of respective events. [15],[16]\n",
    "\n",
    "In probablity a random variable is the measurement of a possible outcome of a test. For example, the the birthweight of a child. One birthweight would be one random variable. A probabiltiy distribution will determine the likely hood that the birthweight would occur between a set of any two birth weights [18],[19]\n",
    " \n",
    "### Discrete and Continous data random variables.\n",
    "\n",
    "Data in a dataset can be discrete or continous. \n",
    "\n",
    "Discrete data can only take certain values, for example,\n",
    "the number of students in a teaching group can only be an integer. Discrete values do not have to be integers, for example, the smallest common denomintor of the size milk sold in a shop could 0.5 litres so a dataset of units of milk sold could have the values [10,10.5,11,11.5 ...]. A definition of a discrete random variable: where \"Values constitute a finite or countably infinite set\" [18] They allow for the computation of the *probability mass function (PMF)* [19].  It allows for the calculation of any 'event' or combination of 'events' within the set.\n",
    "\n",
    "Continuous data is where the data can take any value, for example heights, temperature or weights. (Not to blur with the birthweight example above, a weight of course could be discrete or continous depending on the accuracy of measurment). The probabilty distribtion of continuous random variablee set is derived from the *probabiltiy density function* which in turn allows the Cumaltive Distribution Function to give probabilty between two possible random variables, for example the possiblity of an an event being lying between two points on the continouse plot (axis).[20]\n",
    "\n",
    "Continous data can sometimes be considered as discrete. For example, data set of salary values is continous, however, an analyst may choose to group salary values into discrete values for example, 20000-24999, 25000-29999, 30000-34999 etc.\n",
    "\n",
    "A data distribution is all values in a data set and how often they occur. [17] Named data distrubtions describe different relationships between values and occurences. The frequency of values can be represented in a histogram giving a frequency curve and can be plotted in python. \n",
    "\n",
    "However, different mathematical probability distributions map to real life scenarios. Data scientists can use these disribution to investigate data sets.\n",
    "\n",
    "The frequency of values can be represented in a histogram giving a frequency curve and can be plotted in python. In data science these are known as probability density plots.  The area below the curve represents the posiblity of an outcome, the sum of the area is all posibilities in the sample.\n",
    "\n",
    "Numpy generates distributions of random numbers based on the probability properties of each distribution.\n",
    "\n"
   ]
  },
  {
   "cell_type": "markdown",
   "id": "2af8ee54-b306-49b5-8d46-57500bebf15e",
   "metadata": {},
   "source": [
    "#### <strong> 4.1 numpy.random.Generator.uniform </strong> [21]"
   ]
  },
  {
   "cell_type": "markdown",
   "id": "09fc2d57-8f95-4de4-9129-24b66a628b30",
   "metadata": {},
   "source": [
    "A uniform distribution is where the probability of value occuring is equal for all values. Many of the  examples above have demonstrated uniform distribution where each value is as likely to occur as another(except choice which allowed us effect probability of a random value. \n",
    "\n",
    "The numbers output from the Generator.uniform between and upper an lower boundary is the same for each number. Outside the range the proablabitly is zero. [22]\n",
    "\n",
    "Visually the curve(shape) of this distribution is a rectangle as shown below.\n",
    "\n",
    "random.Generator.uniform(low=0.0, high=1.0, size=None)\n",
    "\n",
    "The numpy uniform distribution generator takes an upper and lower boundary of the value range. Size is the total number of values in the plot and can be an nd array passed as tuple.\n",
    "\n"
   ]
  },
  {
   "cell_type": "code",
   "execution_count": 63,
   "id": "e0af541b-cf7d-4931-afd6-03fa2a2bd0c8",
   "metadata": {},
   "outputs": [
    {
     "data": {
      "image/png": "[encoded data removed]",
      "text/plain": [
       "<Figure size 432x288 with 1 Axes>"
      ]
     },
     "metadata": {
      "needs_background": "light"
     },
     "output_type": "display_data"
    }
   ],
   "source": [
    "\n",
    "s = np.random.default_rng().uniform(-1,0,(1000))\n",
    "\n",
    "'''In this example because the upper and lower boundary are 1 and 0 respecively. The histogram has been drawn with 10 bins.\n",
    "The proablity is of an a value occuring in any particular bin is determined by the sum of its area beneath 1. In this case all bins\n",
    "sum to approximately 1.  \n",
    "''' [20]\n",
    "label = \"Plot 4.1.1 Histogram showing uniform distribution and its density curve\"\n",
    "#the density parameter shows the line of best fit or the curve of the distribution \n",
    "#- the density curve is a horizontal line in a uniform \n",
    "#count is the array, bins is the interval\n",
    "count, bins, ignored = plt.hist(s, 6, density=True)\n",
    "\n",
    "#plot\n",
    "plt.plot(bins, np.ones_like(bins),  linewidth=2, color='r')\n",
    "plt.title(label,loc='center')\n",
    "plt.show()\n"
   ]
  },
  {
   "cell_type": "markdown",
   "id": "f9b5e59b-6290-471a-867a-935691c4f284",
   "metadata": {},
   "source": [
    "#### <strong> 4.2 numpy.random.Generator.normal</strong> [27]"
   ]
  },
  {
   "attachments": {
    "a5e269c1-6f7f-4eeb-9c1f-aa372d54dda6.png": {
     "image/png": "[encoded data removed]"
    }
   },
   "cell_type": "markdown",
   "id": "4a77149b-a2a7-4884-91b6-eb400cb75f81",
   "metadata": {},
   "source": [
    "The normal distributon, also know as a Gaussian distribution, has most of of its values more likely ot occur close \n",
    "to the mean value, equal distribution on both sides of the mean. 68% of values fall within in one standard deviation\n",
    "from the mean and 95% within two standard deviations from the mean.[23] \n",
    "The standard deviation is the amount of dispersion from the mean of a population. (If the population is a \n",
    "sample then it is known as *sample standard deviation*). [24] \n",
    "\n",
    "It is calculated by Calculating the mean (of a set of values)\n",
    "For each value subtract the mean and square the result to give variance\n",
    "Find the mean of the squared values\n",
    "Find the square root of the squared variance [25]\n",
    "\n",
    "One of the properies of a normal distribution is that the mode, mean and median are the same. This means gives the probabiltiy distribution curve of a nomral distribution a symmetrical shape.  A real example of normal distributin is shoe size in the US [26]\n",
    "\n",
    "![unimodal3-768x411.png](attachment:a5e269c1-6f7f-4eeb-9c1f-aa372d54dda6.png)\n"
   ]
  },
  {
   "cell_type": "markdown",
   "id": "5abbb767-d1ef-4d75-a95c-2dca3b6fcf99",
   "metadata": {
    "tags": []
   },
   "source": [
    "To create a sample with the normal function, the parameters, mean, scale or standard deviation, \n",
    "and size must be passed to the function\n",
    "np.random.default_rng().normal(loc, scale, size)\n",
    "\n",
    "In this example, the mean is taken to be 100, this means this the most frequent values will be\n",
    "very close to 100 and there will be approximately an equal number of vales above and below 100.\n",
    "The scale or standard deviation is set to 50, this means 68% of the values will be between 50 and 150.\n"
   ]
  },
  {
   "cell_type": "code",
   "execution_count": 64,
   "id": "8e532235-6157-430a-8edf-6543328c644f",
   "metadata": {},
   "outputs": [],
   "source": [
    "\n",
    "mu, sigma = 100, 50 # mean and standard deviation\n",
    "s = np.random.default_rng().normal(mu, sigma, 10000)\n",
    "\n",
    "label = \"Plot 4.2.1 Histogram showing normal distribution and its density curve\""
   ]
  },
  {
   "cell_type": "code",
   "execution_count": 65,
   "id": "6c21998c-80d7-4720-b63b-683f0bb44060",
   "metadata": {},
   "outputs": [
    {
     "data": {
      "text/plain": [
       "array([ 32.19474984,  31.15842502, 108.31398436, ..., 155.04584775,\n",
       "        91.51866349,  86.33643592])"
      ]
     },
     "execution_count": 65,
     "metadata": {},
     "output_type": "execute_result"
    }
   ],
   "source": [
    "abs(s)"
   ]
  },
  {
   "cell_type": "code",
   "execution_count": 66,
   "id": "939282f5-0c5d-4a90-b157-d955e2448b64",
   "metadata": {
    "tags": []
   },
   "outputs": [
    {
     "data": {
      "image/png": "[encoded data removed]",
      "text/plain": [
       "<Figure size 432x288 with 1 Axes>"
      ]
     },
     "metadata": {
      "needs_background": "light"
     },
     "output_type": "display_data"
    }
   ],
   "source": [
    "import matplotlib.pyplot as plt\n",
    "count, bins, ignored = plt.hist(s, 30, density=True) \n",
    "#the density parameter shows the line of best fit or the curve of the distribution \n",
    "#- the density curve\n",
    "plt.plot(bins, 1/(sigma * np.sqrt(2 * np.pi)) *\n",
    "               np.exp( - (bins - mu)**2 / (2 * sigma**2) ),\n",
    "         linewidth=2, color='r')\n",
    "\n",
    "plt.title(label,loc='center')\n",
    "plt.show()"
   ]
  },
  {
   "cell_type": "code",
   "execution_count": 67,
   "id": "78b1d52e-3579-47a5-b8c1-b21bc200b796",
   "metadata": {},
   "outputs": [
    {
     "data": {
      "text/plain": [
       "0.6812028158799848"
      ]
     },
     "execution_count": 67,
     "metadata": {},
     "output_type": "execute_result"
    }
   ],
   "source": [
    "abs(mu - np.mean(s))"
   ]
  },
  {
   "cell_type": "code",
   "execution_count": 68,
   "id": "ad6822b6-a526-402e-8c8e-71645cd00173",
   "metadata": {},
   "outputs": [
    {
     "data": {
      "text/plain": [
       "0.06624882880399952"
      ]
     },
     "execution_count": 68,
     "metadata": {},
     "output_type": "execute_result"
    }
   ],
   "source": [
    "abs(sigma - np.std(s, ddof=1))"
   ]
  },
  {
   "cell_type": "code",
   "execution_count": 69,
   "id": "1b1950fb-4e17-43c5-a526-924c0d2faf7c",
   "metadata": {},
   "outputs": [],
   "source": [
    "#to accurately calculate the probability in a normal distribution we can use the following code from Statckoverflow\n",
    "#In this case the point of interest is between two data points \n",
    "from scipy.stats import norm\n",
    "\n",
    "data_start = 60\n",
    "data_end = 80\n",
    "data_points = 21\n",
    "data = np.linspace(data_start, data_end, data_points)\n",
    "\n",
    "point_of_interest = 70\n",
    "#mu = np.mean(data)\n",
    "#sigma = np.std(data)                                   \n",
    "interval = (data_end - data_start) / (data_points - 1)\n",
    "probability = norm.pdf(point_of_interest, loc=mu, scale=sigma) * interval\n",
    "#https://stackoverflow.com/questions/12412895/how-to-calculate-probability-in-a-normal-distribution-given-mean-standard-devi"
   ]
  },
  {
   "cell_type": "code",
   "execution_count": 70,
   "id": "fe6cbb3a-4cd7-4111-a646-3b190c898394",
   "metadata": {},
   "outputs": [
    {
     "data": {
      "text/plain": [
       "0.006664492057835993"
      ]
     },
     "execution_count": 70,
     "metadata": {},
     "output_type": "execute_result"
    }
   ],
   "source": [
    "probability"
   ]
  },
  {
   "cell_type": "code",
   "execution_count": null,
   "id": "cd2a90e5-39ec-45dc-9701-374be6870e5b",
   "metadata": {},
   "outputs": [],
   "source": []
  },
  {
   "cell_type": "markdown",
   "id": "e645f156-686d-4fb2-8ecf-baaf61351815",
   "metadata": {},
   "source": [
    "#### <strong> 3.3 numpy.random.Generator.binomial</strong>\n",
    "numpy.random.Generator.binomial[28][29]\n",
    "Binomial distribution is one of the most popular distributions in data science. It deals with the probability of success of an event which has only two possible outcomes in a series of independent expreiments \"In other words, binomial distribution models the probability of observing either success or failure outcome in an independent experiment that is repeated multiple times.\" [29]\n",
    "\n",
    "Tossing a coin will always generate either heads or tails. (0 or 1). There are only two possible values for the random variable. The binomial distribution can estimate the probability of the how many heads or tails will occur in sequece of coin tossing events. For example , if a coin was tossed 20 times, what is the probability that 7 of the tosses will be heads. \n",
    "One event, e.g. a coin toss, is known as Benoulli trial. However the single event could be multiple 10 coin tosses and the success could be, out of 10 coin toesses, 7 were head & 3 were tails/Or they were not.\n",
    "\n",
    "The binomial distribution takes the variables probability and number of times the experiment is conducted. The binomial distribution is a discrete distribution because it is a measure of events which have no inbetween.\n",
    "\n",
    "In numpy the binomial function takes 3 parameters, n - the number of trials, p - the probability of \n",
    "of an event occurring, size - the shape of the output array"
   ]
  },
  {
   "cell_type": "code",
   "execution_count": 75,
   "id": "22fa7275-ad39-4923-a4dd-4c1daa857108",
   "metadata": {},
   "outputs": [
    {
     "data": {
      "image/png": "[encoded data removed]",
      "text/plain": [
       "<Figure size 360x360 with 1 Axes>"
      ]
     },
     "metadata": {
      "needs_background": "light"
     },
     "output_type": "display_data"
    }
   ],
   "source": [
    "from numpy import random #this code from https://www.statology.org/binomial-distribution-python/\n",
    "import matplotlib.pyplot as plt\n",
    "import seaborn as sns\n",
    "1000\n",
    "x = random.binomial(n=10, p=0.5, size=1000)\n",
    "\n",
    "sns.displot(x, kde=False)\n",
    "\n",
    "plt.show()"
   ]
  },
  {
   "cell_type": "markdown",
   "id": "2066c6bc-07fb-4d97-ac08-e9d82a196ff4",
   "metadata": {},
   "source": [
    "The above plot shows an approximation to the normal distribution - except this is discrete distribution. The x axis shows how many times heads was shown during 20 trials. The y axis each number of successes occured in 10,000 experments\n",
    "https://www.statology.org/binomial-distribution-python/. Where count is the number of experiments heads was tossed out of 10 throws on the X axis"
   ]
  },
  {
   "cell_type": "markdown",
   "id": "517c7726-99aa-402f-9880-a6fd923d253f",
   "metadata": {
    "tags": []
   },
   "source": [
    "A coin toss itself is"
   ]
  },
  {
   "cell_type": "code",
   "execution_count": 72,
   "id": "22d29266-dfd5-4012-a528-f542bd6343f6",
   "metadata": {},
   "outputs": [
    {
     "data": {
      "text/plain": [
       "0.3307"
      ]
     },
     "execution_count": 72,
     "metadata": {},
     "output_type": "execute_result"
    }
   ],
   "source": [
    "(sum(rng.binomial(10, 1/6, 10000) == 1 )/10000) #The probablitly of any number been"
   ]
  },
  {
   "cell_type": "markdown",
   "id": "99dc6cb3-300e-4e0c-88c4-b77abe079000",
   "metadata": {},
   "source": [
    "Can a Bernouli process be applied to a dice roll? Yes. Out of 10 dice rolls, the experiment is: What is the probabilty that a 3 was rolled on 1 throw? - sucess or fail.\n",
    "What is the probability a 3 was rolled on 2 throws? success or fail? etc..\n",
    "This can also be ploted as a binomial distribution."
   ]
  },
  {
   "cell_type": "code",
   "execution_count": 77,
   "id": "36dac774-8fad-404a-94d7-c20123b11998",
   "metadata": {
    "tags": []
   },
   "outputs": [
    {
     "name": "stdout",
     "output_type": "stream",
     "text": [
      "The probability of rolling any given number on 1 throw(s)   is: 0.3238\n",
      "The probability of rolling any given number on 2 throw(s)   is: 0.2857\n",
      "The probability of rolling any given number on 3 throw(s)   is: 0.1503\n",
      "The probability of rolling any given number on 4 throw(s)   is: 0.0548\n",
      "The probability of rolling any given number on 5 throw(s)   is: 0.0121\n",
      "The probability of rolling any given number on 6 throw(s)   is: 0.0019\n",
      "The probability of rolling any given number on 7 throw(s)   is: 0.0002\n",
      "The probability of rolling any given number on 8 throw(s)   is: 0.0001\n",
      "The probability of rolling any given number on 9 throw(s)   is: 0.0\n",
      "The probability of rolling any given number on 10 throw(s)   is: 0.0\n"
     ]
    }
   ],
   "source": [
    "n, p ,x = 10, 1/6 ,10000 # 10 rolls of the dice, probabiltiy that it could be any of 1-6, tested 10,times\n",
    "#print((sum(rng.binomial(10, 1/6, 10000) == 1 )/10000) ) what is the probatilty of rolling any number on the 1st throw\n",
    "\n",
    "#use a lamda function to calculate p for upto 10 throws.\n",
    "y = lambda z:sum(rng.binomial(n,p, x) == z )/10000\n",
    "i = 1 \n",
    "while i < 11 :\n",
    "    print(\"The probability of rolling any given number on {0} throw(s)   is: {1}\".format (i,np.mean(y(i))))\n",
    "    i= i+1 \n"
   ]
  },
  {
   "cell_type": "markdown",
   "id": "5cc68f25-d0e2-49e6-afd4-883779aac6d3",
   "metadata": {},
   "source": [
    "The following code has been taken from \n",
    "https://medium.com/@tharakau/what-is-binomial-distribution-and-how-to-plot-it-using-python-e9d95bd341ee [30] It demonstrates the the binomial distribution for sucess or failure of throwing a given number in x throws."
   ]
  },
  {
   "cell_type": "code",
   "execution_count": 91,
   "id": "faf44967-adb0-4138-ac7b-8e0b0e98ab22",
   "metadata": {},
   "outputs": [
    {
     "data": {
      "image/png": "[encoded data removed]",
      "text/plain": [
       "<Figure size 360x360 with 1 Axes>"
      ]
     },
     "metadata": {
      "needs_background": "light"
     },
     "output_type": "display_data"
    }
   ],
   "source": [
    "\n",
    "import seaborn as sns\n",
    "from scipy.stats import binom\n",
    "#10 dice rolls, p=1/6 for any face, 10000 experiments\n",
    "data = binom.rvs(n=10,p=1/6,loc=1,size=10000)\n",
    "ax=sns.displot(data,kde=True,color='red')\n",
    "ax.set(xlabel=\"binomial\",ylabel=\"frequency\")\n",
    "\n",
    "plt.show()\n",
    "\n"
   ]
  },
  {
   "cell_type": "markdown",
   "id": "928f6113-a557-40d5-8b2f-11f7e961500d",
   "metadata": {
    "tags": []
   },
   "source": [
    "The probability of throwing any given number is greatest is most likely with two dice throws. In the example above, out of 10,000 experiments of 10 dice throws,\n",
    "the number will be found approx 3,400 times.\n"
   ]
  },
  {
   "cell_type": "markdown",
   "id": "195e606c-913a-455e-adb1-d401da2fdc69",
   "metadata": {},
   "source": [
    "<strong> 4.5 numpy.random.Generator.multinomial</strong>"
   ]
  },
  {
   "cell_type": "markdown",
   "id": "1e10a151-fce1-4fd1-830f-f27846fc0aae",
   "metadata": {},
   "source": [
    "A multinomial experiment is similar to a binomial experiment except there can be muliple outcomes for an experiment. If we consider the dice roll discussed in the binomial distribution there was only two possiblities for each experiment. A given number would or would not be found in a x number of dice rolls.The success of 1 number was being tested. However, we for any dice roll there a six posibilities. [34] A dice can be thrown ten times and there will be 6 possible outcomes for each throw. This is multinomial experiment.\n",
    "A mulinomial distribution can be used used to find probabilities of these events\n",
    "random.multinomial(n, pvals, size=None) [35]\n",
    "where in is the number of experiments\n",
    "pvals is the probability of any given value\n",
    "and size is the size of returned arrray or sample size."
   ]
  },
  {
   "cell_type": "code",
   "execution_count": 80,
   "id": "2ef73fa2-613e-4d4f-b3ea-a3185e854a22",
   "metadata": {},
   "outputs": [
    {
     "data": {
      "text/plain": [
       "array([[1, 3, 2, 0, 2, 2]])"
      ]
     },
     "execution_count": 80,
     "metadata": {},
     "output_type": "execute_result"
    }
   ],
   "source": [
    "#for 10 dice rolls, each roll has a posibility of 1/6, \n",
    "np.random.multinomial(10, [1/6.]*6, size=1)"
   ]
  },
  {
   "cell_type": "markdown",
   "id": "0d047af7-d96f-4f50-8eb8-6c3afef8f4c9",
   "metadata": {},
   "source": [
    "The above list shows the frequency of each face of the dice - in order from 1-6. (Any running of this jupyter notebook will return a different array."
   ]
  },
  {
   "cell_type": "code",
   "execution_count": 81,
   "id": "3a07b565-8c21-45bf-903d-67e397c3314a",
   "metadata": {},
   "outputs": [
    {
     "data": {
      "text/plain": [
       "array([[1694, 1703, 1684, 1588, 1651, 1680]], dtype=int64)"
      ]
     },
     "execution_count": 81,
     "metadata": {},
     "output_type": "execute_result"
    }
   ],
   "source": [
    "rng.multinomial(10000, [1/6.]*6, size=1)"
   ]
  },
  {
   "cell_type": "markdown",
   "id": "d82d3b93-0434-4749-b29c-3ef2b86ada70",
   "metadata": {},
   "source": [
    "As one may expect if the number of dice rolls increased, the frequencies of any face become close.\n",
    "In following example the dice (or any variable) could be loaded, to favour the result. In this case, 5. The fifth element in the output array will have approximately twice the frequency of the other elements\n"
   ]
  },
  {
   "cell_type": "code",
   "execution_count": 84,
   "id": "1e12f313-75a0-47ac-9c5d-c5164b93fdf2",
   "metadata": {},
   "outputs": [
    {
     "data": {
      "text/plain": [
       "array([[1424, 1451, 1461, 1395, 2842, 1427],\n",
       "       [1470, 1455, 1413, 1428, 2836, 1398],\n",
       "       [1426, 1421, 1415, 1448, 2898, 1392],\n",
       "       [1461, 1405, 1397, 1413, 2859, 1465],\n",
       "       [1432, 1491, 1367, 1484, 2769, 1457],\n",
       "       [1465, 1451, 1444, 1384, 2789, 1467],\n",
       "       [1469, 1425, 1420, 1481, 2817, 1388],\n",
       "       [1446, 1449, 1379, 1469, 2863, 1394],\n",
       "       [1372, 1517, 1426, 1371, 2861, 1453],\n",
       "       [1408, 1446, 1424, 1449, 2855, 1418]], dtype=int64)"
      ]
     },
     "execution_count": 84,
     "metadata": {},
     "output_type": "execute_result"
    }
   ],
   "source": [
    "s= rng.multinomial(10000, [1/7.]*4 + [2/7.]+[1/7],10)\n",
    "s"
   ]
  },
  {
   "cell_type": "markdown",
   "id": "876d7427-edda-4728-b0f1-19699d23c690",
   "metadata": {},
   "source": [
    "#### <strong> 4.5 numpy.random.Generator.exponential</strong>[31]"
   ]
  },
  {
   "cell_type": "markdown",
   "id": "fc0f20ef-fa53-4051-b57d-8c1f564c5550",
   "metadata": {
    "tags": []
   },
   "source": [
    "The exponential distribution is used for data with events and their time intervals, \n",
    "for example the length of time before a product fails or the interval between bus arrivals.\n",
    "The proablitity of an event occuring exponentially decreases over time, the gradient of the curve is not prorportial but changes\n",
    "from a rapid change to slow change over time.\n",
    "\n",
    "the function requires rate a rate variable[32] The greater the rate, the faster the curve falls.\n",
    "In numpy numpy.random.exponential there are two parameters, scale which is the inverse of rate. The larger the scale the the steper the curve. \n",
    "\n",
    "random.Generator.exponential(scale=1.0, size=None)\n",
    "where scale is the inverse of the rate parameter, lamda, \n",
    "#the rate is plotted on the x axis and distance from 0 can be seen as time elapsed. distance between two points on the\n",
    "axis is a time interval, for example .30 to 60 is could be between 30 minutes and 60 minutes since the start of an event.\n",
    "The area between the two points represents the probability of the event occuring between these two times. This is more difficult to \n",
    "estimate by just looking at the curve and a forumla is required.\n"
   ]
  },
  {
   "cell_type": "markdown",
   "id": "c2cd48af-8b93-4f6a-8740-922209a8f208",
   "metadata": {},
   "source": [
    "The plots below demonstrate how changing the scale (rate) of the distribution affect the probability density.\n",
    "kde or kernel denity estimate is a mapping of normal distributions for continous X axis values stored in bins. It shows the densitiy curve or probability of the distribution.\n"
   ]
  },
  {
   "cell_type": "code",
   "execution_count": 111,
   "id": "eb6d2e52-06f6-4c53-bb49-ca21c6abb8ad",
   "metadata": {
    "tags": []
   },
   "outputs": [],
   "source": [
    "s=rng.exponential(1,1000)"
   ]
  },
  {
   "cell_type": "code",
   "execution_count": 134,
   "id": "5886d1f3-3c22-41e2-adab-40a287e7e5f7",
   "metadata": {
    "tags": []
   },
   "outputs": [
    {
     "data": {
      "text/plain": [
       "<function matplotlib.pyplot.show(close=None, block=None)>"
      ]
     },
     "execution_count": 134,
     "metadata": {},
     "output_type": "execute_result"
    },
    {
     "data": {
      "image/png": "[encoded data removed]",
      "text/plain": [
       "<Figure size 432x288 with 1 Axes>"
      ]
     },
     "metadata": {
      "needs_background": "light"
     },
     "output_type": "display_data"
    }
   ],
   "source": [
    "#code adapted from (NumPy Exponential Distribution - AlphaCodingSkills, 2021)[33]\n",
    "#sample size\n",
    "size=1000 \n",
    "#sns seaborn to plot kdes\n",
    "#use various scale values to show how different rates of 'decay'\n",
    "sns.kdeplot(rng.exponential(1, size))\n",
    "sns.kdeplot(rng.exponential(2, size))\n",
    "sns.kdeplot(rng.exponential(3, size))\n",
    "plt.title='Exponential distributions with different scale properites demonstrating the how the rate effects the curve shape'\n",
    "plt.legend([r\"$\\beta = 1$\", \n",
    "            r\"$\\beta = 2$\", \n",
    "            r\"$\\beta = 3$\"])\n",
    "plt.show\n"
   ]
  },
  {
   "cell_type": "markdown",
   "id": "496fa600-53d2-420e-ac54-67c3c264245b",
   "metadata": {},
   "source": [
    "The plots below show the denisty curve and histogram for for rng.exponential(1,1000)"
   ]
  },
  {
   "cell_type": "code",
   "execution_count": 10,
   "id": "0035535f-34f2-4a68-84c8-e9cd34bee82f",
   "metadata": {},
   "outputs": [
    {
     "data": {
      "image/png": "[encoded data removed]",
      "text/plain": [
       "<Figure size 360x360 with 1 Axes>"
      ]
     },
     "metadata": {
      "needs_background": "light"
     },
     "output_type": "display_data"
    }
   ],
   "source": [
    "\n",
    "s=rng.exponential(1,1000)\n",
    "\n",
    "\n",
    "sns.displot(s,kde=True)\n",
    "plt.show()\n"
   ]
  },
  {
   "cell_type": "code",
   "execution_count": null,
   "id": "96eb26d8-10a2-4c9e-8c9e-1ff1e623f87e",
   "metadata": {},
   "outputs": [],
   "source": []
  },
  {
   "cell_type": "code",
   "execution_count": null,
   "id": "563c99ba-b201-4bfa-8a3d-b222f9a3854f",
   "metadata": {},
   "outputs": [],
   "source": []
  },
  {
   "cell_type": "code",
   "execution_count": null,
   "id": "1c332ea7-caf7-4b16-8a31-7439003de6ea",
   "metadata": {},
   "outputs": [],
   "source": []
  },
  {
   "cell_type": "markdown",
   "id": "24e0154b-4e34-4409-966a-6a8a346a639c",
   "metadata": {},
   "source": [
    "### <Strong>5. Seeds and Pseudo Random number generation.</Strong>\n",
    "Explain the use of seeds in generating pseudorandom numbers..."
   ]
  },
  {
   "cell_type": "markdown",
   "id": "b10d5cd8-922b-4648-98af-c387b5f18c03",
   "metadata": {},
   "source": [
    "Above it has been shown that data can form patterns of distribution, for example looking at the life expectancy of light bulbs, a sample of 1,000 may show a normal distribution, taking this sample is known as an experiment. Knowing this we can simulate a normal distribution using random numbers rather than collecting this\n",
    "data sample. The Numpy normal distribution function takes 3 paramenters, **np.random.default_rng().normal(mu, sigma, size)**. The mean, standard deviation and sample size can be taken from the real experiment distribution and used to *simulate* the experiment with random data. [36]\n",
    "Modelling is where the  proablity inputs of a simulation can be varied to predict outcomes if the inputs were changed in real life. "
   ]
  },
  {
   "cell_type": "markdown",
   "id": "7f479873-2f43-400e-bc02-db3333fe5d84",
   "metadata": {},
   "source": [
    "If analysts want to repeat the experiment with the same set of data but different probability variables to make like comparisons , they will need to ensure that the data in the test sample originates from the same set of random numbers. In computing random numbers are generated using an alogrithm and are not truly random numbers because based on the alogrithm they will eventually repeat. This is useful to repeat sets of random numbers if the *seed* of the for provided to the random generator, where in the sequence of of numbers the the sample will start. If random number generation was never seeded on computers the starting point would always be the start of the sequence of the algorimthm. Random numbers generators will often have a default seed which will would be for example a measure of time in milliseconds from the system clock. Numpy.random.generator will transform the seed of bits into an array and into a probability distsribution if required.\n"
   ]
  },
  {
   "cell_type": "markdown",
   "id": "4f90275e-2c8a-4fec-9c33-b2cf4805902c",
   "metadata": {},
   "source": [
    "One of the most importan featurs of an rng is its period. The maximum number of digits before the sequence is repeated.[37]\n",
    "\n",
    "Seeds can be passed to any computer random number generator. The default bitgenerator for the latest version of numpy.random is the PCG64 bitgenerator.\n",
    "    "
   ]
  },
  {
   "cell_type": "markdown",
   "id": "877b3a5c-b34b-446e-8895-fa8a3c7760a9",
   "metadata": {},
   "source": [
    "for example:"
   ]
  },
  {
   "cell_type": "code",
   "execution_count": 95,
   "id": "dc798923-574a-498f-a2fb-b78d6daf2883",
   "metadata": {},
   "outputs": [
    {
     "data": {
      "text/plain": [
       "array([-1.21928522, -0.82519504, -0.29919799,  0.21334084, -0.02242482,\n",
       "        1.00148263, -0.20601522,  0.68722289, -0.59191392,  1.62009427])"
      ]
     },
     "execution_count": 95,
     "metadata": {},
     "output_type": "execute_result"
    }
   ],
   "source": [
    "#initiate \n",
    "vals = rng.standard_normal(10)#generates a random sequence of number based on the normal distribution.\n",
    "\n",
    "vals\n"
   ]
  },
  {
   "cell_type": "markdown",
   "id": "bd353d28-03f7-4aad-8eef-77ddebeb5485",
   "metadata": {},
   "source": [
    "Demonstrate the default bitgenerator is PCG64"
   ]
  },
  {
   "cell_type": "code",
   "execution_count": 96,
   "id": "d45e132a-32f0-4b9a-9ea2-3edf1655894d",
   "metadata": {},
   "outputs": [
    {
     "data": {
      "text/plain": [
       "Generator(PCG64) at 0x1EFF3737900"
      ]
     },
     "execution_count": 96,
     "metadata": {},
     "output_type": "execute_result"
    }
   ],
   "source": [
    "rng"
   ]
  },
  {
   "cell_type": "markdown",
   "id": "0db96546-e2d7-4cd4-8b4d-eace12c425c8",
   "metadata": {},
   "source": [
    "Demonstrate passing a seed and getting the same data and getting the same data back. digits  0 - 100 return 3"
   ]
  },
  {
   "cell_type": "code",
   "execution_count": 97,
   "id": "eb3e01ac-3157-4131-b66b-2a7f2207d07b",
   "metadata": {},
   "outputs": [
    {
     "data": {
      "text/plain": [
       "array([84, 90, 79], dtype=int64)"
      ]
     },
     "execution_count": 97,
     "metadata": {},
     "output_type": "execute_result"
    }
   ],
   "source": [
    "\n",
    "rng = np.random.default_rng(12121)\n",
    "rints = rng.integers(low=0, high=100, size=3)\n",
    "rints"
   ]
  },
  {
   "cell_type": "code",
   "execution_count": 98,
   "id": "591ef866-5516-4eb2-8006-7da026929f0d",
   "metadata": {},
   "outputs": [
    {
     "data": {
      "text/plain": [
       "array([84, 90, 79], dtype=int64)"
      ]
     },
     "execution_count": 98,
     "metadata": {},
     "output_type": "execute_result"
    }
   ],
   "source": [
    "rng = np.random.default_rng(12121)# same seed, same array returned!\n",
    "rints = rng.integers(low=0, high=100, size=3)\n",
    "rints"
   ]
  },
  {
   "cell_type": "markdown",
   "id": "4d239189-45bf-45fa-ae8b-139af12996be",
   "metadata": {},
   "source": [
    "##### <strong>Seeding and Entropy</strong> [38]\n",
    "\n",
    "Numpy.random can uses SeedSeququence() to create a seed and replicate it. In fact this is good practice, whilst seeding with an array of digits is OK,best practice is to use a seedsquency(0)\n",
    "    "
   ]
  },
  {
   "cell_type": "code",
   "execution_count": 101,
   "id": "b1cd02db-f247-4937-835c-019f420a9417",
   "metadata": {},
   "outputs": [
    {
     "data": {
      "text/plain": [
       "156278002634809540014615102658967405148"
      ]
     },
     "execution_count": 101,
     "metadata": {},
     "output_type": "execute_result"
    }
   ],
   "source": [
    "#determine sequence for the seed\n",
    "sq1 = np.random.SeedSequence()\n",
    "#capture that 'entropy' with entropy\n",
    "sq1.entropy"
   ]
  },
  {
   "cell_type": "markdown",
   "id": "209962e6-a911-47c1-964b-135e62352749",
   "metadata": {
    "tags": []
   },
   "source": [
    "\n"
   ]
  },
  {
   "cell_type": "code",
   "execution_count": 102,
   "id": "24c964ef-1881-4aee-be3e-3429e6e0e839",
   "metadata": {
    "jupyter": {
     "source_hidden": true
    },
    "tags": []
   },
   "outputs": [
    {
     "data": {
      "text/plain": [
       "array([1132645469, 3357581680, 1308879902, 2263174005, 1366840103,\n",
       "       2349112612, 1899352488, 3995031007, 3561737556, 1325758197],\n",
       "      dtype=uint32)"
      ]
     },
     "execution_count": 102,
     "metadata": {},
     "output_type": "execute_result"
    }
   ],
   "source": [
    "#Create a new random seed using that entropy\n",
    "sq2 = np.random.SeedSequence(sq1.entropy)\n",
    "np.all(sq1.generate_state(10) == sq2.generate_state(10))\n",
    "#use the generate _state method to get a 10 number arry from the sequence1\n",
    "sq1.generate_state(10)"
   ]
  },
  {
   "cell_type": "code",
   "execution_count": 103,
   "id": "880e4d17-de75-4380-bd82-1059c01d1f2d",
   "metadata": {},
   "outputs": [
    {
     "data": {
      "text/plain": [
       "array([1132645469, 3357581680, 1308879902, 2263174005, 1366840103,\n",
       "       2349112612, 1899352488, 3995031007, 3561737556, 1325758197],\n",
       "      dtype=uint32)"
      ]
     },
     "execution_count": 103,
     "metadata": {},
     "output_type": "execute_result"
    }
   ],
   "source": [
    "#use generate state to get the same array from sequence two.\n",
    "sq2.generate_state(10)\n"
   ]
  },
  {
   "cell_type": "markdown",
   "id": "37b509c4-9556-49cc-a108-e603862c7f40",
   "metadata": {},
   "source": [
    "Prior to Numpy 1.17 a the Mercene Twister algorithm bit generator was used. The current default bit generator for np.random.default_rng() is the  PCG64 bit generator.\n",
    "PCG64 means Permuted Cogruential Generator.\n",
    "The PCG family of generators are very fast compared to previous generator, the use relatively less code (small size) and more unpredictable.\n",
    "\n",
    "Random number generators have two prinple functions, the transition state function and the utput function. The Tranistion state function 'Governs how the RNG's internal state changes every time you ask for a random number' and the i.e. using based on the algorithm using internal processes to prepare for the next number generation. The Output function turns the internal state into a number. Unlike other generators' state transisition functions, PCGs use a Linear Congruential Generator which properties are good for this purpose. The PCG output functions use *permutation functions on tuples* or has functions which add another level of randomness to the internal state, which makes PCGs even less predicatble. In PGC The *Permuted* comes from the output function and *Congruential Generator* transiton state function emphasising the importance of these functions in the strenght of PNGs.[39]\n",
    "\n",
    "<strong>PGN64 bit generator</strong>\n",
    "The numpy PCG64 in Numpy is based on Melissa O'Neill's Permutation Congruential Generator https://www.cs.hmc.edu/tr/hmc-cs-2014-0905.pdf. As described above, the output from the transition state function is passed to a permuted functions. The algoritm in this case is applied to 64 bit sequences and periods of and 2\n",
    "<sup>128</sup>."
   ]
  },
  {
   "cell_type": "markdown",
   "id": "e3337d79-2ddc-45e8-a549-4bb9bc4990d8",
   "metadata": {},
   "source": [
    "### <strong>References:</strong>\n",
    "\n",
    "\n",
    "\n"
   ]
  },
  {
   "cell_type": "markdown",
   "id": "73205247-a0f0-42e3-aba2-6428388f3396",
   "metadata": {},
   "source": [
    "[1] Numpy.org. 2021. NumPy. [online] Available at: <https://numpy.org/about/> [Accessed October 2021].\n",
    "\n",
    "[2] Nature.com. 2021. [online] Available at: <https://www.nature.com/articles/s41586-020-2649-2.pdf> [Accessed October 2021].\n",
    "\n",
    "[3] GreatLearning Blog: Free Resources what Matters to shape your Career!. 2021. What is Numpy in Python - Everything you Need to Know About. [online] Available at: <https://www.mygreatlearning.com/blog/python-numpy-tutorial/> [Accessed October 2021].\n",
    "\n",
    "[4] ActiveState. 2021. What Is Numpy Used For In Python? - ActiveState. [online] Available at: <https://www.activestate.com/resources/quick-reads/what-is-numpy-used-for-in-python/> [Accessed October 2021].\n",
    "\n",
    "[5] WhatIs.com. 2021. What is random numbers? - Definition from WhatIs.com. [online] Available at: <https://whatis.techtarget.com/definition/random-numbers> [Accessed October 2021].\n",
    "\n",
    "[6] En.wikipedia.org. 2021. Random number generation - Wikipedia. [online] Available at: <https://en.wikipedia.org/wiki/Random_number_generation#Physical_methods> [Accessed October 2021].\n",
    "\n",
    "[7] Numpy.org. 2021. Random sampling (numpy.random) — NumPy v1.21 Manual. [online] Available at: <https://numpy.org/doc/stable/reference/random/index.html> October 2021].\n",
    "\n",
    "[8] Numpy.org. 2021. numpy.random.Generator.integers — NumPy v1.21 Manual. [online] Available at: <https://numpy.org/doc/stable/reference/random/generated/numpy.random.Generator.integers.html#numpy.random.Generator.integers> [Accessed October 2021].\n",
    "\n",
    "[9] Numpy.org. 2021. numpy.random.Generator.random — NumPy v1.21 Manual. [online] Available at: <https://numpy.org/doc/stable/reference/random/generated/numpy.random.Generator.random.html#numpy.random.Generator.random> [Accessed October 2021].\n",
    "\n",
    "[10] GeeksforGeeks. 2021. Matplotlib.pyplot.title() in Python - GeeksforGeeks. [online] Available at: <https://www.geeksforgeeks.org/matplotlib-pyplot-title-in-python/> [Accessed October 2021].\n",
    "\n",
    "[11] Docs.python.org. 2021. binascii — Convert between binary and ASCII — Python 3.10.0 documentation. [online] Available at: <https://docs.python.org/3/library/binascii.html> [Accessed October 2021].\n",
    "\n",
    "[12] Numpy.org. 2021. numpy.random.Generator.shuffle — NumPy v1.21 Manual. [online] Available at: <https://numpy.org/doc/stable/reference/random/generated/numpy.random.Generator.shuffle.html> Accessed October 2021].\n",
    "\n",
    "[13] Guru99. 2021. Python NumPy Tutorial for Beginners: Learn with Examples. [online] Available at: <https://www.guru99.com/numpy-tutorial.html#7> [Accessed October 2021].\n",
    "\n",
    "[14] numpy, s. and Satapathy, P., 2021. shuffle vs permute numpy. [online] Stack Overflow. Available at: <https://stackoverflow.com/questions/15474159/shuffle-vs-permute-numpy> [Accessed October 2021].\n",
    "\n",
    "[15] 2021. [online] Available at: <https://www.datacamp.com/community/tutorials/probability-distributions-python> [Accessed October 2021].\n",
    "\n",
    "[16] Analytics Vidhya. 2021. Basics of Probability for Data Science explained with examples. [online] Available at: <https://www.analyticsvidhya.com/blog/2017/02/basic-probability-data-science-with-examples/?utm_source=blog&utm_medium=6ProbabilityDistributionsarticle> [Accessed October 2021].\n",
    "\n",
    "[17] W3schools.com. 2021. Random Data Distribution. [online] Available at: <https://www.w3schools.com/python/numpy/numpy_random_distribution.asp> [Accessed November 2021].\n",
    "\n",
    "[18] Colorado.edu. 2021. [online] Available at: <https://www.colorado.edu/amath/sites/default/files/attached-files/ch3_0.pdf> [Accessed November 2021].\n",
    "\n",
    "[19] En.wikipedia.org. 2021. Random variable - Wikipedia. [online] Available at: <https://en.wikipedia.org/wiki/Random_variable#Examples> [Accessed November 2021].\n",
    "\n",
    "[20] Statistics LibreTexts. 2021. 4.1: Probability Density Functions (PDFs) and Cumulative Distribution Functions (CDFs) for Continuous Random Variables. [online] Available at: <https://stats.libretexts.org/Courses/Saint_Mary's_College_Notre_Dame/MATH_345__-_Probability_(Kuter)/4%3A_Continuous_Random_Variables/4.1%3A_Probability_Density_Functions_(PDFs)_and_Cumulative_Distribution_Functions_(CDFs)_for_Continuous_Random_Variables> [Accessed November 2021].\n",
    "\n",
    "[21] Numpy.org. 2021. numpy.random.Generator.uniform — NumPy v1.21 Manual. [online] Available at: <https://numpy.org/doc/stable/reference/random/generated/numpy.random.Generator.uniform.html#numpy.random.Generator.uniform> [Accessed November 2021].\n",
    "\n",
    "[22] Sharp Sight. 2021. How to Use np.random.uniform. [online] Available at: <https://www.sharpsightlabs.com/blog/np-random-uniform/> [Accessed November 2021].\n",
    "\n",
    "[23] https://www.datacamp.com/community/tutorials/probability-distributions-python\n",
    "\n",
    "[24] En.wikipedia.org. 2021. Standard deviation - Wikipedia. [online] Available at: <https://en.wikipedia.org/wiki/Standard_deviation> [Accessed November 2021].\n",
    "\n",
    "[25] Mathsisfun.com. 2021. Standard Deviation Formulas. [online] Available at: <https://www.mathsisfun.com/data/standard-deviation-formulas.html> [Accessed November 2021].\n",
    "\n",
    "[26] Zach, V., 2021. 6 Real-Life Examples of the Normal Distribution. [online] Statology. Available at: <https://www.statology.org/example-of-normal-distribution/> [Accessed November 2021].\t\n",
    "\n",
    "[27] Numpy.org. 2021. numpy.random.Generator.normal — NumPy v1.21 Manual. [online] Available at: <https://numpy.org/doc/stable/reference/random/generated/numpy.random.Generator.normal.html#numpy.random.Generator.normal> [Accessed November 2021].\n",
    "\n",
    "[28] W3schools.com. 2021. Binomial Distribution. [online] Available at: <https://www.w3schools.com/python/numpy/numpy_random_binomial.asp> [Accessed November 2021].\n",
    "\n",
    "[29] Medium. 2021. Binomial Distribution and Binomial Test in Python — Statistics — PyShark. [online] Available at: <https://towardsdatascience.com/binomial-distribution-and-binomial-test-in-python-statistics-pyshark-91aa6403d674> [Accessed 2November 2021].\n",
    "\n",
    "[30] Medium. 2021. What is Binomial Distribution and how to Plot it using Python. [online] Available at: <https://medium.com/@tharakau/what-is-binomial-distribution-and-how-to-plot-it-using-python-e9d95bd341ee> [Accessed November 2021].\n",
    "\n",
    "[32] Analytics Vidhya. 2021. Probability Distribution | Types of Distributions. [online] Available at: <https://www.analyticsvidhya.com/blog/2017/09/6-probability-distributions-data-science/> [Accessed November 2021].\n",
    "\n",
    "[33]Alphacodingskills.com. 2021. NumPy Exponential Distribution - AlphaCodingSkills. [online] Available at: <https://www.alphacodingskills.com/numpy/numpy-exponential-distribution.php> [Accessed November 2021].[33]\n",
    "\n",
    "[34] Statistics How To. 2021. Multinomial Distribution: Definition, Examples. [online] Available at: <https://www.statisticshowto.com/multinomial-distribution/> [Accessed November 2021].\n",
    "\n",
    "[35] Numpy.org. 2021. numpy.random.multinomial — NumPy v1.21 Manual. [online] Available at: <https://numpy.org/doc/stable/reference/random/generated/numpy.random.multinomial.html> [Accessed November 2021].\n",
    "\n",
    "[36] Jigsaw Academy. 2021. Random Numbers And Their Applications | Jigsaw Academy. [online] Available at: <https://www.jigsawacademy.com/random-numbers-applications/> [Accessed November 2021].\n",
    "\n",
    "[37] Nag.com. 2021. G05 Chapter Introduction:: Random Number Generators (NAG Toolbox). [online] Available at: <https://www.nag.com/numeric/mb/nagdoc_mb/manual_25_1/html/g05/g05intro.html> [Accessed November 2021].\n",
    "\n",
    "[38] Numpy.org. 2021. Bit Generators — NumPy v1.21 Manual. [online] Available at: <https://numpy.org/doc/stable/reference/random/bit_generators/index.html#seeding-and-entropy> [Accessed November 2021].\n",
    "\n",
    "[39] O'Neill, M., 2021. PCG, A Family of Better Random Number Generators. [online] PCG, A Better Random Number Generator. Available at: <https://www.pcg-random.org/index.html> [Accessed November 2021].\n",
    "\n",
    "[40] Cs.hmc.edu. 2021. [online] Available at: <https://www.cs.hmc.edu/tr/hmc-cs-2014-0905.pdf> [Accessed 22 November 2021].\n"
   ]
  },
  {
   "cell_type": "code",
   "execution_count": null,
   "id": "473be249-a3dc-488b-9a72-3f1f41ecf944",
   "metadata": {},
   "outputs": [],
   "source": []
  }
 ],
 "metadata": {
  "kernelspec": {
   "display_name": "Python 3",
   "language": "python",
   "name": "python3"
  },
  "language_info": {
   "codemirror_mode": {
    "name": "ipython",
    "version": 3
   },
   "file_extension": ".py",
   "mimetype": "text/x-python",
   "name": "python",
   "nbconvert_exporter": "python",
   "pygments_lexer": "ipython3",
   "version": "3.8.8"
  }
 },
 "nbformat": 4,
 "nbformat_minor": 5
}
