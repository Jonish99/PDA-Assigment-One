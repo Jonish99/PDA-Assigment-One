{
 "cells": [
  {
   "cell_type": "code",
   "execution_count": null,
   "id": "7c07e523-7fc9-43ea-9418-42bdf98aff87",
   "metadata": {},
   "outputs": [],
   "source": []
  },
  {
   "cell_type": "code",
   "execution_count": 1,
   "id": "9d0d56b5-569e-4abf-b3e6-c92666833777",
   "metadata": {
    "tags": []
   },
   "outputs": [],
   "source": [
    "import numpy as np #import libary"
   ]
  },
  {
   "cell_type": "code",
   "execution_count": null,
   "id": "ee2f4e98-fbb1-4729-b4c7-2a63b7781dba",
   "metadata": {},
   "outputs": [],
   "source": [
    "import matplotlib.pyplot as plt # import matplotlib to show plots for numpy random arrays"
   ]
  },
  {
   "cell_type": "markdown",
   "id": "7f95844f-cfaa-4b1f-8e3b-ecb5b782e424",
   "metadata": {},
   "source": [
    "##### Check numpy version. There have been significant changes since numpy 1.18. Numpy installations less than 1.18 should be upgraded to a later version."
   ]
  },
  {
   "cell_type": "code",
   "execution_count": 2,
   "id": "dc404004-5d84-4cdb-9efe-99d2e5775303",
   "metadata": {},
   "outputs": [
    {
     "data": {
      "text/plain": [
       "'1.20.1'"
      ]
     },
     "execution_count": 2,
     "metadata": {},
     "output_type": "execute_result"
    }
   ],
   "source": [
    "np.version.version #determine numpy version "
   ]
  },
  {
   "cell_type": "code",
   "execution_count": 3,
   "id": "dd33d25b-bbe0-4d31-ae1c-0841d495546b",
   "metadata": {},
   "outputs": [],
   "source": [
    "a=np.random.rand(5,2) "
   ]
  },
  {
   "cell_type": "code",
   "execution_count": 4,
   "id": "88e543a2-89e4-4626-bd4f-876412b75063",
   "metadata": {
    "tags": []
   },
   "outputs": [
    {
     "name": "stdout",
     "output_type": "stream",
     "text": [
      "[[0.64577938 0.59204258]\n",
      " [0.97565668 0.0614813 ]\n",
      " [0.1514858  0.15629548]\n",
      " [0.52877257 0.91323728]\n",
      " [0.15830287 0.17022302]]\n"
     ]
    }
   ],
   "source": [
    "print(a)"
   ]
  },
  {
   "cell_type": "markdown",
   "id": "993017b3-3696-417c-8e3c-31d2c7eb89e2",
   "metadata": {},
   "source": [
    "### <Strong>1. Simple Random data functions.</Strong>"
   ]
  },
  {
   "cell_type": "markdown",
   "id": "d5d9342d-9112-4d4a-bac7-71e275205a05",
   "metadata": {},
   "source": [
    "#### <strong>1.1 numpy.random.Generator.integers</strong>"
   ]
  },
  {
   "cell_type": "markdown",
   "id": "a8bb8dbd-d021-4242-85e1-eccb1f385a85",
   "metadata": {},
   "source": [
    "##### This function generates an array of random integers. \n",
    "##### The range is determined by the low and high parameters. low is inclusive, high is exclusive (see endpoint below)\n",
    "##### If one boundary is ommitted then the given value is taken as high and low is zero.\n",
    "####  If the endpoint paramter (boolean) is True then then the high boundary is included in the range\n",
    "##### The size parameter defines the shape of the array. \n",
    "    - A single value with return 1 dimensional array of the value length\n",
    "    - A low point in \n",
    "##### dtype optional parameter. In the examples below it is ommited because in this notebook there is no real application of the array\n"
   ]
  },
  {
   "cell_type": "markdown",
   "id": "62a58d91-1c9f-426c-8a9f-292752624f9b",
   "metadata": {},
   "source": [
    "#### <strong>Example 1.1.1.</strong>  - One dimension array with 10 items"
   ]
  },
  {
   "cell_type": "code",
   "execution_count": 5,
   "id": "6e121e68-d550-40b0-98df-74d05de4734f",
   "metadata": {},
   "outputs": [
    {
     "data": {
      "text/plain": [
       "array([1, 0, 1, 0, 1, 1, 0, 1, 0, 1], dtype=int64)"
      ]
     },
     "execution_count": 5,
     "metadata": {},
     "output_type": "execute_result"
    }
   ],
   "source": [
    "#https://numpy.org/doc/stable/reference/random/generated/numpy.random.Generator.integers.html#numpy.random.Generator.integers\n",
    "rng = np.random.default_rng() \n",
    "'''create an array of 10 items with a range of random integers between 0 & 1 (2). The there is only one range parameter so \n",
    "lower bound is taken as 0'''\n",
    "rng.integers(2, size=10)"
   ]
  },
  {
   "cell_type": "markdown",
   "id": "88942866-4d1c-428b-a895-ca7b2252899e",
   "metadata": {},
   "source": [
    "####  <strong>Example 1.1.2.</strong> - One dimension array with lower and upper bounds set"
   ]
  },
  {
   "cell_type": "code",
   "execution_count": 6,
   "id": "5528d08d-73f8-4e13-a911-a847966df7e6",
   "metadata": {
    "tags": []
   },
   "outputs": [
    {
     "data": {
      "text/plain": [
       "array([6, 6, 6, 4, 6, 6, 4, 4], dtype=int64)"
      ]
     },
     "execution_count": 6,
     "metadata": {},
     "output_type": "execute_result"
    }
   ],
   "source": [
    "#create an array of 10 items with a range of random integers between 4 & 7 (4,8)\n",
    "rng.integers(4, 8, size=8)"
   ]
  },
  {
   "cell_type": "markdown",
   "id": "5ffc2c19-8367-41cf-add6-06f3b4d6b8be",
   "metadata": {},
   "source": [
    "##### <strong>Example 1.1.3.</strong> - Two dimensional array of integers. 5 arrays of 2 item arrays. Upper bound 6 = 0 to 5"
   ]
  },
  {
   "cell_type": "code",
   "execution_count": 7,
   "id": "e4877f44-19b3-4521-9ac8-518cce68321c",
   "metadata": {},
   "outputs": [
    {
     "data": {
      "text/plain": [
       "array([[2, 5],\n",
       "       [3, 1],\n",
       "       [2, 2],\n",
       "       [2, 3],\n",
       "       [5, 1]], dtype=int64)"
      ]
     },
     "execution_count": 7,
     "metadata": {},
     "output_type": "execute_result"
    }
   ],
   "source": [
    "#create a 2 x 4(size)  array with a range of integers between 0 & 5 (6)\n",
    "rng.integers(6, size=(5, 2))\n",
    "#data returned as integer dtype=int64"
   ]
  },
  {
   "cell_type": "markdown",
   "id": "cf45a3c6-5e2b-464e-95f9-3303051b3398",
   "metadata": {},
   "source": [
    "##### <strong>Example 1.1.4.</strong> - A single parameter of 3 values returns 3 values each with it's own upper boundary"
   ]
  },
  {
   "cell_type": "code",
   "execution_count": 8,
   "id": "ee9d4ee9-9889-4468-870e-2b537637c058",
   "metadata": {
    "tags": []
   },
   "outputs": [
    {
     "data": {
      "text/plain": [
       "array([0, 3, 6], dtype=int64)"
      ]
     },
     "execution_count": 8,
     "metadata": {},
     "output_type": "execute_result"
    }
   ],
   "source": [
    "rng.integers([3, 5, 10])"
   ]
  },
  {
   "cell_type": "markdown",
   "id": "9f538223-279f-4e34-b503-44af975ccea3",
   "metadata": {},
   "source": [
    "##### <strong>Example 1.1.5.</strong> - Two array parameters one of lower boundaries, one of upper boundaries"
   ]
  },
  {
   "cell_type": "code",
   "execution_count": 9,
   "id": "ef60993e-3149-4bcd-a584-4bf2f397f32a",
   "metadata": {
    "tags": []
   },
   "outputs": [
    {
     "data": {
      "text/plain": [
       "array([ 5, 11, 12], dtype=int64)"
      ]
     },
     "execution_count": 9,
     "metadata": {},
     "output_type": "execute_result"
    }
   ],
   "source": [
    "rng.integers([3, 7, 12],[6, 12, 15])"
   ]
  },
  {
   "cell_type": "markdown",
   "id": "99bcfa0b-00ab-4004-8d13-a46876190256",
   "metadata": {},
   "source": [
    "##### <strong>Example 1.1.6.</strong> - Setting the endpoint as True to include the high boundary (large array)\n"
   ]
  },
  {
   "cell_type": "code",
   "execution_count": 14,
   "id": "f4d67ad0-b8e6-4386-aca8-5ae1d86c5204",
   "metadata": {},
   "outputs": [
    {
     "data": {
      "text/plain": [
       "array([7, 7, 1, 3, 6, 7, 2, 4, 1, 1, 2, 3, 6, 5, 0, 0, 3, 4, 0, 7, 2],\n",
       "      dtype=int64)"
      ]
     },
     "execution_count": 14,
     "metadata": {},
     "output_type": "execute_result"
    }
   ],
   "source": [
    "rng.integers(0,7, size = 21, endpoint=True)"
   ]
  },
  {
   "cell_type": "code",
   "execution_count": null,
   "id": "6d3d12a0-7e03-4688-872f-a679b0459b07",
   "metadata": {},
   "outputs": [],
   "source": [
    "Demonstrate the uniform nature of the numpy.random.Generator.integers function"
   ]
  },
  {
   "cell_type": "code",
   "execution_count": 10,
   "id": "3fe81cb6-d940-4aa8-99ee-652f22739d95",
   "metadata": {},
   "outputs": [],
   "source": [
    "x =rng.integers(100,size = 10000) #assign to var for graphical output"
   ]
  },
  {
   "cell_type": "code",
   "execution_count": 11,
   "id": "1597a6dc-2944-40b4-b3a9-20ce87461abc",
   "metadata": {},
   "outputs": [],
   "source": [
    "import matplotlib.pyplot as plt # import matplotlib"
   ]
  },
  {
   "cell_type": "code",
   "execution_count": 12,
   "id": "07d0fa24-c960-4974-bdf1-f21d339e951e",
   "metadata": {},
   "outputs": [
    {
     "data": {
      "text/plain": [
       "(array([1008., 1019.,  995.,  983.,  989., 1015.,  991.,  964., 1003.,\n",
       "        1033.]),\n",
       " array([ 0. ,  9.9, 19.8, 29.7, 39.6, 49.5, 59.4, 69.3, 79.2, 89.1, 99. ]),\n",
       " <BarContainer object of 10 artists>)"
      ]
     },
     "execution_count": 12,
     "metadata": {},
     "output_type": "execute_result"
    },
    {
     "data": {
      "image/png": "[encoded data removed]",
      "text/plain": [
       "<Figure size 432x288 with 1 Axes>"
      ]
     },
     "metadata": {
      "needs_background": "light"
     },
     "output_type": "display_data"
    }
   ],
   "source": [
    "plt.hist(x)"
   ]
  },
  {
   "cell_type": "code",
   "execution_count": null,
   "id": "75680d3c-8550-4268-9562-2431d56bcb6b",
   "metadata": {},
   "outputs": [],
   "source": []
  },
  {
   "cell_type": "code",
   "execution_count": null,
   "id": "a2ede100-3eaa-46a7-abd1-cd85ab1b4b54",
   "metadata": {},
   "outputs": [],
   "source": []
  }
 ],
 "metadata": {
  "kernelspec": {
   "display_name": "Python 3",
   "language": "python",
   "name": "python3"
  },
  "language_info": {
   "codemirror_mode": {
    "name": "ipython",
    "version": 3
   },
   "file_extension": ".py",
   "mimetype": "text/x-python",
   "name": "python",
   "nbconvert_exporter": "python",
   "pygments_lexer": "ipython3",
   "version": "3.8.8"
  }
 },
 "nbformat": 4,
 "nbformat_minor": 5
}
