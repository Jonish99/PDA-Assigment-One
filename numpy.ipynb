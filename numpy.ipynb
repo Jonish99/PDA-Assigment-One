{
 "cells": [
  {
   "cell_type": "code",
   "execution_count": null,
   "id": "7c07e523-7fc9-43ea-9418-42bdf98aff87",
   "metadata": {},
   "outputs": [],
   "source": []
  },
  {
   "cell_type": "code",
   "execution_count": 1,
   "id": "9d0d56b5-569e-4abf-b3e6-c92666833777",
   "metadata": {
    "tags": []
   },
   "outputs": [],
   "source": [
    "import numpy as np #import libary"
   ]
  },
  {
   "cell_type": "code",
   "execution_count": 2,
   "id": "ee2f4e98-fbb1-4729-b4c7-2a63b7781dba",
   "metadata": {},
   "outputs": [],
   "source": [
    "import matplotlib.pyplot as plt # import matplotlib to show plots for numpy random arrays"
   ]
  },
  {
   "cell_type": "markdown",
   "id": "7f95844f-cfaa-4b1f-8e3b-ecb5b782e424",
   "metadata": {},
   "source": [
    "##### Check numpy version. There have been significant changes since numpy 1.18. Numpy installations less than 1.18 should be upgraded to a later version."
   ]
  },
  {
   "cell_type": "code",
   "execution_count": 3,
   "id": "dc404004-5d84-4cdb-9efe-99d2e5775303",
   "metadata": {},
   "outputs": [
    {
     "data": {
      "text/plain": [
       "'1.20.1'"
      ]
     },
     "execution_count": 3,
     "metadata": {},
     "output_type": "execute_result"
    }
   ],
   "source": [
    "np.version.version #determine numpy version "
   ]
  },
  {
   "cell_type": "code",
   "execution_count": 4,
   "id": "dd33d25b-bbe0-4d31-ae1c-0841d495546b",
   "metadata": {},
   "outputs": [],
   "source": [
    "a=np.random.rand(5,2) "
   ]
  },
  {
   "cell_type": "code",
   "execution_count": 5,
   "id": "88e543a2-89e4-4626-bd4f-876412b75063",
   "metadata": {
    "tags": []
   },
   "outputs": [
    {
     "name": "stdout",
     "output_type": "stream",
     "text": [
      "[[0.83977984 0.12184175]\n",
      " [0.79528521 0.68037192]\n",
      " [0.96313087 0.88194067]\n",
      " [0.92994773 0.15608418]\n",
      " [0.33983228 0.69195384]]\n"
     ]
    }
   ],
   "source": [
    "print(a)"
   ]
  },
  {
   "cell_type": "markdown",
   "id": "993017b3-3696-417c-8e3c-31d2c7eb89e2",
   "metadata": {},
   "source": [
    "### <Strong>1. Simple Random data functions.</Strong>"
   ]
  },
  {
   "cell_type": "markdown",
   "id": "d5d9342d-9112-4d4a-bac7-71e275205a05",
   "metadata": {},
   "source": [
    "#### <strong>1.1 numpy.random.Generator.integers()</strong>"
   ]
  },
  {
   "cell_type": "markdown",
   "id": "a8bb8dbd-d021-4242-85e1-eccb1f385a85",
   "metadata": {},
   "source": [
    "##### The integers() function returns an array of random integers. \n",
    "##### The range is determined by the low and high parameters. low is inclusive, high is exclusive (see endpoint below)\n",
    "##### If one boundary is ommitted then the given value is taken as high and low is zero.\n",
    "##### If the endpoint paramter (boolean) is True then then the high boundary is included in the range\n",
    "##### The size parameter defines the shape of the array. \n",
    "#####    - A single value with return 1 dimensional array of the value length\n",
    "#####    - A low point in \n",
    "##### dtype optional parameter. In the examples below it is ommited because in this notebook there is no real application of the array\n"
   ]
  },
  {
   "cell_type": "code",
   "execution_count": 6,
   "id": "4b428b09-d0ae-4a3a-b0eb-9471f5933ea2",
   "metadata": {},
   "outputs": [],
   "source": [
    "'''https://numpy.org/doc/stable/reference/random/generated/numpy.random.Generator.integers.html#numpy.random.Generator.integers'''\n",
    "\n",
    "#create an alias of the of rng.\n",
    "rng = np.random.default_rng() "
   ]
  },
  {
   "cell_type": "markdown",
   "id": "62a58d91-1c9f-426c-8a9f-292752624f9b",
   "metadata": {},
   "source": [
    "#### <strong>Example 1.1.1.</strong>  - One dimension array with 10 items"
   ]
  },
  {
   "cell_type": "code",
   "execution_count": 7,
   "id": "6e121e68-d550-40b0-98df-74d05de4734f",
   "metadata": {},
   "outputs": [
    {
     "data": {
      "text/plain": [
       "array([0, 0, 0, 1, 0, 0, 0, 1, 0, 0], dtype=int64)"
      ]
     },
     "execution_count": 7,
     "metadata": {},
     "output_type": "execute_result"
    }
   ],
   "source": [
    "\n",
    "'''create an array of 10 items with a range of random integers between 0 & 1 (2). The there is only one range parameter so \n",
    "lower bound is taken as 0'''\n",
    "rng.integers(2, size=10)"
   ]
  },
  {
   "cell_type": "markdown",
   "id": "88942866-4d1c-428b-a895-ca7b2252899e",
   "metadata": {},
   "source": [
    "####  <strong>Example 1.1.2.</strong> - One dimension array with lower and upper bounds set"
   ]
  },
  {
   "cell_type": "code",
   "execution_count": 8,
   "id": "5528d08d-73f8-4e13-a911-a847966df7e6",
   "metadata": {
    "tags": []
   },
   "outputs": [
    {
     "data": {
      "text/plain": [
       "array([7, 6, 5, 4, 5, 6, 6, 7], dtype=int64)"
      ]
     },
     "execution_count": 8,
     "metadata": {},
     "output_type": "execute_result"
    }
   ],
   "source": [
    "'''create an array of 10 items with a range of random integers between 4 & 7 (4,8)'''\n",
    "rng.integers(4, 8, size=8)"
   ]
  },
  {
   "cell_type": "markdown",
   "id": "5ffc2c19-8367-41cf-add6-06f3b4d6b8be",
   "metadata": {},
   "source": [
    "##### <strong>Example 1.1.3.</strong> - Two dimensional array of integers. 5 arrays of 2 item arrays. Upper bound 6 = 0 to 5"
   ]
  },
  {
   "cell_type": "code",
   "execution_count": 9,
   "id": "e4877f44-19b3-4521-9ac8-518cce68321c",
   "metadata": {},
   "outputs": [
    {
     "data": {
      "text/plain": [
       "array([[2, 5],\n",
       "       [2, 1],\n",
       "       [3, 2],\n",
       "       [4, 2],\n",
       "       [4, 0]], dtype=int64)"
      ]
     },
     "execution_count": 9,
     "metadata": {},
     "output_type": "execute_result"
    }
   ],
   "source": [
    "'''create a 2 x 4(size)  array with a range of integers between 0 & 5 (6)'''\n",
    "rng.integers(6, size=(5, 2))\n",
    "#data returned as integer dtype=int64"
   ]
  },
  {
   "cell_type": "code",
   "execution_count": 10,
   "id": "b98d468c-5e52-4cf1-b41c-7ddf09705557",
   "metadata": {},
   "outputs": [],
   "source": [
    "##### <strong>Example 1.1.3.</strong> 3 x 2 x 4 ndarray - multimensional array"
   ]
  },
  {
   "cell_type": "code",
   "execution_count": 11,
   "id": "6eab96e6-d259-4468-8b97-516cac6d0abe",
   "metadata": {},
   "outputs": [
    {
     "data": {
      "text/plain": [
       "array([[[3, 4, 0, 2],\n",
       "        [0, 1, 1, 1]],\n",
       "\n",
       "       [[3, 5, 2, 2],\n",
       "        [0, 2, 1, 2]],\n",
       "\n",
       "       [[0, 4, 2, 5],\n",
       "        [2, 0, 1, 4]]], dtype=int64)"
      ]
     },
     "execution_count": 11,
     "metadata": {},
     "output_type": "execute_result"
    }
   ],
   "source": [
    "rng.integers(6, size=(3, 2, 4 ))"
   ]
  },
  {
   "cell_type": "markdown",
   "id": "cf45a3c6-5e2b-464e-95f9-3303051b3398",
   "metadata": {},
   "source": [
    "##### <strong>Example 1.1.5.</strong> - A single parameter of 3 values returns 3 values each with it's own upper boundary"
   ]
  },
  {
   "cell_type": "code",
   "execution_count": 12,
   "id": "ee9d4ee9-9889-4468-870e-2b537637c058",
   "metadata": {
    "tags": []
   },
   "outputs": [
    {
     "data": {
      "text/plain": [
       "array([2, 0, 5], dtype=int64)"
      ]
     },
     "execution_count": 12,
     "metadata": {},
     "output_type": "execute_result"
    }
   ],
   "source": [
    "rng.integers([3, 5, 10])"
   ]
  },
  {
   "cell_type": "markdown",
   "id": "9f538223-279f-4e34-b503-44af975ccea3",
   "metadata": {},
   "source": [
    "##### <strong>Example 1.1.6.</strong> - Two array parameters one of lower boundaries, one of upper boundaries"
   ]
  },
  {
   "cell_type": "code",
   "execution_count": 13,
   "id": "ef60993e-3149-4bcd-a584-4bf2f397f32a",
   "metadata": {
    "tags": []
   },
   "outputs": [
    {
     "data": {
      "text/plain": [
       "array([ 3,  7, 12], dtype=int64)"
      ]
     },
     "execution_count": 13,
     "metadata": {},
     "output_type": "execute_result"
    }
   ],
   "source": [
    "rng.integers([3, 7, 12],[6, 12, 15])"
   ]
  },
  {
   "cell_type": "markdown",
   "id": "99bcfa0b-00ab-4004-8d13-a46876190256",
   "metadata": {},
   "source": [
    "##### <strong>Example 1.1.7</strong> - Setting the endpoint as True to include the high boundary (large array)\n"
   ]
  },
  {
   "cell_type": "code",
   "execution_count": 14,
   "id": "f4d67ad0-b8e6-4386-aca8-5ae1d86c5204",
   "metadata": {},
   "outputs": [
    {
     "data": {
      "text/plain": [
       "array([3, 3, 0, 6, 2, 6, 3, 1, 1, 3, 2, 0, 4, 0, 7, 0, 7, 6, 0, 6, 5],\n",
       "      dtype=int64)"
      ]
     },
     "execution_count": 14,
     "metadata": {},
     "output_type": "execute_result"
    }
   ],
   "source": [
    "rng.integers(0,7, size = 21, endpoint=True)"
   ]
  },
  {
   "cell_type": "markdown",
   "id": "4b4473a9-1b89-4692-b237-fbe41334206e",
   "metadata": {},
   "source": [
    "##### <strong>Example 1.1.7.</strong> - Single parameter, the only mandatory parameter is upper boundary. Size defaults to 1. It also returns a single integer not an array."
   ]
  },
  {
   "cell_type": "code",
   "execution_count": 15,
   "id": "a86ffb53-580b-4c5e-8a7a-d2ba5a25f3b6",
   "metadata": {},
   "outputs": [
    {
     "data": {
      "text/plain": [
       "8"
      ]
     },
     "execution_count": 15,
     "metadata": {},
     "output_type": "execute_result"
    }
   ],
   "source": [
    "rng.integers(10) "
   ]
  },
  {
   "cell_type": "markdown",
   "id": "45c4ffce-6606-4106-b9aa-389e59969076",
   "metadata": {},
   "source": [
    "##### <strong>Example 1.1.8.</strong> A single upper boundary and size of 1 will return an array with one value."
   ]
  },
  {
   "cell_type": "code",
   "execution_count": 16,
   "id": "e4ac0860-2a01-4357-bb1b-d928a013c2be",
   "metadata": {},
   "outputs": [
    {
     "data": {
      "text/plain": [
       "array([0], dtype=int64)"
      ]
     },
     "execution_count": 16,
     "metadata": {},
     "output_type": "execute_result"
    }
   ],
   "source": [
    "rng.integers(10,size=1) "
   ]
  },
  {
   "cell_type": "code",
   "execution_count": null,
   "id": "c7a6e7c4-6152-4e7b-983b-af0bf1a60bb9",
   "metadata": {},
   "outputs": [],
   "source": []
  },
  {
   "cell_type": "markdown",
   "id": "afb13bf9-98c3-41d2-a045-a48f74858275",
   "metadata": {},
   "source": [
    "#### Demonstrate the uniform nature of the numpy.random.Generator.integers function"
   ]
  },
  {
   "cell_type": "code",
   "execution_count": 17,
   "id": "3fe81cb6-d940-4aa8-99ee-652f22739d95",
   "metadata": {},
   "outputs": [],
   "source": [
    "arr =rng.integers(100,size = 10000) #assign to var for graphical output"
   ]
  },
  {
   "cell_type": "code",
   "execution_count": 18,
   "id": "1597a6dc-2944-40b4-b3a9-20ce87461abc",
   "metadata": {},
   "outputs": [],
   "source": [
    "import matplotlib.pyplot as plt # import matplotlib"
   ]
  },
  {
   "cell_type": "code",
   "execution_count": 19,
   "id": "07d0fa24-c960-4974-bdf1-f21d339e951e",
   "metadata": {},
   "outputs": [
    {
     "data": {
      "text/plain": [
       "(array([1017.,  984., 1006., 1059.,  979.,  938., 1008., 1017.,  965.,\n",
       "        1027.]),\n",
       " array([ 0. ,  9.9, 19.8, 29.7, 39.6, 49.5, 59.4, 69.3, 79.2, 89.1, 99. ]),\n",
       " <BarContainer object of 10 artists>)"
      ]
     },
     "execution_count": 19,
     "metadata": {},
     "output_type": "execute_result"
    },
    {
     "data": {
      "image/png": "[encoded data removed]",
      "text/plain": [
       "<Figure size 432x288 with 1 Axes>"
      ]
     },
     "metadata": {
      "needs_background": "light"
     },
     "output_type": "display_data"
    }
   ],
   "source": [
    "plt.hist(arr)"
   ]
  },
  {
   "cell_type": "markdown",
   "id": "090d3922-7ed4-4b99-872e-0a5312054430",
   "metadata": {},
   "source": [
    "***"
   ]
  },
  {
   "cell_type": "markdown",
   "id": "236dfa4f-aab2-45ec-97e2-c1d9c73ede61",
   "metadata": {
    "tags": []
   },
   "source": [
    "#### <strong>1.2 numpy.random.Generator.random()</strong>"
   ]
  },
  {
   "cell_type": "code",
   "execution_count": 20,
   "id": "e8371119-b9d0-4c1f-9bf4-5c6e69f8e5ff",
   "metadata": {},
   "outputs": [],
   "source": [
    "#https://numpy.org/doc/stable/reference/random/generated/numpy.random.Generator.random.html#numpy.random.Generator.random\n"
   ]
  },
  {
   "cell_type": "markdown",
   "id": "b0bddcbb-f0ae-4b1b-b02c-36fce99b51b5",
   "metadata": {
    "tags": []
   },
   "source": [
    "##### The random() function returns an array of random floats between 0.0 and 1.0. \n",
    "##### The random function can accept no parameters, it will return a single floating point number between 0.0 and 1.0\n",
    "##### To generate random numbers with limits above 1.0 use positive multipliers before the expression and below 0.0 use negative multipliers after the expression.\n",
    "##### The size parameter will generate an ndarray  corresponding to values passed."
   ]
  },
  {
   "cell_type": "code",
   "execution_count": 21,
   "id": "bc141a8f-2a6b-49fd-a5bd-601be8b481aa",
   "metadata": {
    "tags": []
   },
   "outputs": [],
   "source": [
    "#Create a alias for the random number generator\n",
    "\n",
    "rng =  np.random.default_rng()"
   ]
  },
  {
   "cell_type": "markdown",
   "id": "d23e7b7b-169f-4aa6-9582-7f5df0eae8c9",
   "metadata": {},
   "source": [
    "##### <strong>Example 1.2.1.</strong> No parameter, single float is return"
   ]
  },
  {
   "cell_type": "code",
   "execution_count": 22,
   "id": "98f8daf5-518d-4e86-a342-4fbef246e4ad",
   "metadata": {},
   "outputs": [],
   "source": [
    "#No size is passed so a single float is returned"
   ]
  },
  {
   "cell_type": "code",
   "execution_count": 23,
   "id": "b68e2d1e-2415-49b2-96ae-1faeb8fa286f",
   "metadata": {
    "tags": []
   },
   "outputs": [
    {
     "data": {
      "text/plain": [
       "0.40413908918672203"
      ]
     },
     "execution_count": 23,
     "metadata": {},
     "output_type": "execute_result"
    }
   ],
   "source": [
    "rng.random() "
   ]
  },
  {
   "cell_type": "markdown",
   "id": "0d135d07-58dc-4b4c-b07f-cb0965e32e47",
   "metadata": {},
   "source": [
    "##### <strong>Example 1.2.2.</strong> Multipy a single return value (between 0.1 and 1.0) to get a random number between 0 and the multiplier (-5)\n",
    "##### Place a positive multiplier before the expression and negative after the expression"
   ]
  },
  {
   "cell_type": "code",
   "execution_count": 24,
   "id": "252a1c12-e5be-4e88-abbf-9f8075085d3a",
   "metadata": {
    "tags": []
   },
   "outputs": [
    {
     "data": {
      "text/plain": [
       "-4.828235244668383"
      ]
     },
     "execution_count": 24,
     "metadata": {},
     "output_type": "execute_result"
    }
   ],
   "source": [
    "rng.random() - 5"
   ]
  },
  {
   "cell_type": "markdown",
   "id": "0f011489-c9b3-472b-aac3-8fa9e1081d7b",
   "metadata": {
    "tags": []
   },
   "source": [
    "##### <strong>Example 1.2.3.</strong>  Return a 2 dimension array of 3 arrays of two items each. No multiplier so each value between (between 0.1 and 1.0)"
   ]
  },
  {
   "cell_type": "code",
   "execution_count": 25,
   "id": "44fc5f4f-75c1-481a-91fa-900a79430a32",
   "metadata": {},
   "outputs": [
    {
     "data": {
      "text/plain": [
       "array([[0.7763727 , 0.71947106],\n",
       "       [0.88167884, 0.72582164],\n",
       "       [0.39599579, 0.05276322]])"
      ]
     },
     "execution_count": 25,
     "metadata": {},
     "output_type": "execute_result"
    }
   ],
   "source": [
    "rng.random((3, 2)) "
   ]
  },
  {
   "cell_type": "code",
   "execution_count": 26,
   "id": "b034970c-6f6b-494e-8070-70bae0eace09",
   "metadata": {},
   "outputs": [],
   "source": [
    "##### <strong>Example 1.2.4.</strong>  Return a 2 dimension array of 3 arrays of 2 items each. Use a multiplier of -5 to create random numbers between 0 and -5"
   ]
  },
  {
   "cell_type": "code",
   "execution_count": 27,
   "id": "7541c530-8bea-40ea-91c3-9595660e2cb9",
   "metadata": {},
   "outputs": [
    {
     "data": {
      "text/plain": [
       "array([[-4.88250839, -4.47995216],\n",
       "       [-4.18146882, -4.96742853],\n",
       "       [-4.47750798, -4.18808838]])"
      ]
     },
     "execution_count": 27,
     "metadata": {},
     "output_type": "execute_result"
    }
   ],
   "source": [
    "rng.random((3, 2)) - 5"
   ]
  },
  {
   "cell_type": "code",
   "execution_count": 28,
   "id": "a6806e29-0de0-4a44-95ac-a4c062c2649f",
   "metadata": {},
   "outputs": [],
   "source": [
    "##### <strong>Example 1.2.5.</strong>  Return a 2 dimension array of 4 arrays of 6 items each. Use a multiplier of 5 to create random numbers between 0 and 5"
   ]
  },
  {
   "cell_type": "code",
   "execution_count": 29,
   "id": "88f842b6-2b41-42b0-8042-d852b35489f0",
   "metadata": {},
   "outputs": [
    {
     "data": {
      "text/plain": [
       "array([[5.95522059, 3.65124018, 5.4027966 , 4.27014583, 4.51320157,\n",
       "        1.03706135],\n",
       "       [2.37817743, 2.27085601, 1.29230727, 4.62557405, 5.39446239,\n",
       "        4.89387303],\n",
       "       [2.86403005, 5.57860219, 4.21176037, 1.19058097, 4.2365104 ,\n",
       "        1.87201702],\n",
       "       [4.31556731, 0.52441576, 1.59350907, 1.77335704, 4.50722478,\n",
       "        2.37715718]])"
      ]
     },
     "execution_count": 29,
     "metadata": {},
     "output_type": "execute_result"
    }
   ],
   "source": [
    "6 * rng.random((4, 6))"
   ]
  },
  {
   "cell_type": "markdown",
   "id": "b0492074-2d56-47db-b22b-f8d4d5f69752",
   "metadata": {},
   "source": [
    "***"
   ]
  },
  {
   "cell_type": "markdown",
   "id": "ed234f2c-dcfc-4bfd-b50d-675ae5662d7a",
   "metadata": {},
   "source": [
    "#### <strong>1.3 numpy.random.Generator.choice</strong>"
   ]
  },
  {
   "cell_type": "markdown",
   "id": "aa3fe0ee-4cec-4d92-bb8d-3c99e1deb4dd",
   "metadata": {},
   "source": [
    "##### The choice function selects a random sample from a given array\n",
    "#https://numpy.org/doc/stable/reference/random/generated/numpy.random.Generator.choice.html\n",
    "\n",
    "An array parameter is used from which to sample\n",
    "\n",
    "The size of the return array must be set, this has a relationship to the input array. \n",
    "\n",
    "The p parameter can created weighting to specific items from the sample array. This intends to create a non-uniform distribution. The size of the properties array must be equal to the sample array.\n",
    "\n",
    "Other data types such as strings can be used is the sample array.\n",
    "\n",
    "\n"
   ]
  },
  {
   "cell_type": "code",
   "execution_count": 30,
   "id": "dd4b6748-3aa3-4480-bbbc-72c2a4ace838",
   "metadata": {},
   "outputs": [],
   "source": [
    "# create an alias for the random number generator\n",
    "rng = np.random.default_rng()"
   ]
  },
  {
   "cell_type": "markdown",
   "id": "66341813-6d70-488b-8532-b7cd3baee8b3",
   "metadata": {},
   "source": [
    "##### <strong>Example 1.3.1.</strong> Using choice in its simplest form. choose 10 integers from a 1d array of integers between 0 and 20 and return an array\n",
    "###### "
   ]
  },
  {
   "cell_type": "code",
   "execution_count": 31,
   "id": "f0b1dec1-53b6-4f8d-bbe8-370b010c83eb",
   "metadata": {
    "tags": []
   },
   "outputs": [
    {
     "data": {
      "text/plain": [
       "array([ 7, 19,  0,  8, 13,  8,  3, 16,  2, 10], dtype=int64)"
      ]
     },
     "execution_count": 31,
     "metadata": {},
     "output_type": "execute_result"
    }
   ],
   "source": [
    "rng.choice(20, 10)"
   ]
  },
  {
   "cell_type": "markdown",
   "id": "ed43ad47-4496-48de-b300-098c937f3a94",
   "metadata": {
    "tags": []
   },
   "source": [
    "##### <strong>Example 1.3.2.</strong> 1.3.1 using strings\n",
    "Example 1.3.1 doesnt offer much more than the integers function.\n",
    "However, if the list is an array of strings it becomes more useful"
   ]
  },
  {
   "cell_type": "code",
   "execution_count": 32,
   "id": "20b83a07-7c90-4904-9e3b-f013222912ec",
   "metadata": {},
   "outputs": [],
   "source": [
    "arrWriters = ['Becket','Joyce','Wilde','Binchy','Behan','Doyle']"
   ]
  },
  {
   "cell_type": "code",
   "execution_count": 33,
   "id": "64c15651-7dae-40e2-b891-a667990b010e",
   "metadata": {},
   "outputs": [
    {
     "data": {
      "text/plain": [
       "array(['Behan', 'Doyle', 'Binchy', 'Behan', 'Doyle', 'Doyle', 'Wilde',\n",
       "       'Becket', 'Binchy', 'Becket'], dtype='<U6')"
      ]
     },
     "execution_count": 33,
     "metadata": {},
     "output_type": "execute_result"
    }
   ],
   "source": [
    "rng.choice(arrWriters, 10)"
   ]
  },
  {
   "cell_type": "markdown",
   "id": "1b745f46-8f46-4031-88e9-7097eafdf8df",
   "metadata": {},
   "source": [
    "##### <strong>Example 1.3.3.</strong> Testing the effect of using the replace option\n",
    "###### Using the same shape and range as example 1.3.1 but now using the replace=false parameter, guarantees list items are not repeated\n",
    "###### If the range is smaller than the array length then an error occurs because it is not possible to produce an array of unique items with those parameters"
   ]
  },
  {
   "cell_type": "code",
   "execution_count": 34,
   "id": "3be798b8-2ff7-4d1c-8256-3e3d9f846882",
   "metadata": {
    "tags": []
   },
   "outputs": [
    {
     "data": {
      "text/plain": [
       "array([ 0,  2,  3, 14, 19, 17, 16, 10, 13,  4], dtype=int64)"
      ]
     },
     "execution_count": 34,
     "metadata": {},
     "output_type": "execute_result"
    }
   ],
   "source": [
    "rng.choice(20, 10, replace=False)"
   ]
  },
  {
   "cell_type": "markdown",
   "id": "e9521748-2a2e-4e60-8c9f-d4905c9c4f3e",
   "metadata": {},
   "source": [
    "\n",
    "##### <strong>Example 1.3.4.</strong> -  Using the P parameter to weigh probablitly for items in a range."
   ]
  },
  {
   "cell_type": "markdown",
   "id": "fb632b32-5a88-454c-b68e-de9d67b64070",
   "metadata": {},
   "source": [
    "###### In this example, because the range length is 6, 0-5 there must be a p value set for each\n",
    "Becket = .1 or 10%\n",
    "\n",
    "Joyce = 0, or 0%, 1 will never occur in the output array\n",
    "\n",
    "Wilde = 0.2 or 20%\n",
    "\n",
    "Binchy = 0.6 or 60%, 3 will be the most frequent occurence in the array\n",
    "\n",
    "Behan = 0, or 0%, 4 will never occur in the output array \n",
    "\n",
    "Doyle = .1 or 10%"
   ]
  },
  {
   "cell_type": "code",
   "execution_count": 35,
   "id": "6cad0052-949a-4e31-9bd0-66413cc382c0",
   "metadata": {
    "tags": []
   },
   "outputs": [
    {
     "data": {
      "text/plain": [
       "array(['Binchy', 'Binchy', 'Wilde', 'Binchy', 'Binchy', 'Binchy',\n",
       "       'Binchy', 'Binchy', 'Wilde', 'Binchy'], dtype='<U6')"
      ]
     },
     "execution_count": 35,
     "metadata": {},
     "output_type": "execute_result"
    }
   ],
   "source": [
    "#replace default to true, but the parameter is used here as it is changed during development\n",
    "rng.choice(arrWriters, 10, replace=True, p=[0.1, 0, 0.2, 0.6, 0, 0.1])  #123456"
   ]
  },
  {
   "cell_type": "markdown",
   "id": "ef1d30e6-1341-43fe-a09f-f9c90a3bcaf9",
   "metadata": {},
   "source": [
    "##### Use P in plot with a much larger array, to illustrate the P parameter"
   ]
  },
  {
   "cell_type": "code",
   "execution_count": 36,
   "id": "2ee94dd3-5b75-4b4a-a4db-097694ea0e22",
   "metadata": {},
   "outputs": [],
   "source": [
    "arr= rng.choice(arrWriters, 10000, replace=True, p=[0.1, 0, 0.2, 0.6, 0, 0.1])  "
   ]
  },
  {
   "cell_type": "code",
   "execution_count": 37,
   "id": "ee6bae4e-f54d-4708-9582-3811809f922d",
   "metadata": {},
   "outputs": [
    {
     "data": {
      "text/plain": [
       "(array([1965.,    0.,    0., 6078.,    0.,    0.,  974.,    0.,    0.,\n",
       "         983.]),\n",
       " array([0. , 0.3, 0.6, 0.9, 1.2, 1.5, 1.8, 2.1, 2.4, 2.7, 3. ]),\n",
       " <BarContainer object of 10 artists>)"
      ]
     },
     "execution_count": 37,
     "metadata": {},
     "output_type": "execute_result"
    },
    {
     "data": {
      "image/png": "[encoded data removed]",
      "text/plain": [
       "<Figure size 432x288 with 1 Axes>"
      ]
     },
     "metadata": {
      "needs_background": "light"
     },
     "output_type": "display_data"
    }
   ],
   "source": [
    "plt.hist(arr)"
   ]
  },
  {
   "cell_type": "markdown",
   "id": "868d3286-6cf0-4f44-b72e-7d917979d68b",
   "metadata": {},
   "source": [
    "##### <strong>Example 1.3.5.</strong> "
   ]
  },
  {
   "cell_type": "code",
   "execution_count": 38,
   "id": "5a5f2cd6-9a64-4c24-b93b-751d5e71e100",
   "metadata": {
    "tags": []
   },
   "outputs": [
    {
     "data": {
      "text/plain": [
       "array([ 0,  2, 11,  6,  5, 14, 16,  8,  7,  9], dtype=int64)"
      ]
     },
     "execution_count": 38,
     "metadata": {},
     "output_type": "execute_result"
    }
   ],
   "source": [
    "rng.choice(20, 10, shuffle=False, replace=False)"
   ]
  },
  {
   "cell_type": "code",
   "execution_count": 39,
   "id": "5206b314-0ee0-4deb-b154-62d1a7d10b07",
   "metadata": {},
   "outputs": [
    {
     "data": {
      "text/plain": [
       "array([14, 18, 19,  1,  9,  5, 11, 12, 19,  9], dtype=int64)"
      ]
     },
     "execution_count": 39,
     "metadata": {},
     "output_type": "execute_result"
    }
   ],
   "source": [
    "rng.choice(20, 10, shuffle=True)"
   ]
  },
  {
   "cell_type": "markdown",
   "id": "818e8623-042a-4ecb-9b2e-f1da85c52f44",
   "metadata": {},
   "source": [
    "##### <strong>Example 1.3.6.</strong> - passing a 3 x 3 2d array to sample into a size 10 item array.\n",
    "In this example there is range of 3 items which can be sampled and returned to the array. Each item is 3 item array, each of these are sampled as a whole and returned to the 10 item array resulting in a 3 x 10 nd array.\n",
    "''If a has more than one dimension, the size shape will be inserted into the axis dimension, so the output ndim will be a.ndim - 1 + len(size).'' https://numpy.org/doc/stable/reference/random/generated/numpy.random.Generator.choice.html (The default axis is 0)\n",
    "\n",
    "replace = True, because the size of the return array is greater(10) than the original (3)\n",
    "\n"
   ]
  },
  {
   "cell_type": "code",
   "execution_count": 40,
   "id": "c8230115-0c0b-4b9c-8abf-ee59d204979e",
   "metadata": {},
   "outputs": [
    {
     "data": {
      "text/plain": [
       "array([[3, 4, 5],\n",
       "       [6, 7, 8],\n",
       "       [3, 4, 5],\n",
       "       [6, 7, 8],\n",
       "       [6, 7, 8],\n",
       "       [3, 4, 5],\n",
       "       [0, 1, 2],\n",
       "       [3, 4, 5],\n",
       "       [0, 1, 2],\n",
       "       [6, 7, 8]])"
      ]
     },
     "execution_count": 40,
     "metadata": {},
     "output_type": "execute_result"
    }
   ],
   "source": [
    "\n",
    "rng.choice([[0, 1, 2,], [3, 4, 5], [6, 7, 8]], 10 , replace=True)\n"
   ]
  },
  {
   "cell_type": "code",
   "execution_count": 41,
   "id": "0db417a0-c4c8-4093-a219-9ad19d98d594",
   "metadata": {},
   "outputs": [],
   "source": [
    "##### <strong>Example 1.3.7.</strong> Using the axis paramter to change the shape of the output array from example 1.3.5"
   ]
  },
  {
   "cell_type": "code",
   "execution_count": 42,
   "id": "8ed74003-0c25-49c6-b9ae-5ec9aa9d9530",
   "metadata": {},
   "outputs": [
    {
     "data": {
      "text/plain": [
       "array([[0, 1, 1, 1, 1, 2, 0, 0, 2, 1],\n",
       "       [3, 4, 4, 4, 4, 5, 3, 3, 5, 4],\n",
       "       [6, 7, 7, 7, 7, 8, 6, 6, 8, 7]])"
      ]
     },
     "execution_count": 42,
     "metadata": {},
     "output_type": "execute_result"
    }
   ],
   "source": [
    "  rng.choice([[0, 1, 2,], [3, 4, 5], [6, 7, 8]], 10 , replace=True, axis = 1)"
   ]
  },
  {
   "cell_type": "markdown",
   "id": "18d698c0-088c-4238-ad9a-7e5bb0fe4263",
   "metadata": {},
   "source": [
    "##### <strong>Example 1.3.7.</strong> "
   ]
  },
  {
   "cell_type": "markdown",
   "id": "6452ba3a-e30e-46f3-8db6-ecff507b18ca",
   "metadata": {},
   "source": [
    "***"
   ]
  },
  {
   "cell_type": "markdown",
   "id": "a33d0dcb-e7b5-4882-93d1-9c53b3ca9287",
   "metadata": {},
   "source": [
    "#### <strong>1.4 numpy.random.Generator.bytes()</strong>\n",
    "##### Returns an array of bytes. Seemingly in Hexdec format on this machine"
   ]
  },
  {
   "cell_type": "code",
   "execution_count": 43,
   "id": "d31862bf-17cc-4a2f-acca-d01f816d2494",
   "metadata": {},
   "outputs": [
    {
     "data": {
      "text/plain": [
       "b'\\x00\\xe40M\\xe3\\r\\xa5\\x02\\xfc\\xb8'"
      ]
     },
     "execution_count": 43,
     "metadata": {},
     "output_type": "execute_result"
    }
   ],
   "source": [
    "np.random.default_rng().bytes(10)\n",
    "#"
   ]
  },
  {
   "cell_type": "code",
   "execution_count": 44,
   "id": "df9ef6a0-76e3-4b4b-8da4-d0a15de2759c",
   "metadata": {},
   "outputs": [],
   "source": [
    "import binascii\n",
    "x = np.random.default_rng().bytes(10)"
   ]
  },
  {
   "cell_type": "code",
   "execution_count": 45,
   "id": "9000a597-5eaf-4fb4-b385-69ff63cb9cfb",
   "metadata": {},
   "outputs": [
    {
     "name": "stdout",
     "output_type": "stream",
     "text": [
      "b'1f9677a2559bd1dd5ac6'\n"
     ]
    }
   ],
   "source": [
    "print(binascii.hexlify(x))\n",
    "y = binascii.hexlify(x)"
   ]
  },
  {
   "cell_type": "code",
   "execution_count": 46,
   "id": "a02e6580-4de6-4d71-8831-65e24c135502",
   "metadata": {},
   "outputs": [
    {
     "name": "stdout",
     "output_type": "stream",
     "text": [
      "31\n",
      "150\n",
      "119\n",
      "162\n",
      "85\n",
      "155\n",
      "209\n",
      "221\n",
      "90\n",
      "198\n"
     ]
    }
   ],
   "source": [
    "#separating each byte in the list \n",
    "#loop through the array converts each byte to a decimal format.\n",
    "for bt in x:\n",
    "    print (bt)\n",
    "    #print(binascii.hexlify(bt))"
   ]
  },
  {
   "cell_type": "markdown",
   "id": "abbc8d46-40cb-4756-8e14-fc0d480c67ce",
   "metadata": {},
   "source": [
    "***\n",
    "***\n"
   ]
  },
  {
   "cell_type": "markdown",
   "id": "f03f161b-4187-4354-8139-f74551fb6ca8",
   "metadata": {},
   "source": [
    "### <Strong>2. Permutations functions.</Strong>"
   ]
  },
  {
   "cell_type": "markdown",
   "id": "68c9fab5-a0ac-46ec-ba33-c094b80e5523",
   "metadata": {},
   "source": [
    "###### Permutation functions change the arrangement of items in an array\n",
    "#### <strong> 2.1 numpy.random.Generator.shuffle()</strong>\n",
    "#### The shuffle function takes an array and reorders the items in the list. It does this in place rather than make a copy in memory, this is slightly slower and loses the original order of the array."
   ]
  },
  {
   "cell_type": "markdown",
   "id": "6aa64e85-1c22-437a-a839-95867fbd0682",
   "metadata": {},
   "source": [
    "##### <strong>Example 2.1.1.</strong>Shuffle the value in a 1 dimension array."
   ]
  },
  {
   "cell_type": "code",
   "execution_count": null,
   "id": "d26af84b-c6e1-4ff2-ba05-da417956b7af",
   "metadata": {},
   "outputs": [],
   "source": [
    "rng = np.random.default_rng()\n",
    "#https://www.guru99.com/numpy-tutorial.html#7\n",
    "#use the numpy arrange function to create an array of integers, in order from 0-9\n",
    "arr = np.arange(10)\n",
    "arr\n"
   ]
  },
  {
   "cell_type": "code",
   "execution_count": null,
   "id": "04fc7fc9-8770-46ff-82db-124fc3cd22f3",
   "metadata": {},
   "outputs": [],
   "source": []
  },
  {
   "cell_type": "code",
   "execution_count": null,
   "id": "d48e397e-368d-434b-80b2-9bea742e7913",
   "metadata": {},
   "outputs": [],
   "source": [
    "#shuffle the order of the array to create a new order.\n",
    "rng.shuffle(arr) #This does not return output -the shuffle occurs in place\n"
   ]
  },
  {
   "cell_type": "code",
   "execution_count": null,
   "id": "dd61a651-0421-4d3a-abdb-ee7028fd32cf",
   "metadata": {},
   "outputs": [],
   "source": [
    "arr #heres the shuffled array"
   ]
  },
  {
   "cell_type": "markdown",
   "id": "6de6c9fb-14fe-42f3-8054-687743248a5e",
   "metadata": {},
   "source": [
    "##### <strong>Example 2.1.2.</strong> Shuffle the value in a 2 dimension array."
   ]
  },
  {
   "cell_type": "code",
   "execution_count": 55,
   "id": "d6ee6498-705d-4ad0-b090-7788d0dbbc56",
   "metadata": {},
   "outputs": [
    {
     "data": {
      "text/plain": [
       "array([[ 0,  1,  2,  3],\n",
       "       [ 4,  5,  6,  7],\n",
       "       [ 8,  9, 10, 11],\n",
       "       [12, 13, 14, 15]])"
      ]
     },
     "execution_count": 55,
     "metadata": {},
     "output_type": "execute_result"
    }
   ],
   "source": [
    "#Use the numpy arrange function to create an array of integers, in order from 0-15 an\n",
    "arr = np.arange(16).reshape((4, 4))\n",
    "arr\n"
   ]
  },
  {
   "cell_type": "code",
   "execution_count": 56,
   "id": "b44c1f5d-8c48-462a-bb0f-df9cd953ae7a",
   "metadata": {
    "tags": []
   },
   "outputs": [
    {
     "data": {
      "text/plain": [
       "array([[ 8,  9, 10, 11],\n",
       "       [ 0,  1,  2,  3],\n",
       "       [ 4,  5,  6,  7],\n",
       "       [12, 13, 14, 15]])"
      ]
     },
     "execution_count": 56,
     "metadata": {},
     "output_type": "execute_result"
    }
   ],
   "source": [
    "#use the shuffle function to shuffle the 4 arrays on axis 0 (default)\n",
    "rng.shuffle(arr)\n",
    "arr"
   ]
  },
  {
   "cell_type": "code",
   "execution_count": 57,
   "id": "d04b59bf-cc5b-4a4b-a56c-b9c0c228444c",
   "metadata": {},
   "outputs": [],
   "source": [
    "##### <strong>Example 2.1.3.</strong> Shuffle the value in a 2 dimension array on axis 1"
   ]
  },
  {
   "cell_type": "code",
   "execution_count": 58,
   "id": "eed718b0-5642-4823-82e4-6efd27973a88",
   "metadata": {},
   "outputs": [
    {
     "data": {
      "text/plain": [
       "array([[ 9,  8, 10, 11],\n",
       "       [ 1,  0,  2,  3],\n",
       "       [ 5,  4,  6,  7],\n",
       "       [13, 12, 14, 15]])"
      ]
     },
     "execution_count": 58,
     "metadata": {},
     "output_type": "execute_result"
    }
   ],
   "source": [
    "#using the same same array returned from example 2.1.2, shuffle the lists on axis, \n",
    "rng.shuffle(arr, axis=1)\n",
    "arr"
   ]
  },
  {
   "cell_type": "code",
   "execution_count": null,
   "id": "d5dd8f9f-9233-4880-9bfc-aeb6112bccdb",
   "metadata": {},
   "outputs": [],
   "source": []
  },
  {
   "cell_type": "markdown",
   "id": "9148e946-1650-4ee8-a772-1d74ba13d1a5",
   "metadata": {},
   "source": [
    "#### <strong>2.2 numpy.random.Generator.permutation()</strong>\n",
    "##### The permuation function takes an array and reorders the items in the list. \n",
    "'https://stackoverflow.com/questions/15474159/shuffle-vs-permute-numpy\n",
    "Permutation returns a value which can be qassi"
   ]
  },
  {
   "cell_type": "markdown",
   "id": "7b189118-bf18-47ac-a571-2915e24d8e5b",
   "metadata": {},
   "source": [
    "##### <strong>Example 2.2.1</strong>Shuffle the value in a 1 dimension array."
   ]
  },
  {
   "cell_type": "code",
   "execution_count": 67,
   "id": "928c22df-fe02-4982-a678-5de5ff98e310",
   "metadata": {},
   "outputs": [
    {
     "data": {
      "text/plain": [
       "array([0, 1, 2, 3, 4, 5, 6, 7, 8, 9])"
      ]
     },
     "execution_count": 67,
     "metadata": {},
     "output_type": "execute_result"
    }
   ],
   "source": [
    "rng = np.random.default_rng()\n",
    "arr = np.arange(10)\n",
    "arr"
   ]
  },
  {
   "cell_type": "markdown",
   "id": "f9348612-35e7-4698-a8e5-9e1aed669c53",
   "metadata": {},
   "source": []
  },
  {
   "cell_type": "code",
   "execution_count": 63,
   "id": "734347d2-5147-465b-afdd-078b86734dda",
   "metadata": {},
   "outputs": [
    {
     "data": {
      "text/plain": [
       "array([0, 4, 7, 3, 8, 5, 9, 2, 1, 6])"
      ]
     },
     "execution_count": 63,
     "metadata": {},
     "output_type": "execute_result"
    }
   ],
   "source": [
    "rng.permutation(arr) #this returns output as a copy of the permuted array. "
   ]
  },
  {
   "cell_type": "code",
   "execution_count": 64,
   "id": "4a409ff5-aece-409f-aad6-eb033d962d01",
   "metadata": {},
   "outputs": [
    {
     "data": {
      "text/plain": [
       "array([0, 1, 2, 3, 4, 5, 6, 7, 8, 9])"
      ]
     },
     "execution_count": 64,
     "metadata": {},
     "output_type": "execute_result"
    }
   ],
   "source": [
    "arr # now print arr and see that it is unchanged and the permutation above is a copy which can be assigned to a variable"
   ]
  },
  {
   "cell_type": "code",
   "execution_count": 65,
   "id": "c39379ca-d1e0-46df-9456-3a8ee54ee035",
   "metadata": {
    "tags": []
   },
   "outputs": [],
   "source": [
    "x = np.arange(0, 15).reshape(3, 5)"
   ]
  },
  {
   "cell_type": "markdown",
   "id": "4b6908ef-e4dd-488c-a74f-0f56647a00bb",
   "metadata": {},
   "source": [
    "##### <strong>Example 2.2.2</strong> Permutation on the values of a 2 dimension array. 0 axis"
   ]
  },
  {
   "cell_type": "code",
   "execution_count": 73,
   "id": "a00cef1e-0d3d-47d1-92ea-1a6b16903c3f",
   "metadata": {},
   "outputs": [
    {
     "data": {
      "text/plain": [
       "array([[ 0,  1,  2,  3,  4],\n",
       "       [ 5,  6,  7,  8,  9],\n",
       "       [10, 11, 12, 13, 14]])"
      ]
     },
     "execution_count": 73,
     "metadata": {},
     "output_type": "execute_result"
    }
   ],
   "source": [
    "x"
   ]
  },
  {
   "cell_type": "markdown",
   "id": "6b02469f-9bb3-4d4d-b7fc-f741dc6a2b2b",
   "metadata": {},
   "source": [
    "###### The columns of the array have been rearranged"
   ]
  },
  {
   "cell_type": "code",
   "execution_count": 77,
   "id": "483301cd-1069-4711-9f9e-8954f40eed3c",
   "metadata": {
    "tags": []
   },
   "outputs": [
    {
     "data": {
      "text/plain": [
       "array([[10, 11, 12, 13, 14],\n",
       "       [ 5,  6,  7,  8,  9],\n",
       "       [ 0,  1,  2,  3,  4]])"
      ]
     },
     "execution_count": 77,
     "metadata": {},
     "output_type": "execute_result"
    }
   ],
   "source": [
    "rng.permutation(x, axis=0)"
   ]
  },
  {
   "cell_type": "markdown",
   "id": "30bb2902-064b-4a19-ab8a-3365dc65f536",
   "metadata": {},
   "source": []
  },
  {
   "cell_type": "markdown",
   "id": "3b193c4e-f305-4fec-ac4d-6ccbebc19113",
   "metadata": {},
   "source": [
    "##### <strong>Example 2.2.3</strong> Permutation on the values of a 2 dimension array. 1 axis"
   ]
  },
  {
   "cell_type": "code",
   "execution_count": null,
   "id": "132f926a-5394-4b95-9541-81c2d6b0acbc",
   "metadata": {},
   "outputs": [],
   "source": [
    "###### The rows of the array have been rearranged"
   ]
  },
  {
   "cell_type": "code",
   "execution_count": 68,
   "id": "445b6327-94f3-4a9c-9370-ad42f08212ac",
   "metadata": {},
   "outputs": [
    {
     "data": {
      "text/plain": [
       "array([[10, 11, 12, 13, 14],\n",
       "       [ 0,  1,  2,  3,  4],\n",
       "       [ 5,  6,  7,  8,  9]])"
      ]
     },
     "execution_count": 68,
     "metadata": {},
     "output_type": "execute_result"
    }
   ],
   "source": [
    "rng.permutation(x, axis=1)"
   ]
  },
  {
   "cell_type": "markdown",
   "id": "1f5edf35-e975-4480-9856-6ab60372c317",
   "metadata": {},
   "source": [
    "#### <strong>2.3 numpy.random.Generator.permuted()</strong>"
   ]
  },
  {
   "cell_type": "code",
   "execution_count": null,
   "id": "4f377c66-ea85-47e1-adf3-44c6ce3e2bf1",
   "metadata": {},
   "outputs": [],
   "source": []
  },
  {
   "cell_type": "code",
   "execution_count": null,
   "id": "b61617d4-4314-47d0-9a1a-0ab76f79398a",
   "metadata": {},
   "outputs": [],
   "source": []
  },
  {
   "cell_type": "code",
   "execution_count": 84,
   "id": "dac66056-bb60-48ca-92df-dff17ed77370",
   "metadata": {},
   "outputs": [
    {
     "data": {
      "text/plain": [
       "array([[ 0,  1,  2,  3,  4],\n",
       "       [ 5,  6,  7,  8,  9],\n",
       "       [10, 11, 12, 13, 14]])"
      ]
     },
     "execution_count": 84,
     "metadata": {},
     "output_type": "execute_result"
    }
   ],
   "source": [
    "x = np.arange(0, 15).reshape(3, 5)\n",
    "\n",
    "x"
   ]
  },
  {
   "cell_type": "markdown",
   "id": "e57d57f2-0c62-4aca-9756-1b696455dbc3",
   "metadata": {},
   "source": [
    "##### <strong>Example 2.3.1</strong> Permuted - axis = 0 "
   ]
  },
  {
   "cell_type": "code",
   "execution_count": 92,
   "id": "1a72b95b-abcd-479b-8f10-59ce799a0988",
   "metadata": {},
   "outputs": [],
   "source": [
    "y = rng.permuted(x,axis = 0 )\n",
    "\n"
   ]
  },
  {
   "cell_type": "code",
   "execution_count": 93,
   "id": "3c7a384f-fda4-4f80-874c-4745f866209d",
   "metadata": {},
   "outputs": [
    {
     "data": {
      "text/plain": [
       "array([[ 0,  1, 12,  3, 14],\n",
       "       [ 5, 11,  2,  8,  9],\n",
       "       [10,  6,  7, 13,  4]])"
      ]
     },
     "execution_count": 93,
     "metadata": {},
     "output_type": "execute_result"
    }
   ],
   "source": [
    "y"
   ]
  },
  {
   "cell_type": "markdown",
   "id": "44def35a-618b-4088-9be5-3a3fab4c3a51",
   "metadata": {},
   "source": [
    "##### <strong>Example 2.3.2</strong> Permuted - axis = 1 "
   ]
  },
  {
   "cell_type": "code",
   "execution_count": 94,
   "id": "bbf42cb9-7833-4f9c-adbc-0f1d69f0e478",
   "metadata": {},
   "outputs": [
    {
     "data": {
      "text/plain": [
       "array([[ 1,  2,  0,  3,  4],\n",
       "       [ 5,  8,  9,  7,  6],\n",
       "       [10, 13, 14, 11, 12]])"
      ]
     },
     "execution_count": 94,
     "metadata": {},
     "output_type": "execute_result"
    }
   ],
   "source": [
    "y = rng.permuted(x,axis = 1 )\n",
    "\n",
    "y"
   ]
  },
  {
   "cell_type": "markdown",
   "id": "7733b254-996c-4c43-ba60-1282c76b7fd3",
   "metadata": {},
   "source": [
    "##### <strong>Example 2.3.2</strong> Permuted - no axis is parameter"
   ]
  },
  {
   "cell_type": "code",
   "execution_count": 100,
   "id": "4993f549-9da6-4245-a19c-3a58ce24eee3",
   "metadata": {
    "jupyter": {
     "source_hidden": true
    },
    "tags": []
   },
   "outputs": [],
   "source": [
    "y = rng.permuted(x)"
   ]
  },
  {
   "cell_type": "markdown",
   "id": "be39d192-5859-4dd7-a27f-090ed4b01705",
   "metadata": {},
   "source": [
    "###### The array is flattened, values are shuffled, and the array is returned in the same shape."
   ]
  },
  {
   "cell_type": "code",
   "execution_count": 99,
   "id": "a8849238-4b95-45ae-b856-6d6decffa7a5",
   "metadata": {},
   "outputs": [
    {
     "data": {
      "text/plain": [
       "array([[ 4,  2,  1,  0,  3],\n",
       "       [ 6,  7,  8,  5,  9],\n",
       "       [14, 11, 13, 10, 12]])"
      ]
     },
     "execution_count": 99,
     "metadata": {},
     "output_type": "execute_result"
    }
   ],
   "source": [
    "y"
   ]
  },
  {
   "cell_type": "code",
   "execution_count": null,
   "id": "66159d78-f6ec-46e0-98ed-98f5e32e87cb",
   "metadata": {},
   "outputs": [],
   "source": [
    "#Add notes about axis for all permuations"
   ]
  },
  {
   "cell_type": "markdown",
   "id": "c0a3ee04-3c81-433d-9aac-c278e42b9ada",
   "metadata": {},
   "source": [
    "***\n",
    "***"
   ]
  },
  {
   "cell_type": "markdown",
   "id": "988b140e-5cdb-432f-85e6-f528fcade735",
   "metadata": {},
   "source": [
    "### <Strong>3. Distributions.</Strong>"
   ]
  },
  {
   "cell_type": "code",
   "execution_count": null,
   "id": "dc505c0c-0b7b-4cd8-be54-006a455a5ec8",
   "metadata": {},
   "outputs": [],
   "source": []
  },
  {
   "cell_type": "code",
   "execution_count": null,
   "id": "b4e491ff-908d-4a9c-b9a5-53033749c58b",
   "metadata": {},
   "outputs": [],
   "source": []
  }
 ],
 "metadata": {
  "kernelspec": {
   "display_name": "Python 3",
   "language": "python",
   "name": "python3"
  },
  "language_info": {
   "codemirror_mode": {
    "name": "ipython",
    "version": 3
   },
   "file_extension": ".py",
   "mimetype": "text/x-python",
   "name": "python",
   "nbconvert_exporter": "python",
   "pygments_lexer": "ipython3",
   "version": "3.8.8"
  }
 },
 "nbformat": 4,
 "nbformat_minor": 5
}
