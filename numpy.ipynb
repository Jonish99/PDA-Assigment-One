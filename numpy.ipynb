{
 "cells": [
  {
   "cell_type": "markdown",
   "id": "005be71f-9b14-47df-b8cc-ef554bdd16f2",
   "metadata": {},
   "source": [
    "# Programming for Data Analysis\n",
    "# An explanation of aspects of the numpy.random package in Python\n",
    "### Jon Ishaque G003898244"
   ]
  },
  {
   "cell_type": "markdown",
   "id": "26056f50-9505-4753-b9a5-9f4f58606005",
   "metadata": {},
   "source": [
    "This assignment response is a  jupyter notebook which itself is an as investigation into the numpyu.random package in Python.\n",
    "It is a response to the following statements\n"
   ]
  },
  {
   "cell_type": "code",
   "execution_count": 120,
   "id": "9d0d56b5-569e-4abf-b3e6-c92666833777",
   "metadata": {
    "tags": []
   },
   "outputs": [],
   "source": [
    "from numpy.random import Generator, PCG64, SeedSequence\n",
    "import matplotlib.pyplot as plt # import matplotlib to show plots for numpy random arrays\n",
    "import matplotlib.pyplot as plt # import matplotlib to show plots for numpy random arrays\n",
    "\n",
    "#create an alias of the of rng by calling the default random number generator.\n",
    "rng = np.random.default_rng() "
   ]
  },
  {
   "cell_type": "markdown",
   "id": "7f95844f-cfaa-4b1f-8e3b-ecb5b782e424",
   "metadata": {},
   "source": [
    "##### Check numpy version. There have been significant changes since numpy 1.15. Numpy installations less than 1.18 should be upgraded to a later version."
   ]
  },
  {
   "cell_type": "code",
   "execution_count": 121,
   "id": "dc404004-5d84-4cdb-9efe-99d2e5775303",
   "metadata": {},
   "outputs": [
    {
     "data": {
      "text/plain": [
       "'1.20.1'"
      ]
     },
     "execution_count": 121,
     "metadata": {},
     "output_type": "execute_result"
    }
   ],
   "source": [
    "np.version.version #determine numpy version "
   ]
  },
  {
   "cell_type": "markdown",
   "id": "9561588a-1fd1-4773-ae38-14068caa9f9d",
   "metadata": {},
   "source": [
    "### <Strong>Numpy explanation</Strong>\n",
    "\n",
    "Numpy is an open source Python libary which is designed to enable numerical computing. \n",
    "It was created in 2005 evolving from the Numeric and Numarray Python libraries. [1]\n",
    "    \n",
    "One of the key features of Numpy is it's use of arrays an NDarrays -multidimensional arrays. The random generator outputs random numbers in these numpy arrays.NumPy is the primary array programming library for the Python language. It has an essential role in research analysis pipelines in felds as diverse as physics, chemistry, astronomy, geoscience, biology, psychology, materials\n",
    "science, engineering, fnance and economics. [2]\n",
    "More over, these arrays are vectorised meaning that writing code in numpy is simpler.\n",
    "\n",
    "The basic syntax for numpy is  ```numpy.array```\n",
    "It creates a ndarray from any object exposing an array interface, or from any method that returns an array.\n",
    "\n",
    "numpy.array(object, dtype = None, copy = True, order = None, subok = False, ndmin = 0)\n",
    " \n",
    "The ndarray holds elements in memory in a continuous block with an indexing scheme mapping each location to the block.[3]\n",
    "\n",
    " \n",
    "Consider this example [4], : \n",
    "    \n",
    " ```\n",
    "    a=np.array([1,2,3])\n",
    "\n",
    "    b =np.array([1,2,3])\n",
    "  ```\n",
    "here we wish to multiply the values of the same index in arrays *a* and *b*. \n",
    "\n",
    "Compare numpy code\n",
    "  \n",
    "  ```\n",
    "  c = a * b\n",
    "  ```\n",
    "  \n",
    "  to\n",
    "  \n",
    "  regular python code \n",
    "   ```c = []\n",
    "for i in range(len(a)):\n",
    "    c.append(a[i]*b[i]) \n",
    " ```\n",
    " \n",
    " to achieve the same result:\n",
    " ``` \n",
    " c = [1,4,9]\n",
    " ```\n",
    "\n",
    "\n",
    "The same simple expression can be used if *a* and *b* were ndarrays, where as the regular python code \n",
    "  \n",
    "The size of an array is expressed as a single integer paramenter or for nd arrays the shape  is expressed as a tupple and can be set using the empty method of an np array or can be changed by adding elements to an array axis(es). An array's contents must be of one data type.\n",
    "\n",
    "Numpy is a whole library of Python functions which operate on our out of arrays, including the numpy.random package.\n",
    "\n",
    "### <Strong>1. Numpy.random</Strong>\n",
    "\n",
    "\"Random numbers are numbers that occur in a sequence such that two conditions are met: (1) the values are uniformly distributed over a defined interval or set, and (2) it is impossible to predict future values based on past or present ones. Random numbers are important in statistical analysis and probability theory.\" [4] Random sequences actually occur in nature  such as radio background *noise*, Random.org hash these random frequencies to produce truly random numbers.\n",
    "\n",
    "The property of a sequences randomness is also known as its entropy and an adjective describing randomness is entropic.\n",
    "\n",
    "In computing however, there is need to be able to predict a set of random numbers (explained below). That they are predicable means they are not truly random and are know as pseudo random numbers and in computing are generated using a random number generator(RNG). RNGs use an algorithm to produce a sequence of random numbers, ultimately that sequence will recur, which is why they are not truly random numbers. \n",
    "\n",
    "Since Numpy vesrion 1.5 the RNG has been changed form RandomState to Generator. This assigment will consider use of the later, Generator method, which takes bits from PCG64 bitgenerator, this discussed further in the final section.\n",
    "\n",
    "PCG64 bitgenerator is the default bitgenerator for Numpy but other bitgenerators can be imported and used.\n",
    "The default_rng method is used to initiate the generator in numpy, through much of this assignement the alias rng is used.\n",
    " \n",
    " ```rng = np.random.default_rng() ```"
   ]
  },
  {
   "cell_type": "markdown",
   "id": "fab743f8-2879-4216-bf9a-1bcfd14a9231",
   "metadata": {},
   "source": [
    "A simple example of the a numpy array producing an nd array 5 x 2 array and showing the dtype property."
   ]
  },
  {
   "cell_type": "code",
   "execution_count": 122,
   "id": "dd33d25b-bbe0-4d31-ae1c-0841d495546b",
   "metadata": {},
   "outputs": [
    {
     "data": {
      "text/plain": [
       "dtype('float64')"
      ]
     },
     "execution_count": 122,
     "metadata": {},
     "output_type": "execute_result"
    }
   ],
   "source": [
    "a=np.random.rand(5,2) \n",
    "a.dtype #demonstrate the data type of the array.\n"
   ]
  },
  {
   "cell_type": "code",
   "execution_count": 123,
   "id": "88e543a2-89e4-4626-bd4f-876412b75063",
   "metadata": {
    "tags": []
   },
   "outputs": [
    {
     "name": "stdout",
     "output_type": "stream",
     "text": [
      "[[0.35092391 0.2119589 ]\n",
      " [0.13777188 0.97019469]\n",
      " [0.46721617 0.71151682]\n",
      " [0.54754649 0.80497004]\n",
      " [0.28111282 0.30648087]]\n"
     ]
    }
   ],
   "source": [
    "print(a)"
   ]
  },
  {
   "cell_type": "markdown",
   "id": "993017b3-3696-417c-8e3c-31d2c7eb89e2",
   "metadata": {},
   "source": [
    "### <Strong>2. Simple Random data functions.</Strong>\n",
    "\n",
    "numpy random functions return numpy arrays of random values depending on the given parameters."
   ]
  },
  {
   "cell_type": "markdown",
   "id": "d5d9342d-9112-4d4a-bac7-71e275205a05",
   "metadata": {},
   "source": [
    "#### <strong>2.1 numpy.random.Generator.integers()</strong> [8]"
   ]
  },
  {
   "cell_type": "markdown",
   "id": "a8bb8dbd-d021-4242-85e1-eccb1f385a85",
   "metadata": {},
   "source": [
    "##### The integers() function returns an array of random integers. \n",
    "##### The range is determined by the low and high parameters. low is inclusive, high is exclusive (see endpoint below)\n",
    "##### If one boundary is ommitted then the given value is taken as high and low is zero.\n",
    "##### If the endpoint paramter (boolean) is True then then the high boundary is included in the range\n",
    "##### The size parameter defines the shape of the array. \n",
    "#####    - A single value will return 1 dimensional array of the value length\n",
    "#####    - A tuple of values will return and ndarray eg.(d,e,f) will return an array d x e x f.\n",
    "##### dtype optional parameter which defaults to in64 \n"
   ]
  },
  {
   "cell_type": "markdown",
   "id": "62a58d91-1c9f-426c-8a9f-292752624f9b",
   "metadata": {},
   "source": [
    "### <strong>Example 2.1.1.</strong>  - One dimension array with 10 items"
   ]
  },
  {
   "cell_type": "code",
   "execution_count": 126,
   "id": "6e121e68-d550-40b0-98df-74d05de4734f",
   "metadata": {},
   "outputs": [
    {
     "data": {
      "text/plain": [
       "array([1, 1, 1, 0, 1, 1, 1, 0, 0, 0], dtype=int64)"
      ]
     },
     "execution_count": 126,
     "metadata": {},
     "output_type": "execute_result"
    }
   ],
   "source": [
    "\n",
    "'''create an array of 10 items with a range of random integers between 0 & 1 (2). The there is only one range parameter so \n",
    "lower bound is taken as 0'''\n",
    "rng.integers(2, size=10)"
   ]
  },
  {
   "cell_type": "markdown",
   "id": "88942866-4d1c-428b-a895-ca7b2252899e",
   "metadata": {},
   "source": [
    "###  <strong>Example 2.1.2.</strong> - One dimension array with lower and upper bounds set"
   ]
  },
  {
   "cell_type": "code",
   "execution_count": 127,
   "id": "5528d08d-73f8-4e13-a911-a847966df7e6",
   "metadata": {
    "tags": []
   },
   "outputs": [
    {
     "data": {
      "text/plain": [
       "array([7, 5, 6, 7, 6, 6, 4, 7], dtype=int64)"
      ]
     },
     "execution_count": 127,
     "metadata": {},
     "output_type": "execute_result"
    }
   ],
   "source": [
    "'''create an array of 10 items with a range of random integers between 4 & 7 (4,8)'''\n",
    "rng.integers(4, 8, size=8)"
   ]
  },
  {
   "cell_type": "markdown",
   "id": "5ffc2c19-8367-41cf-add6-06f3b4d6b8be",
   "metadata": {},
   "source": [
    "##### <strong>Example 2.1.3.</strong> - Two dimensional array of integers. 5 arrays of 2 item arrays. Upper bound 6 = 0 to 5"
   ]
  },
  {
   "cell_type": "code",
   "execution_count": 128,
   "id": "e4877f44-19b3-4521-9ac8-518cce68321c",
   "metadata": {},
   "outputs": [
    {
     "data": {
      "text/plain": [
       "array([[1, 5],\n",
       "       [5, 4],\n",
       "       [5, 1],\n",
       "       [3, 0],\n",
       "       [4, 5]], dtype=int64)"
      ]
     },
     "execution_count": 128,
     "metadata": {},
     "output_type": "execute_result"
    }
   ],
   "source": [
    "'''create a 2 x 4(size)  array with a range of integers between 0 & 5 (6)'''\n",
    "rng.integers(6, size=(5, 2))\n",
    "#data returned as integer dtype=int64"
   ]
  },
  {
   "cell_type": "code",
   "execution_count": 129,
   "id": "b98d468c-5e52-4cf1-b41c-7ddf09705557",
   "metadata": {},
   "outputs": [],
   "source": [
    "##### <strong>Example 2.1.3.</strong> 3 x 2 x 4 ndarray - multimensional array"
   ]
  },
  {
   "cell_type": "code",
   "execution_count": 130,
   "id": "6eab96e6-d259-4468-8b97-516cac6d0abe",
   "metadata": {},
   "outputs": [
    {
     "data": {
      "text/plain": [
       "array([[[1, 4, 4, 5],\n",
       "        [1, 4, 2, 3]],\n",
       "\n",
       "       [[3, 0, 0, 2],\n",
       "        [3, 4, 5, 2]],\n",
       "\n",
       "       [[3, 0, 3, 3],\n",
       "        [1, 5, 3, 3]]], dtype=int64)"
      ]
     },
     "execution_count": 130,
     "metadata": {},
     "output_type": "execute_result"
    }
   ],
   "source": [
    "rng.integers(6, size=(3, 2, 4 ))"
   ]
  },
  {
   "cell_type": "markdown",
   "id": "cf45a3c6-5e2b-464e-95f9-3303051b3398",
   "metadata": {},
   "source": [
    "##### <strong>Example 2.1.5.</strong> - A single parameter of 3 values returns 3 values each with it's own upper boundary"
   ]
  },
  {
   "cell_type": "code",
   "execution_count": 132,
   "id": "ee9d4ee9-9889-4468-870e-2b537637c058",
   "metadata": {
    "tags": []
   },
   "outputs": [
    {
     "data": {
      "text/plain": [
       "array([0, 0, 7], dtype=int64)"
      ]
     },
     "execution_count": 132,
     "metadata": {},
     "output_type": "execute_result"
    }
   ],
   "source": [
    "rng.integers([3, 5, 10])"
   ]
  },
  {
   "cell_type": "markdown",
   "id": "9f538223-279f-4e34-b503-44af975ccea3",
   "metadata": {},
   "source": [
    "##### <strong>Example 2.1.6.</strong> - Two array parameters one of lower boundaries, one of upper boundaries"
   ]
  },
  {
   "cell_type": "code",
   "execution_count": 133,
   "id": "ef60993e-3149-4bcd-a584-4bf2f397f32a",
   "metadata": {
    "tags": []
   },
   "outputs": [
    {
     "data": {
      "text/plain": [
       "array([ 4,  7, 14], dtype=int64)"
      ]
     },
     "execution_count": 133,
     "metadata": {},
     "output_type": "execute_result"
    }
   ],
   "source": [
    "rng.integers([3, 7, 12],[6, 12, 15])"
   ]
  },
  {
   "cell_type": "markdown",
   "id": "99bcfa0b-00ab-4004-8d13-a46876190256",
   "metadata": {},
   "source": [
    "##### <strong>Example 2.1.7</strong> - Setting the endpoint as True to include the high boundary (large array)\n"
   ]
  },
  {
   "cell_type": "code",
   "execution_count": 136,
   "id": "f4d67ad0-b8e6-4386-aca8-5ae1d86c5204",
   "metadata": {},
   "outputs": [
    {
     "data": {
      "text/plain": [
       "array([6, 4, 3, 4, 4, 7, 0, 4, 1, 0, 6, 1, 6, 7, 4, 2, 7, 6, 7, 4, 1],\n",
       "      dtype=int64)"
      ]
     },
     "execution_count": 136,
     "metadata": {},
     "output_type": "execute_result"
    }
   ],
   "source": [
    "rng.integers(0,7, size = 21, endpoint=True)"
   ]
  },
  {
   "cell_type": "markdown",
   "id": "4b4473a9-1b89-4692-b237-fbe41334206e",
   "metadata": {},
   "source": [
    "##### <strong>Example 2.1.7.</strong> - Single parameter, the only mandatory parameter is upper boundary. Size defaults to 1. It also returns a single integer not an array."
   ]
  },
  {
   "cell_type": "code",
   "execution_count": 137,
   "id": "a86ffb53-580b-4c5e-8a7a-d2ba5a25f3b6",
   "metadata": {},
   "outputs": [
    {
     "data": {
      "text/plain": [
       "9"
      ]
     },
     "execution_count": 137,
     "metadata": {},
     "output_type": "execute_result"
    }
   ],
   "source": [
    "rng.integers(10) "
   ]
  },
  {
   "cell_type": "markdown",
   "id": "45c4ffce-6606-4106-b9aa-389e59969076",
   "metadata": {},
   "source": [
    "##### <strong>Example 2.1.8.</strong> A single upper boundary and size of 1 will return an array with one value."
   ]
  },
  {
   "cell_type": "code",
   "execution_count": 138,
   "id": "e4ac0860-2a01-4357-bb1b-d928a013c2be",
   "metadata": {},
   "outputs": [
    {
     "data": {
      "text/plain": [
       "array([6], dtype=int64)"
      ]
     },
     "execution_count": 138,
     "metadata": {},
     "output_type": "execute_result"
    }
   ],
   "source": [
    "rng.integers(10,size=1) "
   ]
  },
  {
   "cell_type": "markdown",
   "id": "afb13bf9-98c3-41d2-a045-a48f74858275",
   "metadata": {},
   "source": [
    "##### <strong>Example 2.1.9.</strong>  Demonstrate the uniform nature of the numpy.random.Generator.integers function"
   ]
  },
  {
   "cell_type": "code",
   "execution_count": 139,
   "id": "3fe81cb6-d940-4aa8-99ee-652f22739d95",
   "metadata": {},
   "outputs": [],
   "source": [
    "arr =rng.integers(100,size = 10000) #assign to var for graphical output"
   ]
  },
  {
   "cell_type": "code",
   "execution_count": 140,
   "id": "1597a6dc-2944-40b4-b3a9-20ce87461abc",
   "metadata": {},
   "outputs": [],
   "source": [
    "import matplotlib.pyplot as plt # import matplotlib"
   ]
  },
  {
   "cell_type": "code",
   "execution_count": 141,
   "id": "07d0fa24-c960-4974-bdf1-f21d339e951e",
   "metadata": {},
   "outputs": [
    {
     "data": {
      "text/plain": [
       "(array([1024.,  947., 1035., 1023., 1029.,  994.,  985., 1007.,  978.,\n",
       "         978.]),\n",
       " array([ 0. ,  9.9, 19.8, 29.7, 39.6, 49.5, 59.4, 69.3, 79.2, 89.1, 99. ]),\n",
       " <BarContainer object of 10 artists>)"
      ]
     },
     "execution_count": 141,
     "metadata": {},
     "output_type": "execute_result"
    },
    {
     "data": {
      "image/png": "[encoded data removed]",
      "text/plain": [
       "<Figure size 432x288 with 1 Axes>"
      ]
     },
     "metadata": {
      "needs_background": "light"
     },
     "output_type": "display_data"
    }
   ],
   "source": [
    "plt.hist(arr)"
   ]
  },
  {
   "cell_type": "markdown",
   "id": "090d3922-7ed4-4b99-872e-0a5312054430",
   "metadata": {},
   "source": [
    "***"
   ]
  },
  {
   "cell_type": "markdown",
   "id": "236dfa4f-aab2-45ec-97e2-c1d9c73ede61",
   "metadata": {
    "tags": []
   },
   "source": [
    "#### <strong>2.2 numpy.random.Generator.random()</strong> [9]"
   ]
  },
  {
   "cell_type": "markdown",
   "id": "b0bddcbb-f0ae-4b1b-b02c-36fce99b51b5",
   "metadata": {
    "tags": []
   },
   "source": [
    "##### The random() function returns an array of random floats between 0.0 and 1.0. \n",
    "##### The random function can accept no parameters, it will return a single floating point number between 0.0 and 1.0\n",
    "##### To generate random numbers with limits above 1.0 use positive multipliers before the expression and below 0.0 use negative multipliers after the expression.\n",
    "##### The size parameter will generate an ndarray  corresponding to values passed."
   ]
  },
  {
   "cell_type": "markdown",
   "id": "d23e7b7b-169f-4aa6-9582-7f5df0eae8c9",
   "metadata": {},
   "source": [
    "##### <strong>Example 2.2.1.</strong> No parameter, single float is return"
   ]
  },
  {
   "cell_type": "code",
   "execution_count": 142,
   "id": "98f8daf5-518d-4e86-a342-4fbef246e4ad",
   "metadata": {},
   "outputs": [],
   "source": [
    "#No size is passed so a single float is returned"
   ]
  },
  {
   "cell_type": "code",
   "execution_count": 143,
   "id": "b68e2d1e-2415-49b2-96ae-1faeb8fa286f",
   "metadata": {
    "tags": []
   },
   "outputs": [
    {
     "data": {
      "text/plain": [
       "0.1815101739892654"
      ]
     },
     "execution_count": 143,
     "metadata": {},
     "output_type": "execute_result"
    }
   ],
   "source": [
    "rng.random() "
   ]
  },
  {
   "cell_type": "markdown",
   "id": "0d135d07-58dc-4b4c-b07f-cb0965e32e47",
   "metadata": {},
   "source": [
    "##### <strong>Example 2.2.2.</strong> Multipy a single return value (between 0.1 and 1.0) to get a random number between 0 and the multiplier (-5)\n",
    "##### Place a positive multiplier before the expression and negative after the expression"
   ]
  },
  {
   "cell_type": "code",
   "execution_count": 144,
   "id": "252a1c12-e5be-4e88-abbf-9f8075085d3a",
   "metadata": {
    "tags": []
   },
   "outputs": [
    {
     "data": {
      "text/plain": [
       "-4.819662256171732"
      ]
     },
     "execution_count": 144,
     "metadata": {},
     "output_type": "execute_result"
    }
   ],
   "source": [
    "rng.random() - 5"
   ]
  },
  {
   "cell_type": "markdown",
   "id": "0f011489-c9b3-472b-aac3-8fa9e1081d7b",
   "metadata": {
    "tags": []
   },
   "source": [
    "##### <strong>Example 2.2.3.</strong>  Return a 2 dimension array of 3 arrays of two items each. No multiplier so each value between (between 0.1 and 1.0)"
   ]
  },
  {
   "cell_type": "code",
   "execution_count": 148,
   "id": "44fc5f4f-75c1-481a-91fa-900a79430a32",
   "metadata": {},
   "outputs": [
    {
     "data": {
      "text/plain": [
       "array([[0.1224976 , 0.51124457],\n",
       "       [0.15935806, 0.93389396],\n",
       "       [0.30918756, 0.7554778 ]])"
      ]
     },
     "execution_count": 148,
     "metadata": {},
     "output_type": "execute_result"
    }
   ],
   "source": [
    "rng.random((3, 2)) "
   ]
  },
  {
   "cell_type": "markdown",
   "id": "af6fca8e-bdb2-4e4f-a7bf-792e51c409d6",
   "metadata": {},
   "source": [
    "##### <strong>Example 2.2.4.</strong>  Return a 2 dimension array of 3 arrays of 2 items each. Use a multiplier of -5 to create random numbers between 0 and -5"
   ]
  },
  {
   "cell_type": "code",
   "execution_count": 155,
   "id": "7541c530-8bea-40ea-91c3-9595660e2cb9",
   "metadata": {},
   "outputs": [
    {
     "data": {
      "text/plain": [
       "array([[-4.49530751, -4.33442361],\n",
       "       [-4.24728952, -4.15830308],\n",
       "       [-4.12602429, -4.14162179]])"
      ]
     },
     "execution_count": 155,
     "metadata": {},
     "output_type": "execute_result"
    }
   ],
   "source": [
    "rng.random((3, 2)) - 5"
   ]
  },
  {
   "cell_type": "markdown",
   "id": "849e7784-faaf-4d0b-a610-1a8af94af237",
   "metadata": {},
   "source": [
    "##### <strong>Example 2.2.5.</strong>  Return a 2 dimension array of 4 arrays of 6 items each. Use a multiplier of 5 to create random numbers between 0 and 5, i.e. a floating point number between 0 and 1 multiplied by 5"
   ]
  },
  {
   "cell_type": "code",
   "execution_count": 156,
   "id": "88f842b6-2b41-42b0-8042-d852b35489f0",
   "metadata": {},
   "outputs": [
    {
     "data": {
      "text/plain": [
       "array([[0.77489148, 1.71719281, 3.49719887, 4.92557815, 0.81733224,\n",
       "        1.2747099 ],\n",
       "       [1.93471808, 1.07010655, 1.42444521, 4.01665292, 2.96970537,\n",
       "        4.24553903],\n",
       "       [4.94985846, 0.08379697, 2.59915127, 3.10946041, 3.08610217,\n",
       "        2.4976431 ],\n",
       "       [4.48341162, 2.75848293, 1.64123571, 3.95062303, 2.87641867,\n",
       "        4.67573119]])"
      ]
     },
     "execution_count": 156,
     "metadata": {},
     "output_type": "execute_result"
    }
   ],
   "source": [
    "5 * rng.random((4, 6))"
   ]
  },
  {
   "cell_type": "markdown",
   "id": "b0492074-2d56-47db-b22b-f8d4d5f69752",
   "metadata": {},
   "source": [
    "***"
   ]
  },
  {
   "cell_type": "markdown",
   "id": "ed234f2c-dcfc-4bfd-b50d-675ae5662d7a",
   "metadata": {},
   "source": [
    "#### <strong>2.3 numpy.random.Generator.choice</strong>[11]"
   ]
  },
  {
   "cell_type": "markdown",
   "id": "aa3fe0ee-4cec-4d92-bb8d-3c99e1deb4dd",
   "metadata": {},
   "source": [
    "# The choice function selects a random sample from a given array\n",
    "An array parameter is used from which to sample\n",
    "\n",
    "The size of the return array must be set, this has a relationship to the input array. \n",
    "\n",
    "The p parameter can created weighting to specific items from the sample array. This intends to create a non-uniform distribution. The size of the properties array must be equal to the sample array.\n",
    "\n",
    "Other data types such as strings can be used is the sample array.\n",
    "\n",
    "\n"
   ]
  },
  {
   "cell_type": "code",
   "execution_count": 30,
   "id": "dd4b6748-3aa3-4480-bbbc-72c2a4ace838",
   "metadata": {},
   "outputs": [],
   "source": [
    "# create an alias for the random number generator\n",
    "rng = np.random.default_rng()"
   ]
  },
  {
   "cell_type": "markdown",
   "id": "66341813-6d70-488b-8532-b7cd3baee8b3",
   "metadata": {},
   "source": [
    "##### <strong>Example 2.3.1.</strong> Using choice in its simplest form. choose 10 integers from a 1d array of integers between 0 and 20 and return an array\n",
    "###### "
   ]
  },
  {
   "cell_type": "code",
   "execution_count": 157,
   "id": "f0b1dec1-53b6-4f8d-bbe8-370b010c83eb",
   "metadata": {
    "tags": []
   },
   "outputs": [
    {
     "data": {
      "text/plain": [
       "array([ 7,  6, 10,  1,  7, 15, 19, 12,  4,  1], dtype=int64)"
      ]
     },
     "execution_count": 157,
     "metadata": {},
     "output_type": "execute_result"
    }
   ],
   "source": [
    "rng.choice(20, 10)"
   ]
  },
  {
   "cell_type": "markdown",
   "id": "ed43ad47-4496-48de-b300-098c937f3a94",
   "metadata": {
    "tags": []
   },
   "source": [
    "##### <strong>Example 2.3.2.</strong> like 1.3.1 but using strings\n",
    "Example 2.3.1 doesn't offer much more than the integers function.\n",
    "However, if the list is an array of strings it becomes more useful."
   ]
  },
  {
   "cell_type": "code",
   "execution_count": 159,
   "id": "20b83a07-7c90-4904-9e3b-f013222912ec",
   "metadata": {},
   "outputs": [],
   "source": [
    "arrWriters = ['Becket','Joyce','Wilde','Binchy','Behan','Doyle']"
   ]
  },
  {
   "cell_type": "code",
   "execution_count": 160,
   "id": "64c15651-7dae-40e2-b891-a667990b010e",
   "metadata": {},
   "outputs": [
    {
     "data": {
      "text/plain": [
       "array(['Binchy', 'Doyle', 'Binchy', 'Behan', 'Joyce', 'Behan', 'Becket',\n",
       "       'Wilde', 'Joyce', 'Joyce'], dtype='<U6')"
      ]
     },
     "execution_count": 160,
     "metadata": {},
     "output_type": "execute_result"
    }
   ],
   "source": [
    "rng.choice(arrWriters, 10)"
   ]
  },
  {
   "cell_type": "markdown",
   "id": "1b745f46-8f46-4031-88e9-7097eafdf8df",
   "metadata": {},
   "source": [
    "##### <strong>Example 2.3.3.</strong> Testing the effect of using the replace option\n",
    "###### Using the same shape and range as example 1.3.1 but now using the replace=false parameter, guarantees list items are not repeated\n",
    "###### If the range is smaller than the array length then an error occurs because it is not possible to produce an array of unique items with those parameters"
   ]
  },
  {
   "cell_type": "code",
   "execution_count": 34,
   "id": "3be798b8-2ff7-4d1c-8256-3e3d9f846882",
   "metadata": {
    "tags": []
   },
   "outputs": [
    {
     "data": {
      "text/plain": [
       "array([14,  8,  3,  1,  7,  5,  6,  9, 19, 16], dtype=int64)"
      ]
     },
     "execution_count": 34,
     "metadata": {},
     "output_type": "execute_result"
    }
   ],
   "source": [
    "rng.choice(20, 10, replace=False)"
   ]
  },
  {
   "cell_type": "markdown",
   "id": "e9521748-2a2e-4e60-8c9f-d4905c9c4f3e",
   "metadata": {},
   "source": [
    "\n",
    "##### <strong>Example 2.3.4.</strong> -  Using the P parameter to weigh probablitly for items in a range."
   ]
  },
  {
   "cell_type": "markdown",
   "id": "fb632b32-5a88-454c-b68e-de9d67b64070",
   "metadata": {},
   "source": [
    "###### In this example, because the range length is 6, 0-5 there must be a p value set for each\n",
    "Becket = .1 or 10%\n",
    "\n",
    "Joyce = 0, or 0%, 1 will never occur in the output array\n",
    "\n",
    "Wilde = 0.2 or 20%\n",
    "\n",
    "Binchy = 0.6 or 60%, 3 will be the most frequent occurence in the array\n",
    "\n",
    "Behan = 0, or 0%, 4 will never occur in the output array \n",
    "\n",
    "Doyle = .1 or 10%"
   ]
  },
  {
   "cell_type": "code",
   "execution_count": 165,
   "id": "6cad0052-949a-4e31-9bd0-66413cc382c0",
   "metadata": {
    "tags": []
   },
   "outputs": [
    {
     "data": {
      "text/plain": [
       "array(['Wilde', 'Binchy', 'Binchy', 'Binchy', 'Wilde', 'Becket', 'Becket',\n",
       "       'Binchy', 'Wilde', 'Binchy'], dtype='<U6')"
      ]
     },
     "execution_count": 165,
     "metadata": {},
     "output_type": "execute_result"
    }
   ],
   "source": [
    "#replace default to true, but the parameter is used here as it is changed during development\n",
    "rng.choice(arrWriters, 10, replace=True, p=[0.1, 0, 0.2, 0.6, 0, 0.1])  #123456"
   ]
  },
  {
   "cell_type": "markdown",
   "id": "ef1d30e6-1341-43fe-a09f-f9c90a3bcaf9",
   "metadata": {},
   "source": [
    "##### Use P in plot with a much larger array, to illustrate the P parameter [10]"
   ]
  },
  {
   "cell_type": "code",
   "execution_count": 170,
   "id": "2ee94dd3-5b75-4b4a-a4db-097694ea0e22",
   "metadata": {},
   "outputs": [],
   "source": [
    "arr= rng.choice(arrWriters, 10000, replace=True, p=[0.1, 0, 0.2, 0.6, 0, 0.1])  "
   ]
  },
  {
   "cell_type": "code",
   "execution_count": 171,
   "id": "ee6bae4e-f54d-4708-9582-3811809f922d",
   "metadata": {},
   "outputs": [
    {
     "data": {
      "text/plain": [
       "Text(0, 0.5, 'Votes')"
      ]
     },
     "execution_count": 171,
     "metadata": {},
     "output_type": "execute_result"
    },
    {
     "data": {
      "image/png": "[encoded data removed]",
      "text/plain": [
       "<Figure size 432x288 with 1 Axes>"
      ]
     },
     "metadata": {
      "needs_background": "light"
     },
     "output_type": "display_data"
    }
   ],
   "source": [
    "plt.hist(arr)\n",
    "plt.title(\"Ireland's favourite writer\")\n",
    "plt.xlabel(\"Writers\")\n",
    "plt.ylabel(\"Votes\") #obviously the vote is rigged!"
   ]
  },
  {
   "cell_type": "markdown",
   "id": "868d3286-6cf0-4f44-b72e-7d917979d68b",
   "metadata": {},
   "source": [
    "##### <strong>Example 2.3.5.</strong> "
   ]
  },
  {
   "cell_type": "code",
   "execution_count": 38,
   "id": "5a5f2cd6-9a64-4c24-b93b-751d5e71e100",
   "metadata": {
    "tags": []
   },
   "outputs": [
    {
     "data": {
      "text/plain": [
       "array([ 4,  7, 12, 13,  0, 15, 14, 17,  1,  3], dtype=int64)"
      ]
     },
     "execution_count": 38,
     "metadata": {},
     "output_type": "execute_result"
    }
   ],
   "source": [
    "rng.choice(20, 10, shuffle=False, replace=False)"
   ]
  },
  {
   "cell_type": "code",
   "execution_count": 39,
   "id": "5206b314-0ee0-4deb-b154-62d1a7d10b07",
   "metadata": {},
   "outputs": [
    {
     "data": {
      "text/plain": [
       "array([ 5,  5, 15, 15,  2,  1, 15, 18,  4,  2], dtype=int64)"
      ]
     },
     "execution_count": 39,
     "metadata": {},
     "output_type": "execute_result"
    }
   ],
   "source": [
    "rng.choice(20, 10, shuffle=True)"
   ]
  },
  {
   "cell_type": "markdown",
   "id": "818e8623-042a-4ecb-9b2e-f1da85c52f44",
   "metadata": {},
   "source": [
    "##### <strong>Example 2.3.6.</strong> - passing a 3 x 3 2d array to sample into a size 10 item array.\n",
    "In this example there is range of 3 items which can be sampled and returned to the array. Each item is 3 item array, each of these are sampled as a whole and returned to the 10 item array resulting in a 3 x 10 nd array.\n",
    "\"If a has more than one dimension, the size shape will be inserted into the axis dimension, so the output ndim will be a.ndim - 1 + len(size).\" [11] (The default axis is 0)\n",
    "\n",
    "replace = True, because the size of the return array is greater(10) than the original (3)\n",
    "\n"
   ]
  },
  {
   "cell_type": "code",
   "execution_count": 172,
   "id": "c8230115-0c0b-4b9c-8abf-ee59d204979e",
   "metadata": {},
   "outputs": [
    {
     "data": {
      "text/plain": [
       "array([[3, 4, 5],\n",
       "       [3, 4, 5],\n",
       "       [0, 1, 2],\n",
       "       [0, 1, 2],\n",
       "       [6, 7, 8],\n",
       "       [6, 7, 8],\n",
       "       [6, 7, 8],\n",
       "       [3, 4, 5],\n",
       "       [0, 1, 2],\n",
       "       [3, 4, 5]])"
      ]
     },
     "execution_count": 172,
     "metadata": {},
     "output_type": "execute_result"
    }
   ],
   "source": [
    "\n",
    "rng.choice([[0, 1, 2,], [3, 4, 5], [6, 7, 8]], 10 , replace=True)\n"
   ]
  },
  {
   "cell_type": "markdown",
   "id": "3824a3e0-504a-499f-923f-660a3ddb50ef",
   "metadata": {},
   "source": [
    "##### <strong>Example 1.3.7.</strong> Using the axis paramter to change the shape of the output array from example 1.3.5"
   ]
  },
  {
   "cell_type": "code",
   "execution_count": 175,
   "id": "8ed74003-0c25-49c6-b9ae-5ec9aa9d9530",
   "metadata": {},
   "outputs": [
    {
     "data": {
      "text/plain": [
       "array([[2, 0, 0, 0, 1, 2, 0, 0, 2, 0],\n",
       "       [5, 3, 3, 3, 4, 5, 3, 3, 5, 3],\n",
       "       [8, 6, 6, 6, 7, 8, 6, 6, 8, 6]])"
      ]
     },
     "execution_count": 175,
     "metadata": {},
     "output_type": "execute_result"
    }
   ],
   "source": [
    "  rng.choice([[0, 1, 2,], [3, 4, 5], [6, 7, 8]], 10 , replace=True, axis = 1)"
   ]
  },
  {
   "cell_type": "markdown",
   "id": "6452ba3a-e30e-46f3-8db6-ecff507b18ca",
   "metadata": {},
   "source": [
    "***"
   ]
  },
  {
   "cell_type": "markdown",
   "id": "a33d0dcb-e7b5-4882-93d1-9c53b3ca9287",
   "metadata": {},
   "source": [
    "#### <strong>2.4 numpy.random.Generator.bytes()</strong>\n",
    "##### Returns an array of bytes. Seemingly in Hexdec format on this machine [11]"
   ]
  },
  {
   "cell_type": "code",
   "execution_count": 181,
   "id": "d31862bf-17cc-4a2f-acca-d01f816d2494",
   "metadata": {},
   "outputs": [
    {
     "data": {
      "text/plain": [
       "b'2\\x07F&\\xefC\\x01\\xbf\\x02\\xfa'"
      ]
     },
     "execution_count": 181,
     "metadata": {},
     "output_type": "execute_result"
    }
   ],
   "source": [
    "np.random.default_rng().bytes(10)\n"
   ]
  },
  {
   "cell_type": "code",
   "execution_count": 182,
   "id": "df9ef6a0-76e3-4b4b-8da4-d0a15de2759c",
   "metadata": {},
   "outputs": [
    {
     "data": {
      "text/plain": [
       "b'Vy\\xa6:\\xfd\\x81\\xdf\\\\\\xc3\\xbb'"
      ]
     },
     "execution_count": 182,
     "metadata": {},
     "output_type": "execute_result"
    }
   ],
   "source": [
    "import binascii # binary, asci, byte conversion library\n",
    "x = np.random.default_rng().bytes(10) #create random bytes and output list\n",
    "x"
   ]
  },
  {
   "cell_type": "code",
   "execution_count": 184,
   "id": "9000a597-5eaf-4fb4-b385-69ff63cb9cfb",
   "metadata": {},
   "outputs": [
    {
     "data": {
      "text/plain": [
       "b'5679a63afd81df5cc3bb'"
      ]
     },
     "execution_count": 184,
     "metadata": {},
     "output_type": "execute_result"
    }
   ],
   "source": [
    "y = binascii.hexlify(x) #convert bytes to hexdec\n",
    "y"
   ]
  },
  {
   "cell_type": "code",
   "execution_count": 185,
   "id": "a02e6580-4de6-4d71-8831-65e24c135502",
   "metadata": {},
   "outputs": [
    {
     "name": "stdout",
     "output_type": "stream",
     "text": [
      "86\n",
      "121\n",
      "166\n",
      "58\n",
      "253\n",
      "129\n",
      "223\n",
      "92\n",
      "195\n",
      "187\n"
     ]
    }
   ],
   "source": [
    "#separating each byte in the list \n",
    "#loop through the array converts each byte to a decimal format.\n",
    "for bt in x:\n",
    "    print (bt)\n",
    "    #print(binascii.hexlify(bt))"
   ]
  },
  {
   "cell_type": "markdown",
   "id": "abbc8d46-40cb-4756-8e14-fc0d480c67ce",
   "metadata": {},
   "source": [
    "***\n",
    "***\n"
   ]
  },
  {
   "cell_type": "markdown",
   "id": "f03f161b-4187-4354-8139-f74551fb6ca8",
   "metadata": {},
   "source": [
    "### <Strong>3. Permutations functions.</Strong>"
   ]
  },
  {
   "cell_type": "markdown",
   "id": "68c9fab5-a0ac-46ec-ba33-c094b80e5523",
   "metadata": {},
   "source": [
    "###### Permutation functions change the arrangement of items in an array\n",
    "#### <strong> 3.1 numpy.random.Generator.shuffle()</strong>[12]\n",
    "The shuffle function takes an array and reorders the items in the list. It does this in place rather than make a copy in memory, this is slightly slower and loses the original order of the array."
   ]
  },
  {
   "cell_type": "markdown",
   "id": "6aa64e85-1c22-437a-a839-95867fbd0682",
   "metadata": {},
   "source": [
    "##### <strong>Example 3.1.1.</strong>Shuffle the value in a 1 dimension array.[13]"
   ]
  },
  {
   "cell_type": "code",
   "execution_count": 186,
   "id": "d26af84b-c6e1-4ff2-ba05-da417956b7af",
   "metadata": {},
   "outputs": [
    {
     "data": {
      "text/plain": [
       "array([0, 1, 2, 3, 4, 5, 6, 7, 8, 9])"
      ]
     },
     "execution_count": 186,
     "metadata": {},
     "output_type": "execute_result"
    }
   ],
   "source": [
    "rng = np.random.default_rng()\n",
    "\n",
    "#use the numpy arrange function to create an array of integers, in order from 0-9\n",
    "arr = np.arange(10)\n",
    "arr\n"
   ]
  },
  {
   "cell_type": "code",
   "execution_count": 187,
   "id": "d48e397e-368d-434b-80b2-9bea742e7913",
   "metadata": {},
   "outputs": [],
   "source": [
    "#shuffle the order of the array to create a new order.\n",
    "rng.shuffle(arr) #This does not return output -the shuffle occurs in place\n"
   ]
  },
  {
   "cell_type": "code",
   "execution_count": 188,
   "id": "dd61a651-0421-4d3a-abdb-ee7028fd32cf",
   "metadata": {},
   "outputs": [
    {
     "data": {
      "text/plain": [
       "array([5, 1, 9, 6, 4, 8, 7, 0, 3, 2])"
      ]
     },
     "execution_count": 188,
     "metadata": {},
     "output_type": "execute_result"
    }
   ],
   "source": [
    "arr #output the shuffled array"
   ]
  },
  {
   "cell_type": "markdown",
   "id": "6de6c9fb-14fe-42f3-8054-687743248a5e",
   "metadata": {},
   "source": [
    "##### <strong>Example 3.1.2.</strong> Shuffle the value in a 2 dimension array."
   ]
  },
  {
   "cell_type": "code",
   "execution_count": 189,
   "id": "d6ee6498-705d-4ad0-b090-7788d0dbbc56",
   "metadata": {},
   "outputs": [
    {
     "data": {
      "text/plain": [
       "array([[ 0,  1,  2,  3],\n",
       "       [ 4,  5,  6,  7],\n",
       "       [ 8,  9, 10, 11],\n",
       "       [12, 13, 14, 15]])"
      ]
     },
     "execution_count": 189,
     "metadata": {},
     "output_type": "execute_result"
    }
   ],
   "source": [
    "#Use the numpy arrange function to create an array of integers, in order from 0-15 an\n",
    "arr = np.arange(16).reshape((4, 4))\n",
    "arr\n"
   ]
  },
  {
   "cell_type": "code",
   "execution_count": 190,
   "id": "b44c1f5d-8c48-462a-bb0f-df9cd953ae7a",
   "metadata": {
    "tags": []
   },
   "outputs": [
    {
     "data": {
      "text/plain": [
       "array([[ 8,  9, 10, 11],\n",
       "       [12, 13, 14, 15],\n",
       "       [ 0,  1,  2,  3],\n",
       "       [ 4,  5,  6,  7]])"
      ]
     },
     "execution_count": 190,
     "metadata": {},
     "output_type": "execute_result"
    }
   ],
   "source": [
    "#use the shuffle function to shuffle the 4 arrays on axis 0 (default)\n",
    "rng.shuffle(arr)\n",
    "arr"
   ]
  },
  {
   "cell_type": "markdown",
   "id": "88fca7db-bdef-4ccd-8c5a-4a68f7bd450c",
   "metadata": {},
   "source": [
    "##### <strong>Example 3.1.3.</strong> Shuffle the value in a 2 dimension array on axis 1"
   ]
  },
  {
   "cell_type": "code",
   "execution_count": 193,
   "id": "eed718b0-5642-4823-82e4-6efd27973a88",
   "metadata": {},
   "outputs": [
    {
     "data": {
      "text/plain": [
       "array([[11,  9, 10,  8],\n",
       "       [15, 13, 14, 12],\n",
       "       [ 3,  1,  2,  0],\n",
       "       [ 7,  5,  6,  4]])"
      ]
     },
     "execution_count": 193,
     "metadata": {},
     "output_type": "execute_result"
    }
   ],
   "source": [
    "#using the same same array returned from example 2.1.2, shuffle the lists on axis, \n",
    "rng.shuffle(arr, axis=1)\n",
    "arr"
   ]
  },
  {
   "cell_type": "code",
   "execution_count": null,
   "id": "d5dd8f9f-9233-4880-9bfc-aeb6112bccdb",
   "metadata": {},
   "outputs": [],
   "source": []
  },
  {
   "cell_type": "markdown",
   "id": "9148e946-1650-4ee8-a772-1d74ba13d1a5",
   "metadata": {},
   "source": [
    "#### <strong>3.2 numpy.random.Generator.permutation()</strong> [14]\n",
    "##### The permuation function takes an array and reorders the items in the list and returns a copy of the array\n",
    "\n",
    "Permutation returns a value which can be assigned to a new variable."
   ]
  },
  {
   "cell_type": "markdown",
   "id": "7b189118-bf18-47ac-a571-2915e24d8e5b",
   "metadata": {},
   "source": [
    "##### <strong>Example 3.2.1</strong>Shuffle the value in a 1 dimension array."
   ]
  },
  {
   "cell_type": "code",
   "execution_count": 54,
   "id": "928c22df-fe02-4982-a678-5de5ff98e310",
   "metadata": {},
   "outputs": [
    {
     "data": {
      "text/plain": [
       "array([0, 1, 2, 3, 4, 5, 6, 7, 8, 9])"
      ]
     },
     "execution_count": 54,
     "metadata": {},
     "output_type": "execute_result"
    }
   ],
   "source": [
    "rng = np.random.default_rng()\n",
    "arr = np.arange(10)\n",
    "arr"
   ]
  },
  {
   "cell_type": "markdown",
   "id": "f9348612-35e7-4698-a8e5-9e1aed669c53",
   "metadata": {},
   "source": []
  },
  {
   "cell_type": "code",
   "execution_count": 55,
   "id": "734347d2-5147-465b-afdd-078b86734dda",
   "metadata": {},
   "outputs": [
    {
     "data": {
      "text/plain": [
       "array([9, 8, 0, 3, 6, 1, 7, 4, 2, 5])"
      ]
     },
     "execution_count": 55,
     "metadata": {},
     "output_type": "execute_result"
    }
   ],
   "source": [
    "rng.permutation(arr) #this returns output as a copy of the permuted array. "
   ]
  },
  {
   "cell_type": "code",
   "execution_count": 56,
   "id": "4a409ff5-aece-409f-aad6-eb033d962d01",
   "metadata": {},
   "outputs": [
    {
     "data": {
      "text/plain": [
       "array([0, 1, 2, 3, 4, 5, 6, 7, 8, 9])"
      ]
     },
     "execution_count": 56,
     "metadata": {},
     "output_type": "execute_result"
    }
   ],
   "source": [
    "arr # now print arr and see that it is unchanged and the permutation above is a copy which can be assigned to a variable"
   ]
  },
  {
   "cell_type": "code",
   "execution_count": 196,
   "id": "c39379ca-d1e0-46df-9456-3a8ee54ee035",
   "metadata": {
    "tags": []
   },
   "outputs": [],
   "source": [
    "x = np.arange(0, 15).reshape(3, 5)"
   ]
  },
  {
   "cell_type": "markdown",
   "id": "4b6908ef-e4dd-488c-a74f-0f56647a00bb",
   "metadata": {},
   "source": [
    "##### <strong>Example 3.2.2</strong> Permutation on the values of a 2 dimension array. 0 axis"
   ]
  },
  {
   "cell_type": "code",
   "execution_count": 197,
   "id": "a00cef1e-0d3d-47d1-92ea-1a6b16903c3f",
   "metadata": {},
   "outputs": [
    {
     "data": {
      "text/plain": [
       "array([[ 0,  1,  2,  3,  4],\n",
       "       [ 5,  6,  7,  8,  9],\n",
       "       [10, 11, 12, 13, 14]])"
      ]
     },
     "execution_count": 197,
     "metadata": {},
     "output_type": "execute_result"
    }
   ],
   "source": [
    "x"
   ]
  },
  {
   "cell_type": "markdown",
   "id": "6b02469f-9bb3-4d4d-b7fc-f741dc6a2b2b",
   "metadata": {},
   "source": [
    "###### The columns of the array have been rearranged"
   ]
  },
  {
   "cell_type": "code",
   "execution_count": 198,
   "id": "483301cd-1069-4711-9f9e-8954f40eed3c",
   "metadata": {
    "tags": []
   },
   "outputs": [
    {
     "data": {
      "text/plain": [
       "array([[10, 11, 12, 13, 14],\n",
       "       [ 5,  6,  7,  8,  9],\n",
       "       [ 0,  1,  2,  3,  4]])"
      ]
     },
     "execution_count": 198,
     "metadata": {},
     "output_type": "execute_result"
    }
   ],
   "source": [
    "rng.permutation(x, axis=0)"
   ]
  },
  {
   "cell_type": "markdown",
   "id": "3b193c4e-f305-4fec-ac4d-6ccbebc19113",
   "metadata": {},
   "source": [
    "##### <strong>Example 3.2.3</strong> Permutation on the values of a 2 dimension array. 1 axis"
   ]
  },
  {
   "cell_type": "code",
   "execution_count": 199,
   "id": "132f926a-5394-4b95-9541-81c2d6b0acbc",
   "metadata": {},
   "outputs": [],
   "source": [
    "###### The rows of the array have been rearranged"
   ]
  },
  {
   "cell_type": "code",
   "execution_count": 200,
   "id": "445b6327-94f3-4a9c-9370-ad42f08212ac",
   "metadata": {},
   "outputs": [
    {
     "data": {
      "text/plain": [
       "array([[ 0,  2,  4,  3,  1],\n",
       "       [ 5,  7,  9,  8,  6],\n",
       "       [10, 12, 14, 13, 11]])"
      ]
     },
     "execution_count": 200,
     "metadata": {},
     "output_type": "execute_result"
    }
   ],
   "source": [
    "rng.permutation(x, axis=1)"
   ]
  },
  {
   "cell_type": "markdown",
   "id": "1f5edf35-e975-4480-9856-6ab60372c317",
   "metadata": {},
   "source": [
    "#### <strong>3.3 numpy.random.Generator.permuted()</strong>"
   ]
  },
  {
   "cell_type": "code",
   "execution_count": 201,
   "id": "dac66056-bb60-48ca-92df-dff17ed77370",
   "metadata": {},
   "outputs": [
    {
     "data": {
      "text/plain": [
       "array([[ 0,  1,  2,  3,  4],\n",
       "       [ 5,  6,  7,  8,  9],\n",
       "       [10, 11, 12, 13, 14]])"
      ]
     },
     "execution_count": 201,
     "metadata": {},
     "output_type": "execute_result"
    }
   ],
   "source": [
    "x = np.arange(0, 15).reshape(3, 5)\n",
    "\n",
    "x"
   ]
  },
  {
   "cell_type": "markdown",
   "id": "e57d57f2-0c62-4aca-9756-1b696455dbc3",
   "metadata": {},
   "source": [
    "##### <strong>Example 2.3.1</strong> Permuted - axis = 0 "
   ]
  },
  {
   "cell_type": "code",
   "execution_count": 202,
   "id": "1a72b95b-abcd-479b-8f10-59ce799a0988",
   "metadata": {},
   "outputs": [],
   "source": [
    "y = rng.permuted(x,axis = 0 )\n",
    "\n"
   ]
  },
  {
   "cell_type": "code",
   "execution_count": 203,
   "id": "3c7a384f-fda4-4f80-874c-4745f866209d",
   "metadata": {},
   "outputs": [
    {
     "data": {
      "text/plain": [
       "array([[ 5,  6,  2,  3,  4],\n",
       "       [ 0,  1, 12, 13, 14],\n",
       "       [10, 11,  7,  8,  9]])"
      ]
     },
     "execution_count": 203,
     "metadata": {},
     "output_type": "execute_result"
    }
   ],
   "source": [
    "y"
   ]
  },
  {
   "cell_type": "markdown",
   "id": "44def35a-618b-4088-9be5-3a3fab4c3a51",
   "metadata": {},
   "source": [
    "##### <strong>Example 2.3.2</strong> Permuted - axis = 1 "
   ]
  },
  {
   "cell_type": "code",
   "execution_count": 204,
   "id": "bbf42cb9-7833-4f9c-adbc-0f1d69f0e478",
   "metadata": {
    "collapsed": true,
    "jupyter": {
     "outputs_hidden": true
    },
    "tags": []
   },
   "outputs": [
    {
     "data": {
      "text/plain": [
       "array([[ 2,  1,  3,  0,  4],\n",
       "       [ 9,  8,  5,  7,  6],\n",
       "       [11, 14, 13, 12, 10]])"
      ]
     },
     "execution_count": 204,
     "metadata": {},
     "output_type": "execute_result"
    }
   ],
   "source": [
    "y = rng.permuted(x,axis = 1 )\n",
    "\n",
    "y"
   ]
  },
  {
   "cell_type": "markdown",
   "id": "7733b254-996c-4c43-ba60-1282c76b7fd3",
   "metadata": {},
   "source": [
    "##### <strong>Example 3.3.2</strong> Permuted - no axis is parameter"
   ]
  },
  {
   "cell_type": "code",
   "execution_count": 205,
   "id": "4993f549-9da6-4245-a19c-3a58ce24eee3",
   "metadata": {
    "tags": []
   },
   "outputs": [],
   "source": [
    "y = rng.permuted(x)"
   ]
  },
  {
   "cell_type": "markdown",
   "id": "be39d192-5859-4dd7-a27f-090ed4b01705",
   "metadata": {},
   "source": [
    "###### The array is flattened, values are shuffled, and the array is returned in the same shape."
   ]
  },
  {
   "cell_type": "code",
   "execution_count": 206,
   "id": "a8849238-4b95-45ae-b856-6d6decffa7a5",
   "metadata": {},
   "outputs": [
    {
     "data": {
      "text/plain": [
       "array([[ 1,  0,  7,  3,  6],\n",
       "       [ 8,  2,  4,  5, 11],\n",
       "       [13, 10,  9, 12, 14]])"
      ]
     },
     "execution_count": 206,
     "metadata": {},
     "output_type": "execute_result"
    }
   ],
   "source": [
    "y"
   ]
  },
  {
   "cell_type": "code",
   "execution_count": 68,
   "id": "66159d78-f6ec-46e0-98ed-98f5e32e87cb",
   "metadata": {},
   "outputs": [],
   "source": [
    "#Add notes about axis for all permuations"
   ]
  },
  {
   "cell_type": "markdown",
   "id": "c0a3ee04-3c81-433d-9aac-c278e42b9ada",
   "metadata": {},
   "source": [
    "***\n",
    "***"
   ]
  },
  {
   "cell_type": "markdown",
   "id": "988b140e-5cdb-432f-85e6-f528fcade735",
   "metadata": {},
   "source": [
    "### <Strong>4. Distributions functions</Strong> "
   ]
  },
  {
   "cell_type": "code",
   "execution_count": 69,
   "id": "dc505c0c-0b7b-4cd8-be54-006a455a5ec8",
   "metadata": {},
   "outputs": [],
   "source": [
    "#https://www.datacamp.com/community/tutorials/probability-distributions-python"
   ]
  },
  {
   "cell_type": "markdown",
   "id": "debcd869-1d0b-4b47-b75b-fc40182b891a",
   "metadata": {
    "tags": []
   },
   "source": [
    "Data distribution in data science is born out probability in mathematics. Probability describes the likelihood of an event occurring. Possible events are unknown until they are tested.A random variable is  Probabilty is very useful in everyday life for inviduals and organisations: A walker may not take an umbrella out if it is likely to be sunny; an investor may not buy a certain stock if the likelihood is loss in value. Analysis testing by data scientists provide both the walker and investor with probabilities of the liklihood of respective events. [15],[16]\n",
    "\n",
    "In probablity a random variable is the measurement of a possible outcome of a test. For example, the the birthweight of a child. One birthweight would be one random variable. A probabiltiy distribution will determine the likely hood that the birthweight would occur between a set of any two birth weights [18],[19]\n",
    " \n",
    "### Discrete and Continous data random variables.\n",
    "\n",
    "Data in a dataset can be discrete or continous. \n",
    "\n",
    "Discrete data can only take certain values, for example,\n",
    "the number of students in a teaching group can only be an integer. Discrete values do not have to be integers, for example, the smallest common denomintor of the size milk sold in a shop could 0.5 litres so a dataset of units of milk sold could have the values [10,10.5,11,11.5 ...]. A definition of a discrete random variable: where \"Values constitute a finite or countably infinite set\" [18] They allow for the computation of the *probability mass function (PMF)* [19].  It allows for the calculation of any 'event' or combination of 'events' within the set.\n",
    "\n",
    "Continuous data is where the data can take any value, for example heights, temperature or weights. (Not to blur with the birthweight example above, a weight of course could be discrete or continous depending on the accuracy of measurment). The probabilty distribtion of continuous random variablee set is derived from the *probabiltiy density function* which in turn allows the Cumaltive Distribution Function to give probabilty between two possible random variables, for example the possiblity of an an event being lying between two points on the continouse plot (axis).[20]\n",
    "\n",
    "Continous data can sometimes be considered as discrete. For example, data set of salary values is continous, however, an analyst may choose to group salary values into discrete values for example, 20000-24999, 25000-29999, 30000-34999 etc.\n",
    "\n",
    "A data distribution is all values in a data set and how often they occur. [17] Named data distrubtions describe different relationships between values and occurences. The frequency of values can be represented in a histogram giving a frequency curve and can be plotted in python. \n",
    "\n",
    "However, different mathematical probability distributions map to real life scenarios. Data scientists can use these disribution to investigate data sets.\n",
    "\n",
    "The frequency of values can be represented in a histogram giving a frequency curve and can be plotted in python. In data science these are known as probability density plots.  The area below the curve represents the posiblity of an outcome, the sum of the area is all posibilities in the sample.\n",
    "\n",
    "Numpy generates distributions of random numbers based on the probability properties of each distribution.\n",
    "\n"
   ]
  },
  {
   "cell_type": "markdown",
   "id": "2af8ee54-b306-49b5-8d46-57500bebf15e",
   "metadata": {},
   "source": [
    "#### <strong> 3.1 numpy.random.Generator.uniform </strong> [21]"
   ]
  },
  {
   "cell_type": "markdown",
   "id": "09fc2d57-8f95-4de4-9129-24b66a628b30",
   "metadata": {},
   "source": [
    "A uniform distribution is where the probability of value occuring is equal for all values. Many of the  examples above have demonstrated uniform distribution where each value is as likely to occur as another(except choice which allowed us effect probability of a random value. \n",
    "\n",
    "The numbers output from the Generator.uniform between and upper an lower boundary is the same for each number. Outside the range the proablabitly is zero. [22]\n",
    "\n",
    "Visually the curve(shape) of this distribution is a rectangle as shown below.\n",
    "\n",
    "random.Generator.uniform(low=0.0, high=1.0, size=None)\n",
    "\n",
    "The numpy uniform distribution generator takes an upper and lower boundary of the value range. Size is the total number of values in the plot and can be an nd array passed as tuple.\n",
    "\n"
   ]
  },
  {
   "cell_type": "code",
   "execution_count": 216,
   "id": "e0af541b-cf7d-4931-afd6-03fa2a2bd0c8",
   "metadata": {},
   "outputs": [
    {
     "data": {
      "image/png": "[encoded data removed]",
      "text/plain": [
       "<Figure size 432x288 with 1 Axes>"
      ]
     },
     "metadata": {
      "needs_background": "light"
     },
     "output_type": "display_data"
    }
   ],
   "source": [
    "\n",
    "s = np.random.default_rng().uniform(-1,0,(1000))\n",
    "\n",
    "'''In this example because the upper and lower boundary are 1 and 0 respecively. The histogram has been drawn with 10 bins.\n",
    "The proablity is of an a value occuring in any particular bin is determined by the sum of its area beneath 1. In this case all bins\n",
    "sum to approximately 1.  \n",
    "''' [20]\n",
    "label = \"Plot 3.1.1 Histogram showing uniform distribution and its density curve\"\n",
    "#the density parameter shows the line of best fit or the curve of the distribution \n",
    "#- the density curve is a horizontal line in a uniform \n",
    "#count is the array, bins is the interval\n",
    "count, bins, ignored = plt.hist(s, 6, density=True)\n",
    "\n",
    "#np \n",
    "plt.plot(bins, np.ones_like(bins),  linewidth=2, color='r')\n",
    "plt.title(label,loc='center')\n",
    "plt.show()\n"
   ]
  },
  {
   "cell_type": "markdown",
   "id": "f9b5e59b-6290-471a-867a-935691c4f284",
   "metadata": {},
   "source": [
    "#### <strong> 3.1 numpy.random.Generator.normal</strong>"
   ]
  },
  {
   "cell_type": "markdown",
   "id": "4a77149b-a2a7-4884-91b6-eb400cb75f81",
   "metadata": {},
   "source": [
    "The normal distributon, also know as a Gaussian distribution, has most of of its values more likely ot occur close \n",
    "to the mean value, equal distribution on both sides of the mean. 68% of values fall within in one standard deviation\n",
    "from the mean and 95% within two standard deviations from the mean.\n",
    "#https://www.datacamp.com/community/tutorials/probability-distributions-python\n",
    "The standard deviation is the amount of dispersion from the mean of a population. (If the population is a \n",
    "sample then it is known as *sample standard deviation*). https://en.wikipedia.org/wiki/Standard_deviation\n",
    "\n",
    "It is calculated by\n",
    "Calculating the mean\n",
    "For each value subtract the mean and square the result to give variance\n",
    "find the mean of the squared values\n",
    "find the square root of the squared variance\n",
    "https://www.mathsisfun.com/data/standard-deviation-formulas.html"
   ]
  },
  {
   "cell_type": "markdown",
   "id": "d99df101-c4f1-4fe6-a9a7-bf65b8f234db",
   "metadata": {
    "tags": []
   },
   "source": []
  },
  {
   "cell_type": "markdown",
   "id": "5abbb767-d1ef-4d75-a95c-2dca3b6fcf99",
   "metadata": {
    "tags": []
   },
   "source": [
    "To create a sample with the normal function, the parameters, mean, scale or standard deviation, \n",
    "and size must be passed to the function\n",
    "np.random.default_rng().normal(loc, scale, size)\n",
    "\n",
    "In this example, the mean is taken to be 100, this means this the most frequent values will be\n",
    "very close to 100 and there will be approximately an equal number of vales above and below 100.\n",
    "The scale or standard deviation is set to 50, this means 68% of the values will be between 50 and 150.\n",
    "\n",
    "#https://numpy.org/doc/stable/reference/random/generated/numpy.random.Generator.normal.html#numpy.random.Generator.normal\n",
    "\n",
    "\n",
    "\n"
   ]
  },
  {
   "cell_type": "code",
   "execution_count": 91,
   "id": "8e532235-6157-430a-8edf-6543328c644f",
   "metadata": {},
   "outputs": [],
   "source": [
    "\n",
    "mu, sigma = 100, 50 # mean and standard deviation\n",
    "s = np.random.default_rng().normal(mu, sigma, 10000)\n",
    "\n",
    "label = \"Histogram showing normal distribution and its density curve\""
   ]
  },
  {
   "cell_type": "code",
   "execution_count": 92,
   "id": "6c21998c-80d7-4720-b63b-683f0bb44060",
   "metadata": {},
   "outputs": [
    {
     "data": {
      "text/plain": [
       "array([ 55.97684315,  78.11915687,   8.29570047, ...,  78.40737523,\n",
       "       174.97457071,  84.21132441])"
      ]
     },
     "execution_count": 92,
     "metadata": {},
     "output_type": "execute_result"
    }
   ],
   "source": [
    "abs(s)"
   ]
  },
  {
   "cell_type": "code",
   "execution_count": 93,
   "id": "939282f5-0c5d-4a90-b157-d955e2448b64",
   "metadata": {
    "tags": []
   },
   "outputs": [
    {
     "data": {
      "image/png": "[encoded data removed]",
      "text/plain": [
       "<Figure size 432x288 with 1 Axes>"
      ]
     },
     "metadata": {
      "needs_background": "light"
     },
     "output_type": "display_data"
    }
   ],
   "source": [
    "import matplotlib.pyplot as plt\n",
    "count, bins, ignored = plt.hist(s, 30, density=True) \n",
    "#the density parameter shows the line of best fit or the curve of the distribution \n",
    "#- the density curve\n",
    "plt.plot(bins, 1/(sigma * np.sqrt(2 * np.pi)) *\n",
    "               np.exp( - (bins - mu)**2 / (2 * sigma**2) ),\n",
    "         linewidth=2, color='r')\n",
    "\n",
    "plt.title(label,loc='center')\n",
    "plt.show()"
   ]
  },
  {
   "cell_type": "code",
   "execution_count": 94,
   "id": "78b1d52e-3579-47a5-b8c1-b21bc200b796",
   "metadata": {},
   "outputs": [
    {
     "data": {
      "text/plain": [
       "0.1183095072747733"
      ]
     },
     "execution_count": 94,
     "metadata": {},
     "output_type": "execute_result"
    }
   ],
   "source": [
    "abs(mu - np.mean(s))"
   ]
  },
  {
   "cell_type": "code",
   "execution_count": 95,
   "id": "ad6822b6-a526-402e-8c8e-71645cd00173",
   "metadata": {},
   "outputs": [
    {
     "data": {
      "text/plain": [
       "0.17105152409700963"
      ]
     },
     "execution_count": 95,
     "metadata": {},
     "output_type": "execute_result"
    }
   ],
   "source": [
    "abs(sigma - np.std(s, ddof=1))"
   ]
  },
  {
   "cell_type": "code",
   "execution_count": 96,
   "id": "1b1950fb-4e17-43c5-a526-924c0d2faf7c",
   "metadata": {},
   "outputs": [],
   "source": [
    "#to accurately calculate the probability in a normal distribution we can use the following code from Statckoverflow\n",
    "#In this case the point of interest is between two data points \n",
    "from scipy.stats import norm\n",
    "\n",
    "data_start = 60\n",
    "data_end = 80\n",
    "data_points = 21\n",
    "data = np.linspace(data_start, data_end, data_points)\n",
    "\n",
    "point_of_interest = 70\n",
    "#mu = np.mean(data)\n",
    "#sigma = np.std(data)                                   \n",
    "interval = (data_end - data_start) / (data_points - 1)\n",
    "probability = norm.pdf(point_of_interest, loc=mu, scale=sigma) * interval\n",
    "#https://stackoverflow.com/questions/12412895/how-to-calculate-probability-in-a-normal-distribution-given-mean-standard-devi"
   ]
  },
  {
   "cell_type": "code",
   "execution_count": 97,
   "id": "fe6cbb3a-4cd7-4111-a646-3b190c898394",
   "metadata": {},
   "outputs": [
    {
     "data": {
      "text/plain": [
       "0.006664492057835993"
      ]
     },
     "execution_count": 97,
     "metadata": {},
     "output_type": "execute_result"
    }
   ],
   "source": [
    "probability"
   ]
  },
  {
   "cell_type": "code",
   "execution_count": null,
   "id": "460f5ddf-4975-4d45-9451-c283ade1e506",
   "metadata": {},
   "outputs": [],
   "source": []
  },
  {
   "cell_type": "code",
   "execution_count": 98,
   "id": "09c6d1c9-ec60-4340-aaa4-744f7d709a70",
   "metadata": {},
   "outputs": [],
   "source": [
    "#### <strong> 3.3 numpy.random.Generator.exponential</strong>"
   ]
  },
  {
   "cell_type": "code",
   "execution_count": 99,
   "id": "596d4852-5201-45ee-9994-7e13bde2e5d1",
   "metadata": {
    "tags": []
   },
   "outputs": [],
   "source": [
    "#The exponential distribution is used for data with events and their time intervals, \n",
    "#for example the length of time before a product fails or the interval between bus arrivals.\n",
    "#The proablitity of an event occuring exponentially decreaes over time, the gradient of the curve is not prorportial but changes\n",
    "#from a rapid change to slow change over time.\n",
    "\n",
    "#the function requires rate\n",
    "\n",
    "#https://www.analyticsvidhya.com/blog/2017/09/6-probability-distributions-data-science/\n",
    "\n",
    "random.Generator.exponential(scale=1.0, size=None)\n",
    "#where scale is the inverse of the rate parameter, lamda, \n",
    "#the rate is plotted on the x axis and distance from 0 can be seen as time elapsed. distance between two points on the\n",
    "x axis is a time interval, for example .30 to 60 is could be between 30 minutes and 60 minutes since the start of an event.\n",
    "The area between the two points represents the probality of the event occuring between these two times. This is more difficult to \n",
    "estimate by just looking at the curve and a forumla is required"
   ]
  },
  {
   "cell_type": "code",
   "execution_count": 100,
   "id": "debcd93b-81bc-42ba-9ac4-be5551ead163",
   "metadata": {},
   "outputs": [],
   "source": [
    "rng = np.random.default_rng()"
   ]
  },
  {
   "cell_type": "code",
   "execution_count": 117,
   "id": "eb6d2e52-06f6-4c53-bb49-ca21c6abb8ad",
   "metadata": {
    "tags": []
   },
   "outputs": [],
   "source": [
    "s=rng.exponential(5,1000)"
   ]
  },
  {
   "cell_type": "code",
   "execution_count": 131,
   "id": "5886d1f3-3c22-41e2-adab-40a287e7e5f7",
   "metadata": {
    "tags": []
   },
   "outputs": [
    {
     "data": {
      "text/plain": [
       "<seaborn.axisgrid.FacetGrid at 0x20f5fa88700>"
      ]
     },
     "execution_count": 131,
     "metadata": {},
     "output_type": "execute_result"
    },
    {
     "data": {
      "image/png": "[encoded data removed]",
      "text/plain": [
       "<Figure size 360x360 with 1 Axes>"
      ]
     },
     "metadata": {
      "needs_background": "light"
     },
     "output_type": "display_data"
    }
   ],
   "source": [
    "import seaborn as sns\n",
    "sns.displot(s).set(title='Exponential distribution and its density curve')"
   ]
  },
  {
   "cell_type": "code",
   "execution_count": null,
   "id": "fae0d96a-bee9-49b2-870e-73fedc663538",
   "metadata": {},
   "outputs": [],
   "source": []
  },
  {
   "cell_type": "code",
   "execution_count": null,
   "id": "0035535f-34f2-4a68-84c8-e9cd34bee82f",
   "metadata": {},
   "outputs": [],
   "source": []
  },
  {
   "cell_type": "code",
   "execution_count": null,
   "id": "96eb26d8-10a2-4c9e-8c9e-1ff1e623f87e",
   "metadata": {},
   "outputs": [],
   "source": []
  },
  {
   "cell_type": "code",
   "execution_count": 85,
   "id": "b7ff6575-254e-4bc6-bce0-78dfde6408f4",
   "metadata": {},
   "outputs": [],
   "source": [
    "#https://www.statology.org/seaborn-title/"
   ]
  },
  {
   "cell_type": "markdown",
   "id": "7a9b7529-720b-4e4a-8c8d-5565869c3241",
   "metadata": {},
   "source": [
    "#### <strong> 3.3 numpy.random.Generator.binomial</strong>"
   ]
  },
  {
   "cell_type": "markdown",
   "id": "bf006a2c-2488-4b90-abe2-649cb2c1aa19",
   "metadata": {},
   "source": [
    "numpy.random.Generator.binomial\n",
    "https://www.w3schools.com/python/numpy/numpy_random_binomial.asp\n",
    "https://towardsdatascience.com/binomial-distribution-and-binomial-test-in-python-statistics-pyshark-91aa6403\n",
    "Binomial distribution is one of the most popular distributions in data science. It deals with the probability of success of an event which has only two possible outcomes in a series of independent expreiments \n",
    "https://towardsdatascience.com/binomial-distribution-and-binomial-test-in-python-statistics-pyshark-91aa6403d674\n",
    "Tossing a coin will always generate either heads or tails. (0 or 1). The binomial distribution can estimate the probability of the how many heads or tails will occur in sequece of coin tossing events.\n",
    "For example , if a coin was tossed 20 times, what is the probability that 7 of the tosses will be heads."
   ]
  },
  {
   "cell_type": "markdown",
   "id": "697b6550-c73f-40fa-9786-27478473b21e",
   "metadata": {},
   "source": [
    "numpy.random.Generator.binomial"
   ]
  },
  {
   "cell_type": "code",
   "execution_count": null,
   "id": "cc13049e-1aff-4d4c-9b24-0d501e0828ff",
   "metadata": {},
   "outputs": [],
   "source": [
    "In numpy the binomial function takes 3 parameters, n - the number of trials, p - the proablity of \n",
    "of an event occurring, size - the shape of the output array"
   ]
  },
  {
   "cell_type": "code",
   "execution_count": null,
   "id": "53cd2b37-59bc-4f68-897b-622116d78cd1",
   "metadata": {},
   "outputs": [],
   "source": [
    "numpy.random.Generator.binomial"
   ]
  },
  {
   "cell_type": "code",
   "execution_count": null,
   "id": "8bd54c27-f7ca-4e12-9d3c-4477bc07b397",
   "metadata": {},
   "outputs": [],
   "source": [
    "rng = np.random.default_rng()\n",
    "n, p = 20, .5  # number of trials, probability of each trial - .5 for flipping a coin\n",
    "s = rng.binomial(n, p, 10000)"
   ]
  },
  {
   "cell_type": "code",
   "execution_count": null,
   "id": "4a1bffc7-012d-4a44-ae8b-fe74aef4a66a",
   "metadata": {},
   "outputs": [],
   "source": [
    "#s"
   ]
  },
  {
   "cell_type": "markdown",
   "id": "8945dad0-4d0f-41ad-aa27-5c5d76d8d727",
   "metadata": {},
   "source": [
    "In the output array above, each value represents the number of times on of two possibilites occured, head or tails. "
   ]
  },
  {
   "cell_type": "code",
   "execution_count": null,
   "id": "f6a9a786-5588-455f-ba12-f3c839a1a633",
   "metadata": {},
   "outputs": [],
   "source": [
    "import seaborn as sns\n",
    "sns.displot(s).set(title='Points by Team')"
   ]
  },
  {
   "cell_type": "markdown",
   "id": "2783b2fb-19f9-4074-b9a5-df8ab3c5e781",
   "metadata": {},
   "source": [
    "The above plot shows an approximation to the normal distribution - except this is discrete distribution. The x axis shows how many times heads was shown during 20 trials. The y axis each number of successes occured in 10,000 experments\n",
    "https://www.statology.org/binomial-distribution-python/"
   ]
  },
  {
   "cell_type": "code",
   "execution_count": null,
   "id": "7bd568b6-9d1f-4ed6-bb6c-70b75ad315ea",
   "metadata": {},
   "outputs": [],
   "source": [
    "The probability can be calculated by calculating the mean "
   ]
  },
  {
   "cell_type": "code",
   "execution_count": null,
   "id": "cc7e62cd-3fb7-4e23-a326-52f4848663bb",
   "metadata": {},
   "outputs": [],
   "source": [
    "(sum(rng.binomial(n, .5, 10000) == 15)/10000) * 100"
   ]
  },
  {
   "cell_type": "code",
   "execution_count": null,
   "id": "cb5ec30f-f068-4c0a-806b-14840c096e5a",
   "metadata": {},
   "outputs": [],
   "source": [
    "z = np.random.default_rng().geometric(p=0.50, size=10000)"
   ]
  },
  {
   "cell_type": "code",
   "execution_count": null,
   "id": "563c99ba-b201-4bfa-8a3d-b222f9a3854f",
   "metadata": {},
   "outputs": [],
   "source": [
    "count, bins, ignored = plt.hist(z, 100, density=False)\n",
    "\n",
    "#np \n",
    "plt.plot(bins, np.ones_like(bins))\n",
    "#plt.title(label,loc='center')\n",
    "plt.show()"
   ]
  },
  {
   "cell_type": "code",
   "execution_count": null,
   "id": "1c332ea7-caf7-4b16-8a31-7439003de6ea",
   "metadata": {},
   "outputs": [],
   "source": []
  },
  {
   "cell_type": "markdown",
   "id": "24e0154b-4e34-4409-966a-6a8a346a639c",
   "metadata": {},
   "source": [
    "### <Strong>4. Seeds and Pseudo Random number generation.</Strong>\n",
    "Explain the use of seeds in generating pseudorandom numbers..."
   ]
  },
  {
   "cell_type": "markdown",
   "id": "b10d5cd8-922b-4648-98af-c387b5f18c03",
   "metadata": {},
   "source": [
    "Above it has been shown that data can form patterns of distribution, for example looking at the life expectancy of light bulbs, a sample of 1,000 may show a normal distribution, taking this sample is known as an experiment. Knowing this we can simulate a normal distribution using random numbers rather than collecting this\n",
    "data sample. The Numpy normal distribution function takes 3 paramenters, **np.random.default_rng().normal(mu, sigma, size)**. The mean, standard deviation and sample size can be taken from the real experiment distribution and used to *simulate* the experiment with random data. \n",
    "#https://www.jigsawacademy.com/random-numbers-applications/\n",
    "Modelling is where the  proablity inputs of a simulation can be varied to predict outcomes if the inputs were changed in real life. "
   ]
  },
  {
   "cell_type": "markdown",
   "id": "7f479873-2f43-400e-bc02-db3333fe5d84",
   "metadata": {},
   "source": [
    "If analysts want to repeat the experiment with the same set of data but different probability variables to make like comparisons , they will need to ensure that the data in the test sample originates from the same set of random numbers. In computing random numbers are generated using an alogrithm and are not truly random numbers because based on the alogrithm they will eventually repeat. This is useful to repeat sets of random numbers if the *seed* of the for provided to the random generator, where in the sequence of of numbers the the sample will start. If random number generation was never seeded on computers the starting point would always be the start of the sequence of the algorimthm. Random numbers generators will often have a default seed which will would be for example a measure of time in milliseconds from the system clock. Numpy.random.generator will transform the seed of bits into an array and into a probability distsribution if required.\n"
   ]
  },
  {
   "cell_type": "code",
   "execution_count": null,
   "id": "e9bf0ae0-c9ab-4ba8-9b34-2a418dcebc1f",
   "metadata": {},
   "outputs": [],
   "source": [
    "One of the most importan featurs of an rng is its period. The maximum number of digits before the sequence is repeated.\n",
    "https://www.nag.com/numeric/mb/nagdoc_mb/manual_25_1/html/g05/g05intro.html\n",
    "    "
   ]
  },
  {
   "cell_type": "code",
   "execution_count": null,
   "id": "0a195c1d-3b08-497d-a386-b0b15ba10678",
   "metadata": {},
   "outputs": [],
   "source": []
  },
  {
   "cell_type": "markdown",
   "id": "9dccf190-5f22-4b89-8c19-0a038c5c2a8c",
   "metadata": {},
   "source": [
    "Seeds can be passed to any computer random number generator. The default bitgenerator for the latest version of numpy.random is the PCG64 bitgenerator."
   ]
  },
  {
   "cell_type": "code",
   "execution_count": null,
   "id": "29190a61-ec6e-44c4-8b05-24049babb5e0",
   "metadata": {},
   "outputs": [],
   "source": []
  },
  {
   "cell_type": "markdown",
   "id": "dfe25b03-f0c6-4153-97cd-e36a7f77da4c",
   "metadata": {
    "tags": []
   },
   "source": []
  },
  {
   "cell_type": "markdown",
   "id": "877b3a5c-b34b-446e-8895-fa8a3c7760a9",
   "metadata": {},
   "source": [
    "for example:"
   ]
  },
  {
   "cell_type": "code",
   "execution_count": 73,
   "id": "dc798923-574a-498f-a2fb-b78d6daf2883",
   "metadata": {},
   "outputs": [
    {
     "data": {
      "text/plain": [
       "array([-0.51799658,  1.84864233, -1.37638431, -0.22363064, -0.31477341,\n",
       "       -2.02620855,  0.02753136, -0.97733793, -1.13322549, -0.16873566])"
      ]
     },
     "execution_count": 73,
     "metadata": {},
     "output_type": "execute_result"
    }
   ],
   "source": [
    "#initiate \n",
    "rng = np.random.default_rng()\n",
    "vals = rng.standard_normal(10)#generates a random sequence of number based on the normal distribution.\n",
    "\n",
    "vals\n"
   ]
  },
  {
   "cell_type": "code",
   "execution_count": null,
   "id": "c02e5ac4-6fc4-4c6e-9308-e9fef5c44aaa",
   "metadata": {},
   "outputs": [],
   "source": [
    "Demonstrate the default bitgenerator is PCG64"
   ]
  },
  {
   "cell_type": "code",
   "execution_count": 76,
   "id": "d45e132a-32f0-4b9a-9ea2-3edf1655894d",
   "metadata": {},
   "outputs": [
    {
     "data": {
      "text/plain": [
       "Generator(PCG64) at 0x1A405DCEAC0"
      ]
     },
     "execution_count": 76,
     "metadata": {},
     "output_type": "execute_result"
    }
   ],
   "source": [
    "rng# demon"
   ]
  },
  {
   "cell_type": "code",
   "execution_count": 74,
   "id": "7fc0df91-1276-4901-b4f4-dd9ea296e137",
   "metadata": {},
   "outputs": [],
   "source": [
    "#Demonstrate passing a seed and getting the same data and getting the same data back. digits  0 - 100 return 3"
   ]
  },
  {
   "cell_type": "code",
   "execution_count": 87,
   "id": "eb3e01ac-3157-4131-b66b-2a7f2207d07b",
   "metadata": {},
   "outputs": [
    {
     "data": {
      "text/plain": [
       "array([84, 90, 79], dtype=int64)"
      ]
     },
     "execution_count": 87,
     "metadata": {},
     "output_type": "execute_result"
    }
   ],
   "source": [
    "\n",
    "rng = np.random.default_rng(12121)\n",
    "rints = rng.integers(low=0, high=100, size=3)\n",
    "rints"
   ]
  },
  {
   "cell_type": "code",
   "execution_count": 88,
   "id": "591ef866-5516-4eb2-8006-7da026929f0d",
   "metadata": {},
   "outputs": [
    {
     "data": {
      "text/plain": [
       "array([84, 90, 79], dtype=int64)"
      ]
     },
     "execution_count": 88,
     "metadata": {},
     "output_type": "execute_result"
    }
   ],
   "source": [
    "rng = np.random.default_rng(12121)# same seed, same array returned!\n",
    "rints = rng.integers(low=0, high=100, size=3)\n",
    "rints"
   ]
  },
  {
   "cell_type": "code",
   "execution_count": null,
   "id": "46ed8ac5-fa8e-4578-8a97-af5c1561b0f6",
   "metadata": {},
   "outputs": [],
   "source": [
    "https://numpy.org/doc/stable/reference/random/bit_generators/index.html#seeding-and-entropy"
   ]
  },
  {
   "cell_type": "code",
   "execution_count": null,
   "id": "ad2cf007-9d95-4264-978c-69d6e81bf2a2",
   "metadata": {},
   "outputs": [],
   "source": [
    "Seeding and Entropy\n",
    "https://numpy.org/doc/stable/reference/random/bit_generators/index.html#seeding-and-entropy\n",
    "    \n",
    "    "
   ]
  },
  {
   "cell_type": "code",
   "execution_count": null,
   "id": "cc4c57de-ae5b-4df7-8561-568b28edf351",
   "metadata": {},
   "outputs": [],
   "source": [
    "#Numpy.random can uses SeedSeququence() to create a seed and replicate it. In fact this is good practice, whilst seeding with an array of digits is OK,\n"
   ]
  },
  {
   "cell_type": "code",
   "execution_count": null,
   "id": "b1cd02db-f247-4937-835c-019f420a9417",
   "metadata": {},
   "outputs": [],
   "source": [
    "#determine sequence for the seed\n",
    "sq1 = np.random.SeedSequence()\n",
    "#capture that 'entropy' with entropy\n",
    "\n",
    "sq1.entropy"
   ]
  },
  {
   "cell_type": "code",
   "execution_count": null,
   "id": "ec4031df-19ea-459d-8a5c-6455f4516367",
   "metadata": {},
   "outputs": [],
   "source": []
  },
  {
   "cell_type": "markdown",
   "id": "b5ed058b-d8c9-4028-b7a2-7772239a1db3",
   "metadata": {},
   "source": []
  },
  {
   "cell_type": "markdown",
   "id": "209962e6-a911-47c1-964b-135e62352749",
   "metadata": {
    "tags": []
   },
   "source": [
    "\n"
   ]
  },
  {
   "cell_type": "code",
   "execution_count": 101,
   "id": "24c964ef-1881-4aee-be3e-3429e6e0e839",
   "metadata": {},
   "outputs": [
    {
     "data": {
      "text/plain": [
       "array([3091930756, 3187315531,  117613937,  869135688, 2626568673,\n",
       "       4215731415,  441924228, 1497861698,  219140096, 3736700104],\n",
       "      dtype=uint32)"
      ]
     },
     "execution_count": 101,
     "metadata": {},
     "output_type": "execute_result"
    }
   ],
   "source": [
    "#Create a new random seed using that entropy\n",
    "sq2 = np.random.SeedSequence(sq1.entropy)\n",
    "np.all(sq1.generate_state(10) == sq2.generate_state(10))\n",
    "#use the generate _state method to get a 10 number arry from the sequence1\n",
    "sq1.generate_state(10)"
   ]
  },
  {
   "cell_type": "code",
   "execution_count": 102,
   "id": "880e4d17-de75-4380-bd82-1059c01d1f2d",
   "metadata": {},
   "outputs": [
    {
     "data": {
      "text/plain": [
       "array([3091930756, 3187315531,  117613937,  869135688, 2626568673,\n",
       "       4215731415,  441924228, 1497861698,  219140096, 3736700104],\n",
       "      dtype=uint32)"
      ]
     },
     "execution_count": 102,
     "metadata": {},
     "output_type": "execute_result"
    }
   ],
   "source": [
    "#use generate state to get the same array from sequence two.\n",
    "sq2.generate_state(10)\n"
   ]
  },
  {
   "cell_type": "markdown",
   "id": "37b509c4-9556-49cc-a108-e603862c7f40",
   "metadata": {},
   "source": [
    "Prior to Numpy 1.17 a the Mercene Twister algorithm bit generator was used. The current default bit generator for np.random.default_rng() is the  PCG64 bit generator.\n",
    "PCG64 means Permuted Cogruential Generator.\n",
    "The PCG family of generators are very fast compared to previous generator, the use relatively less code (small size) and more unpredictable.\n",
    "# https://www.pcg-random.org/index.html\n",
    "Random number generators have two prinple functions, the transition state function and the utput function. The Tranistion state function 'Governs how the RNG's internal state changes every time you ask for a random number' and the i.e. using based on the algorithm using internal processes to prepare for the next number generation. The Output function turns the internal state into a number. Unlike other generators' state transisition functions, PCGs use a Linear Congruential Generator which properties are good for this purpose. The PCG output functions use *permutation functions on tuples* or has functions which add another level of randomness to the internal state, which makes PCGs even less predicatble. In PGC The *Permuted* comes from the output function and *Congruential Generator* transiton state function emphasising the importance of these functions in the strenght of PNGs.\n",
    "\n",
    "PGN64\n",
    "The numpy PCG64 is based on Melissa O'Neill's Permutation Congruential Generator https://www.cs.hmc.edu/tr/hmc-cs-2014-0905.pdf. As described above, the output from the transition state function is passed to a permuted functions. The algoritm in this case is applied to 64 bit sequences and periods of and 2\n",
    "<sup>128</sup>."
   ]
  },
  {
   "cell_type": "code",
   "execution_count": 103,
   "id": "383aecb7-5e6f-4c58-aa9d-9b72fb97dbae",
   "metadata": {},
   "outputs": [],
   "source": []
  },
  {
   "cell_type": "code",
   "execution_count": null,
   "id": "a491cf1d-77db-4498-a283-2ab4b8458ce8",
   "metadata": {},
   "outputs": [],
   "source": [
    "\n"
   ]
  },
  {
   "cell_type": "code",
   "execution_count": 106,
   "id": "61593448-763a-48b7-ac31-fd36dc65da9c",
   "metadata": {},
   "outputs": [
    {
     "ename": "SyntaxError",
     "evalue": "invalid syntax (<ipython-input-106-6dd935bda4c2>, line 1)",
     "output_type": "error",
     "traceback": [
      "\u001b[1;36m  File \u001b[1;32m\"<ipython-input-106-6dd935bda4c2>\"\u001b[1;36m, line \u001b[1;32m1\u001b[0m\n\u001b[1;33m    Permuted congruential generator\u001b[0m\n\u001b[1;37m             ^\u001b[0m\n\u001b[1;31mSyntaxError\u001b[0m\u001b[1;31m:\u001b[0m invalid syntax\n"
     ]
    }
   ],
   "source": [
    "\n",
    "\n",
    "\n",
    "\n"
   ]
  },
  {
   "cell_type": "code",
   "execution_count": null,
   "id": "d24553d0-27c2-4010-b94b-ddeefdf22892",
   "metadata": {},
   "outputs": [],
   "source": []
  }
 ],
 "metadata": {
  "kernelspec": {
   "display_name": "Python 3",
   "language": "python",
   "name": "python3"
  },
  "language_info": {
   "codemirror_mode": {
    "name": "ipython",
    "version": 3
   },
   "file_extension": ".py",
   "mimetype": "text/x-python",
   "name": "python",
   "nbconvert_exporter": "python",
   "pygments_lexer": "ipython3",
   "version": "3.8.8"
  }
 },
 "nbformat": 4,
 "nbformat_minor": 5
}
